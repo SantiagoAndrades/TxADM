{
 "cells": [
  {
   "cell_type": "markdown",
   "metadata": {
    "pycharm": {
     "name": "#%% md\n"
    },
    "slideshow": {
     "slide_type": "slide"
    }
   },
   "source": [
    "## Gestionando la ausencia de datos\n",
    "\n",
    "Ocurre con frecuencia que disponemos de catálogos de datos donde hay muestras incompletas.\n",
    "Por ejemplo, los datos obtenidos a partir de encuestas donde se registran preguntas sin responder o sensores que no proporcionan ningún valor viable, etc.\n",
    "\n",
    "**Hay que aceptarlo y saber gestionarlo**\n",
    "\n",
    "```Pandas``` asigna el valor o el código NaN (Not a Number) a los valores desconocidos. Más especificamente, los objetos son designados como: None y las fechas como NaT.\n",
    "\n",
    "Las operaciones que involucren este tipo de datos internamente han de manejar los correspondientes códigos: NaN, None o NaT. ¿Cómo afecta un NaN a una media aritmética?\n",
    "\n",
    "En este capítulo trabajaremos con esta típología de valores.\n"
   ]
  },
  {
   "cell_type": "code",
   "execution_count": 67,
   "metadata": {},
   "outputs": [
    {
     "name": "stdout",
     "output_type": "stream",
     "text": [
      "[ 1.  2. nan  4.  5.  6. nan  8.]\n",
      "nan\n"
     ]
    }
   ],
   "source": [
    "# Y finalmente,  podemos asignar y usar nans\n",
    "import numpy as np\n",
    "datos = np.array([1,2,np.nan,4,5,6,np.nan,8])\n",
    "print(datos)\n",
    "\n",
    "print(datos.mean())\n"
   ]
  },
  {
   "cell_type": "code",
   "execution_count": 68,
   "metadata": {
    "pycharm": {
     "name": "#%%\n"
    }
   },
   "outputs": [],
   "source": [
    "import pandas as pd"
   ]
  },
  {
   "cell_type": "code",
   "execution_count": 69,
   "metadata": {
    "pycharm": {
     "name": "#%%\n"
    },
    "slideshow": {
     "slide_type": "slide"
    }
   },
   "outputs": [
    {
     "name": "stdout",
     "output_type": "stream",
     "text": [
      "       Country  Urban_population_growth\n",
      "0  Afghanistan                     5.44\n",
      "1      Albania                     2.21\n",
      "2      Algeria                     2.61\n",
      "3      Andorra                      NaN\n",
      "4       Angola                     4.14\n"
     ]
    }
   ],
   "source": [
    "#Empezamos cargando datos: who.csv con 358 columnas!\n",
    "df = pd.read_csv(\"data/who.csv\")\n",
    "df = df[[\"Country\",df.columns[-2]]]\n",
    "print(df[:5])"
   ]
  },
  {
   "cell_type": "code",
   "execution_count": 66,
   "metadata": {
    "pycharm": {
     "name": "#%%\n"
    },
    "slideshow": {
     "slide_type": "fragment"
    }
   },
   "outputs": [
    {
     "name": "stdout",
     "output_type": "stream",
     "text": [
      "       Country  Urban_population_growth\n",
      "0  Afghanistan                     5.44\n",
      "1      Albania                     2.21\n",
      "2      Algeria                     2.61\n",
      "3      Andorra                      NaN\n",
      "4       Angola                     4.14\n"
     ]
    }
   ],
   "source": [
    "# Como ya sabéis através de la API se puede obtener una descripción más detallada de las posibilidades de cada método de Python, y en especial\n",
    "# de los métodos de Pandas. \n",
    "# Para cargar un fichero de tamaño elevado es recomendable cargar aquellos atributos que nos interesen desde un principio usando el argumento: usecols\n",
    "# https://pandas.pydata.org/pandas-docs/stable/reference/api/pandas.read_csv.html\n",
    "df = pd.read_csv(\"data/who.csv\", usecols=[\"Country\",\"Urban_population_growth\"])\n",
    "print(df[:5])"
   ]
  },
  {
   "cell_type": "code",
   "execution_count": 71,
   "metadata": {},
   "outputs": [
    {
     "data": {
      "text/plain": [
       "Country                     0\n",
       "Urban_population_growth    14\n",
       "dtype: int64"
      ]
     },
     "execution_count": 71,
     "metadata": {},
     "output_type": "execute_result"
    }
   ],
   "source": [
    "# ¿Qué valor corresponde a un NA del dataframe?\n",
    "# https://pandas.pydata.org/docs/reference/api/pandas.DataFrame.isna.html\n",
    "df.isna().sum()"
   ]
  },
  {
   "cell_type": "code",
   "execution_count": 72,
   "metadata": {
    "pycharm": {
     "name": "#%%\n"
    },
    "slideshow": {
     "slide_type": "slide"
    }
   },
   "outputs": [
    {
     "name": "stdout",
     "output_type": "stream",
     "text": [
      "Index(['Urban_population_growth'], dtype='object')\n",
      "------------------------------\n",
      "Country                    False\n",
      "Urban_population_growth     True\n",
      "dtype: bool\n"
     ]
    }
   ],
   "source": [
    "#¿Qué columnas tienen datos sin valor: NaN, NaT, None?\n",
    "# https://pandas.pydata.org/docs/reference/api/pandas.DataFrame.any.html\n",
    "\n",
    "print(df.columns[df.isna().any()])\n",
    "\n",
    "# Equivale a preguntar si ¿existe algún valor positivo dentro de esas series?\n",
    "print(\"-\"*30)\n",
    "print(df.isna().any())"
   ]
  },
  {
   "cell_type": "code",
   "execution_count": 31,
   "metadata": {
    "pycharm": {
     "name": "#%%\n"
    },
    "slideshow": {
     "slide_type": "fragment"
    }
   },
   "outputs": [
    {
     "name": "stdout",
     "output_type": "stream",
     "text": [
      "   Country  Urban_population_growth\n",
      "0    False                    False\n",
      "1    False                    False\n",
      "2    False                    False\n",
      "3    False                     True\n",
      "4    False                    False\n"
     ]
    }
   ],
   "source": [
    "#No dudéis en ejecutar \"partes\" (dividamos la instrucción para comprenderla)\n",
    "print(df.isna()[:5])"
   ]
  },
  {
   "cell_type": "code",
   "execution_count": 11,
   "metadata": {},
   "outputs": [
    {
     "data": {
      "text/plain": [
       "Country                    202\n",
       "Urban_population_growth    188\n",
       "dtype: int64"
      ]
     },
     "execution_count": 11,
     "metadata": {},
     "output_type": "execute_result"
    }
   ],
   "source": [
    "#¿Cuántas muestras son correctas? \n",
    "df.notna().sum()\n",
    "# https://pandas.pydata.org/docs/reference/api/pandas.DataFrame.notna.html\n",
    "# y de cuantas muestras?\n"
   ]
  },
  {
   "cell_type": "code",
   "execution_count": 13,
   "metadata": {},
   "outputs": [
    {
     "data": {
      "text/plain": [
       "Country                    202\n",
       "Urban_population_growth    188\n",
       "dtype: int64"
      ]
     },
     "execution_count": 13,
     "metadata": {},
     "output_type": "execute_result"
    }
   ],
   "source": [
    "df.notnull().sum() #ambas funcionas son equivalentes en Pandas, no en numpy"
   ]
  },
  {
   "cell_type": "markdown",
   "metadata": {},
   "source": [
    "### Tratando la ausencia de datos\n",
    "- Ignorando: \"Hay X muestras válidas de tantas\"\n",
    "- Rellenando: reemplazar muestras desconocidas por otros valores: media, valor neutro, etc."
   ]
  },
  {
   "cell_type": "code",
   "execution_count": 39,
   "metadata": {
    "pycharm": {
     "name": "#%%\n"
    },
    "slideshow": {
     "slide_type": "slide"
    }
   },
   "outputs": [
    {
     "name": "stdout",
     "output_type": "stream",
     "text": [
      "       Country  Urban_population_growth\n",
      "0  Afghanistan                     5.44\n",
      "1      Albania                     2.21\n",
      "2      Algeria                     2.61\n",
      "3      Andorra                     0.00\n",
      "4       Angola                     4.14\n"
     ]
    }
   ],
   "source": [
    "#La manera más optima de remplazar estos valores es con la función: fillna\n",
    "print(df.fillna(0)[:5])\n"
   ]
  },
  {
   "cell_type": "code",
   "execution_count": 14,
   "metadata": {
    "pycharm": {
     "name": "#%%\n"
    },
    "slideshow": {
     "slide_type": "fragment"
    }
   },
   "outputs": [],
   "source": [
    "# Si queremos que nuestra variable de dataframe contenga dichas asignaciones recordad asignar la operación a la variable pertinente o a una nueva\n",
    "df = df.fillna(0) "
   ]
  },
  {
   "cell_type": "markdown",
   "metadata": {
    "pycharm": {
     "name": "#%% md\n"
    },
    "slideshow": {
     "slide_type": "slide"
    }
   },
   "source": [
    "### Maneras de rellenar una serie con datos NA\n",
    "\n",
    "Cuando los dataframes contienen números la operabildad con valores perdidos puede gestionarse de manera más eficiente. Pongamos un ejemplo:"
   ]
  },
  {
   "cell_type": "code",
   "execution_count": 73,
   "metadata": {
    "pycharm": {
     "name": "#%%\n"
    },
    "slideshow": {
     "slide_type": "slide"
    }
   },
   "outputs": [
    {
     "name": "stdout",
     "output_type": "stream",
     "text": [
      "        one       two     three\n",
      "a  0.883893  0.195865  0.357537\n",
      "b -2.343262 -1.084833  0.559696\n",
      "c  0.939469 -0.978481  0.503097\n",
      "d  0.406414  0.323461 -0.493411\n",
      "e -0.792017 -0.842368 -1.279503\n"
     ]
    }
   ],
   "source": [
    "import numpy as np\n",
    "\n",
    "np.random.seed(20)\n",
    "\n",
    "#Creamos un dataframe \n",
    "df = pd.DataFrame(np.random.randn(5, 3), \n",
    "                     index=['a', 'b', 'c', 'd', 'e'],\n",
    "                     columns=['one', 'two', 'three'])\n",
    "print(df)"
   ]
  },
  {
   "cell_type": "code",
   "execution_count": 74,
   "metadata": {
    "pycharm": {
     "name": "#%%\n"
    },
    "slideshow": {
     "slide_type": "slide"
    }
   },
   "outputs": [
    {
     "name": "stdout",
     "output_type": "stream",
     "text": [
      "        one       two     three\n",
      "a  0.883893  0.195865  0.357537\n",
      "b -2.343262       NaN  0.559696\n",
      "c  0.939469       NaN  0.503097\n",
      "d  0.406414  0.323461 -0.493411\n",
      "e -0.792017       NaN -1.279503\n"
     ]
    }
   ],
   "source": [
    "#Creamos valores NaN para testear \n",
    "df.two[df.two<0]=np.nan\n",
    "print(df)"
   ]
  },
  {
   "cell_type": "markdown",
   "metadata": {
    "pycharm": {
     "name": "#%% md\n"
    },
    "slideshow": {
     "slide_type": "slide"
    }
   },
   "source": [
    "Podemos usar ```fillna``` para rellenar de diversas maneras la serie o series. Por ejemplo, usando una operación de agregación como la media"
   ]
  },
  {
   "cell_type": "code",
   "execution_count": 21,
   "metadata": {
    "pycharm": {
     "name": "#%%\n"
    }
   },
   "outputs": [
    {
     "name": "stdout",
     "output_type": "stream",
     "text": [
      "        one       two     three\n",
      "a  0.883893  0.195865  0.357537\n",
      "b -2.343262       NaN  0.559696\n",
      "c  0.939469       NaN  0.503097\n",
      "d  0.406414  0.323461 -0.493411\n",
      "e -0.792017       NaN -1.279503\n",
      "---------------------------------\n",
      "        one       two     three\n",
      "a  0.883893  0.195865  0.357537\n",
      "b -2.343262  0.259663  0.559696\n",
      "c  0.939469  0.259663  0.503097\n",
      "d  0.406414  0.323461 -0.493411\n",
      "e -0.792017  0.259663 -1.279503\n"
     ]
    }
   ],
   "source": [
    "print(df)\n",
    "print(\"-\"*33)\n",
    "print(df.fillna(df.mean()))"
   ]
  },
  {
   "cell_type": "code",
   "execution_count": 30,
   "metadata": {
    "pycharm": {
     "name": "#%%\n"
    }
   },
   "outputs": [
    {
     "name": "stdout",
     "output_type": "stream",
     "text": [
      "        one       two     three\n",
      "a  0.883893  0.195865  0.357537\n",
      "b -2.343262      HOLA  0.559696\n",
      "c  0.939469      HOLA  0.503097\n",
      "d  0.406414  0.323461 -0.493411\n",
      "e -0.792017      HOLA -1.279503\n",
      "---------------------------------\n",
      "        one       two     three\n",
      "a  0.883893  0.195865  0.357537\n",
      "b -2.343262  0.883893  0.559696\n",
      "c  0.939469  0.883893  0.503097\n",
      "d  0.406414  0.323461 -0.493411\n",
      "e -0.792017  0.883893 -1.279503\n"
     ]
    }
   ],
   "source": [
    "#Con un valor en concreto del propio dataframe\n",
    "print(df.fillna(\"HOLA\"))\n",
    "print(\"-\"*33)\n",
    "print(df.fillna(df.loc[\"a\", [\"one\"]].values[0]))"
   ]
  },
  {
   "cell_type": "markdown",
   "metadata": {
    "pycharm": {
     "name": "#%% md\n"
    },
    "slideshow": {
     "slide_type": "slide"
    }
   },
   "source": [
    "#### Podemos rellenar con datos interpolados\n",
    "\n",
    "En la documentación vemos una serie de ejemplos: [Interpolate](https://pandas.pydata.org/pandas-docs/stable/reference/api/pandas.Series.interpolate.html)"
   ]
  },
  {
   "cell_type": "code",
   "execution_count": 38,
   "metadata": {
    "pycharm": {
     "name": "#%%\n"
    }
   },
   "outputs": [
    {
     "name": "stdout",
     "output_type": "stream",
     "text": [
      "        one       two     three\n",
      "a  0.883893  0.195865  0.357537\n",
      "b -2.343262       NaN  0.559696\n",
      "c  0.939469       NaN  0.503097\n",
      "d  0.406414  0.323461 -0.493411\n",
      "e -0.792017       NaN -1.279503\n",
      "-----------------------------------\n",
      "        one       two     three\n",
      "a  0.883893  0.195865  0.357537\n",
      "b -2.343262  0.238397  0.559696\n",
      "c  0.939469  0.280929  0.503097\n",
      "d  0.406414  0.323461 -0.493411\n",
      "e -0.792017  0.323461 -1.279503\n"
     ]
    }
   ],
   "source": [
    "print(df)\n",
    "print(\"-\"*35)\n",
    "print(df.interpolate())"
   ]
  },
  {
   "cell_type": "code",
   "execution_count": 53,
   "metadata": {},
   "outputs": [
    {
     "name": "stdout",
     "output_type": "stream",
     "text": [
      "        one       two     three\n",
      "a  0.883893  0.195865  0.357537\n",
      "b -2.343262 -0.891783  0.559696\n",
      "c  0.939469  0.721283  0.503097\n",
      "d  0.406414  0.323461 -0.493411\n",
      "e -0.792017 -1.035760 -1.279503\n",
      "----------------------------------------------------------------------\n",
      "-0.8917828081181468\n"
     ]
    }
   ],
   "source": [
    "print(df.interpolate(axis=1)) # Tomemos como referencia el valor NA de (b,\"two\")\n",
    "print(\"--\"*35)\n",
    "print(df.mean(axis=1).b)"
   ]
  },
  {
   "cell_type": "code",
   "execution_count": 62,
   "metadata": {},
   "outputs": [
    {
     "name": "stdout",
     "output_type": "stream",
     "text": [
      "0    0.195865\n",
      "1    0.195865\n",
      "2    0.195865\n",
      "3    0.323461\n",
      "4    0.323461\n",
      "Name: two, dtype: float64\n"
     ]
    }
   ],
   "source": [
    "# Para usar otro tipo de interpolaciones es recomendable tener un índice numérico por cuestiones de frecuencia en el método de interpolación\n",
    "df.index = range(len(df))\n",
    "print(df.two.interpolate(method=\"pad\"))"
   ]
  },
  {
   "cell_type": "code",
   "execution_count": 63,
   "metadata": {},
   "outputs": [
    {
     "name": "stdout",
     "output_type": "stream",
     "text": [
      "0    0.195865\n",
      "1    0.195865\n",
      "2    0.323461\n",
      "3    0.323461\n",
      "4         NaN\n",
      "Name: two, dtype: float64\n"
     ]
    }
   ],
   "source": [
    "print(df.two.interpolate(method=\"nearest\"))"
   ]
  },
  {
   "cell_type": "code",
   "execution_count": 64,
   "metadata": {
    "pycharm": {
     "name": "#%%\n"
    }
   },
   "outputs": [
    {
     "name": "stdout",
     "output_type": "stream",
     "text": [
      "Valores interpolados:3\n"
     ]
    }
   ],
   "source": [
    "print(\"Valores interpolados:\" + str(df.two.interpolate().count()-df.two.count()))"
   ]
  },
  {
   "cell_type": "markdown",
   "metadata": {
    "pycharm": {
     "name": "#%% md\n"
    },
    "slideshow": {
     "slide_type": "slide"
    }
   },
   "source": [
    "### Eliminación de valores NA\n",
    "\n",
    "Existen operaciones para la eliminación de valores NA"
   ]
  },
  {
   "cell_type": "code",
   "execution_count": 31,
   "metadata": {
    "pycharm": {
     "name": "#%%\n"
    }
   },
   "outputs": [
    {
     "name": "stdout",
     "output_type": "stream",
     "text": [
      "        one       two     three\n",
      "a  0.883893  0.195865  0.357537\n",
      "b -2.343262       NaN  0.559696\n",
      "c  0.939469       NaN  0.503097\n",
      "d  0.406414  0.323461 -0.493411\n",
      "e -0.792017       NaN -1.279503\n",
      "-----------------------------------\n",
      "        one       two     three\n",
      "a  0.883893  0.195865  0.357537\n",
      "d  0.406414  0.323461 -0.493411\n"
     ]
    }
   ],
   "source": [
    "print(df)\n",
    "print(\"-\"*35)\n",
    "print(df.dropna())\n",
    "\n",
    "# https://pandas.pydata.org/docs/reference/api/pandas.DataFrame.dropna.html"
   ]
  },
  {
   "cell_type": "code",
   "execution_count": 32,
   "metadata": {
    "pycharm": {
     "name": "#%%\n"
    },
    "slideshow": {
     "slide_type": "slide"
    }
   },
   "outputs": [
    {
     "data": {
      "text/html": [
       "<div>\n",
       "<style scoped>\n",
       "    .dataframe tbody tr th:only-of-type {\n",
       "        vertical-align: middle;\n",
       "    }\n",
       "\n",
       "    .dataframe tbody tr th {\n",
       "        vertical-align: top;\n",
       "    }\n",
       "\n",
       "    .dataframe thead th {\n",
       "        text-align: right;\n",
       "    }\n",
       "</style>\n",
       "<table border=\"1\" class=\"dataframe\">\n",
       "  <thead>\n",
       "    <tr style=\"text-align: right;\">\n",
       "      <th></th>\n",
       "      <th>one</th>\n",
       "      <th>three</th>\n",
       "    </tr>\n",
       "  </thead>\n",
       "  <tbody>\n",
       "    <tr>\n",
       "      <th>a</th>\n",
       "      <td>0.883893</td>\n",
       "      <td>0.357537</td>\n",
       "    </tr>\n",
       "    <tr>\n",
       "      <th>b</th>\n",
       "      <td>-2.343262</td>\n",
       "      <td>0.559696</td>\n",
       "    </tr>\n",
       "    <tr>\n",
       "      <th>c</th>\n",
       "      <td>0.939469</td>\n",
       "      <td>0.503097</td>\n",
       "    </tr>\n",
       "    <tr>\n",
       "      <th>d</th>\n",
       "      <td>0.406414</td>\n",
       "      <td>-0.493411</td>\n",
       "    </tr>\n",
       "    <tr>\n",
       "      <th>e</th>\n",
       "      <td>-0.792017</td>\n",
       "      <td>-1.279503</td>\n",
       "    </tr>\n",
       "  </tbody>\n",
       "</table>\n",
       "</div>"
      ],
      "text/plain": [
       "        one     three\n",
       "a  0.883893  0.357537\n",
       "b -2.343262  0.559696\n",
       "c  0.939469  0.503097\n",
       "d  0.406414 -0.493411\n",
       "e -0.792017 -1.279503"
      ]
     },
     "execution_count": 32,
     "metadata": {},
     "output_type": "execute_result"
    }
   ],
   "source": [
    "#O bien, podemos borrar cambiando el eje AXIS=0 o 1\n",
    "df.dropna(axis=1)"
   ]
  },
  {
   "cell_type": "code",
   "execution_count": 36,
   "metadata": {},
   "outputs": [
    {
     "name": "stdout",
     "output_type": "stream",
     "text": [
      "one     -0.181100\n",
      "two      0.259663\n",
      "three   -0.070517\n",
      "dtype: float64\n",
      "-----------------------------------\n",
      "a    0.479098\n",
      "b   -0.891783\n",
      "c    0.721283\n",
      "d    0.078822\n",
      "e   -1.035760\n",
      "dtype: float64\n"
     ]
    }
   ],
   "source": [
    "# el argumento AXIS está en un gran número de métodos de Pandas\n",
    "print(df.mean()) # y por defecto, suele ser axis=0 (considerar las columnas ejeX)\n",
    "print(\"-\"*35)\n",
    "print(df.mean(axis=1))"
   ]
  },
  {
   "cell_type": "markdown",
   "metadata": {
    "pycharm": {
     "name": "#%% md\n"
    },
    "slideshow": {
     "slide_type": "slide"
    }
   },
   "source": [
    "### Ejercicios"
   ]
  },
  {
   "cell_type": "markdown",
   "metadata": {
    "pycharm": {
     "name": "#%% md\n"
    }
   },
   "source": [
    "**1) Del fichero who.csv, contabiliza cuántos paises tienen algun valor NaN.**"
   ]
  },
  {
   "cell_type": "code",
   "execution_count": 76,
   "metadata": {
    "collapsed": true,
    "pycharm": {
     "name": "#%%\n"
    }
   },
   "outputs": [
    {
     "data": {
      "text/html": [
       "<div>\n",
       "<style scoped>\n",
       "    .dataframe tbody tr th:only-of-type {\n",
       "        vertical-align: middle;\n",
       "    }\n",
       "\n",
       "    .dataframe tbody tr th {\n",
       "        vertical-align: top;\n",
       "    }\n",
       "\n",
       "    .dataframe thead th {\n",
       "        text-align: right;\n",
       "    }\n",
       "</style>\n",
       "<table border=\"1\" class=\"dataframe\">\n",
       "  <thead>\n",
       "    <tr style=\"text-align: right;\">\n",
       "      <th></th>\n",
       "      <th>Country</th>\n",
       "      <th>CountryID</th>\n",
       "      <th>Continent</th>\n",
       "      <th>Adolescent fertility rate (%)</th>\n",
       "      <th>Adult literacy rate (%)</th>\n",
       "      <th>Gross national income per capita (PPP international $)</th>\n",
       "      <th>Net primary school enrolment ratio female (%)</th>\n",
       "      <th>Net primary school enrolment ratio male (%)</th>\n",
       "      <th>Population (in thousands) total</th>\n",
       "      <th>Population annual growth rate (%)</th>\n",
       "      <th>...</th>\n",
       "      <th>Total_CO2_emissions</th>\n",
       "      <th>Total_income</th>\n",
       "      <th>Total_reserves</th>\n",
       "      <th>Trade_balance_goods_and_services</th>\n",
       "      <th>Under_five_mortality_from_CME</th>\n",
       "      <th>Under_five_mortality_from_IHME</th>\n",
       "      <th>Under_five_mortality_rate</th>\n",
       "      <th>Urban_population</th>\n",
       "      <th>Urban_population_growth</th>\n",
       "      <th>Urban_population_pct_of_total</th>\n",
       "    </tr>\n",
       "  </thead>\n",
       "  <tbody>\n",
       "    <tr>\n",
       "      <th>0</th>\n",
       "      <td>False</td>\n",
       "      <td>False</td>\n",
       "      <td>False</td>\n",
       "      <td>False</td>\n",
       "      <td>False</td>\n",
       "      <td>True</td>\n",
       "      <td>True</td>\n",
       "      <td>True</td>\n",
       "      <td>False</td>\n",
       "      <td>False</td>\n",
       "      <td>...</td>\n",
       "      <td>False</td>\n",
       "      <td>True</td>\n",
       "      <td>True</td>\n",
       "      <td>True</td>\n",
       "      <td>False</td>\n",
       "      <td>False</td>\n",
       "      <td>False</td>\n",
       "      <td>False</td>\n",
       "      <td>False</td>\n",
       "      <td>False</td>\n",
       "    </tr>\n",
       "    <tr>\n",
       "      <th>1</th>\n",
       "      <td>False</td>\n",
       "      <td>False</td>\n",
       "      <td>False</td>\n",
       "      <td>False</td>\n",
       "      <td>False</td>\n",
       "      <td>False</td>\n",
       "      <td>False</td>\n",
       "      <td>False</td>\n",
       "      <td>False</td>\n",
       "      <td>False</td>\n",
       "      <td>...</td>\n",
       "      <td>False</td>\n",
       "      <td>False</td>\n",
       "      <td>False</td>\n",
       "      <td>False</td>\n",
       "      <td>False</td>\n",
       "      <td>False</td>\n",
       "      <td>False</td>\n",
       "      <td>False</td>\n",
       "      <td>False</td>\n",
       "      <td>False</td>\n",
       "    </tr>\n",
       "    <tr>\n",
       "      <th>2</th>\n",
       "      <td>False</td>\n",
       "      <td>False</td>\n",
       "      <td>False</td>\n",
       "      <td>False</td>\n",
       "      <td>False</td>\n",
       "      <td>False</td>\n",
       "      <td>False</td>\n",
       "      <td>False</td>\n",
       "      <td>False</td>\n",
       "      <td>False</td>\n",
       "      <td>...</td>\n",
       "      <td>False</td>\n",
       "      <td>False</td>\n",
       "      <td>False</td>\n",
       "      <td>False</td>\n",
       "      <td>False</td>\n",
       "      <td>False</td>\n",
       "      <td>False</td>\n",
       "      <td>False</td>\n",
       "      <td>False</td>\n",
       "      <td>False</td>\n",
       "    </tr>\n",
       "    <tr>\n",
       "      <th>3</th>\n",
       "      <td>False</td>\n",
       "      <td>False</td>\n",
       "      <td>False</td>\n",
       "      <td>True</td>\n",
       "      <td>True</td>\n",
       "      <td>True</td>\n",
       "      <td>False</td>\n",
       "      <td>False</td>\n",
       "      <td>False</td>\n",
       "      <td>False</td>\n",
       "      <td>...</td>\n",
       "      <td>True</td>\n",
       "      <td>True</td>\n",
       "      <td>True</td>\n",
       "      <td>True</td>\n",
       "      <td>True</td>\n",
       "      <td>True</td>\n",
       "      <td>True</td>\n",
       "      <td>True</td>\n",
       "      <td>True</td>\n",
       "      <td>True</td>\n",
       "    </tr>\n",
       "    <tr>\n",
       "      <th>4</th>\n",
       "      <td>False</td>\n",
       "      <td>False</td>\n",
       "      <td>False</td>\n",
       "      <td>False</td>\n",
       "      <td>False</td>\n",
       "      <td>False</td>\n",
       "      <td>False</td>\n",
       "      <td>False</td>\n",
       "      <td>False</td>\n",
       "      <td>False</td>\n",
       "      <td>...</td>\n",
       "      <td>False</td>\n",
       "      <td>False</td>\n",
       "      <td>False</td>\n",
       "      <td>False</td>\n",
       "      <td>False</td>\n",
       "      <td>False</td>\n",
       "      <td>False</td>\n",
       "      <td>False</td>\n",
       "      <td>False</td>\n",
       "      <td>False</td>\n",
       "    </tr>\n",
       "    <tr>\n",
       "      <th>...</th>\n",
       "      <td>...</td>\n",
       "      <td>...</td>\n",
       "      <td>...</td>\n",
       "      <td>...</td>\n",
       "      <td>...</td>\n",
       "      <td>...</td>\n",
       "      <td>...</td>\n",
       "      <td>...</td>\n",
       "      <td>...</td>\n",
       "      <td>...</td>\n",
       "      <td>...</td>\n",
       "      <td>...</td>\n",
       "      <td>...</td>\n",
       "      <td>...</td>\n",
       "      <td>...</td>\n",
       "      <td>...</td>\n",
       "      <td>...</td>\n",
       "      <td>...</td>\n",
       "      <td>...</td>\n",
       "      <td>...</td>\n",
       "      <td>...</td>\n",
       "    </tr>\n",
       "    <tr>\n",
       "      <th>197</th>\n",
       "      <td>False</td>\n",
       "      <td>False</td>\n",
       "      <td>False</td>\n",
       "      <td>False</td>\n",
       "      <td>False</td>\n",
       "      <td>False</td>\n",
       "      <td>False</td>\n",
       "      <td>False</td>\n",
       "      <td>False</td>\n",
       "      <td>False</td>\n",
       "      <td>...</td>\n",
       "      <td>False</td>\n",
       "      <td>False</td>\n",
       "      <td>False</td>\n",
       "      <td>False</td>\n",
       "      <td>False</td>\n",
       "      <td>False</td>\n",
       "      <td>False</td>\n",
       "      <td>False</td>\n",
       "      <td>False</td>\n",
       "      <td>False</td>\n",
       "    </tr>\n",
       "    <tr>\n",
       "      <th>198</th>\n",
       "      <td>False</td>\n",
       "      <td>False</td>\n",
       "      <td>False</td>\n",
       "      <td>True</td>\n",
       "      <td>True</td>\n",
       "      <td>True</td>\n",
       "      <td>True</td>\n",
       "      <td>True</td>\n",
       "      <td>True</td>\n",
       "      <td>True</td>\n",
       "      <td>...</td>\n",
       "      <td>False</td>\n",
       "      <td>False</td>\n",
       "      <td>True</td>\n",
       "      <td>True</td>\n",
       "      <td>False</td>\n",
       "      <td>False</td>\n",
       "      <td>False</td>\n",
       "      <td>False</td>\n",
       "      <td>False</td>\n",
       "      <td>False</td>\n",
       "    </tr>\n",
       "    <tr>\n",
       "      <th>199</th>\n",
       "      <td>False</td>\n",
       "      <td>False</td>\n",
       "      <td>False</td>\n",
       "      <td>False</td>\n",
       "      <td>False</td>\n",
       "      <td>False</td>\n",
       "      <td>False</td>\n",
       "      <td>False</td>\n",
       "      <td>False</td>\n",
       "      <td>False</td>\n",
       "      <td>...</td>\n",
       "      <td>False</td>\n",
       "      <td>False</td>\n",
       "      <td>False</td>\n",
       "      <td>False</td>\n",
       "      <td>False</td>\n",
       "      <td>False</td>\n",
       "      <td>False</td>\n",
       "      <td>False</td>\n",
       "      <td>False</td>\n",
       "      <td>False</td>\n",
       "    </tr>\n",
       "    <tr>\n",
       "      <th>200</th>\n",
       "      <td>False</td>\n",
       "      <td>False</td>\n",
       "      <td>False</td>\n",
       "      <td>False</td>\n",
       "      <td>False</td>\n",
       "      <td>False</td>\n",
       "      <td>False</td>\n",
       "      <td>False</td>\n",
       "      <td>False</td>\n",
       "      <td>False</td>\n",
       "      <td>...</td>\n",
       "      <td>False</td>\n",
       "      <td>False</td>\n",
       "      <td>False</td>\n",
       "      <td>False</td>\n",
       "      <td>False</td>\n",
       "      <td>False</td>\n",
       "      <td>False</td>\n",
       "      <td>False</td>\n",
       "      <td>False</td>\n",
       "      <td>False</td>\n",
       "    </tr>\n",
       "    <tr>\n",
       "      <th>201</th>\n",
       "      <td>False</td>\n",
       "      <td>False</td>\n",
       "      <td>False</td>\n",
       "      <td>False</td>\n",
       "      <td>False</td>\n",
       "      <td>True</td>\n",
       "      <td>False</td>\n",
       "      <td>False</td>\n",
       "      <td>False</td>\n",
       "      <td>False</td>\n",
       "      <td>...</td>\n",
       "      <td>False</td>\n",
       "      <td>False</td>\n",
       "      <td>False</td>\n",
       "      <td>False</td>\n",
       "      <td>False</td>\n",
       "      <td>False</td>\n",
       "      <td>False</td>\n",
       "      <td>False</td>\n",
       "      <td>False</td>\n",
       "      <td>False</td>\n",
       "    </tr>\n",
       "  </tbody>\n",
       "</table>\n",
       "<p>202 rows × 358 columns</p>\n",
       "</div>"
      ],
      "text/plain": [
       "     Country  CountryID  Continent  Adolescent fertility rate (%)  \\\n",
       "0      False      False      False                          False   \n",
       "1      False      False      False                          False   \n",
       "2      False      False      False                          False   \n",
       "3      False      False      False                           True   \n",
       "4      False      False      False                          False   \n",
       "..       ...        ...        ...                            ...   \n",
       "197    False      False      False                          False   \n",
       "198    False      False      False                           True   \n",
       "199    False      False      False                          False   \n",
       "200    False      False      False                          False   \n",
       "201    False      False      False                          False   \n",
       "\n",
       "     Adult literacy rate (%)  \\\n",
       "0                      False   \n",
       "1                      False   \n",
       "2                      False   \n",
       "3                       True   \n",
       "4                      False   \n",
       "..                       ...   \n",
       "197                    False   \n",
       "198                     True   \n",
       "199                    False   \n",
       "200                    False   \n",
       "201                    False   \n",
       "\n",
       "     Gross national income per capita (PPP international $)  \\\n",
       "0                                                 True        \n",
       "1                                                False        \n",
       "2                                                False        \n",
       "3                                                 True        \n",
       "4                                                False        \n",
       "..                                                 ...        \n",
       "197                                              False        \n",
       "198                                               True        \n",
       "199                                              False        \n",
       "200                                              False        \n",
       "201                                               True        \n",
       "\n",
       "     Net primary school enrolment ratio female (%)  \\\n",
       "0                                             True   \n",
       "1                                            False   \n",
       "2                                            False   \n",
       "3                                            False   \n",
       "4                                            False   \n",
       "..                                             ...   \n",
       "197                                          False   \n",
       "198                                           True   \n",
       "199                                          False   \n",
       "200                                          False   \n",
       "201                                          False   \n",
       "\n",
       "     Net primary school enrolment ratio male (%)  \\\n",
       "0                                           True   \n",
       "1                                          False   \n",
       "2                                          False   \n",
       "3                                          False   \n",
       "4                                          False   \n",
       "..                                           ...   \n",
       "197                                        False   \n",
       "198                                         True   \n",
       "199                                        False   \n",
       "200                                        False   \n",
       "201                                        False   \n",
       "\n",
       "     Population (in thousands) total  Population annual growth rate (%)  ...  \\\n",
       "0                              False                              False  ...   \n",
       "1                              False                              False  ...   \n",
       "2                              False                              False  ...   \n",
       "3                              False                              False  ...   \n",
       "4                              False                              False  ...   \n",
       "..                               ...                                ...  ...   \n",
       "197                            False                              False  ...   \n",
       "198                             True                               True  ...   \n",
       "199                            False                              False  ...   \n",
       "200                            False                              False  ...   \n",
       "201                            False                              False  ...   \n",
       "\n",
       "     Total_CO2_emissions  Total_income  Total_reserves  \\\n",
       "0                  False          True            True   \n",
       "1                  False         False           False   \n",
       "2                  False         False           False   \n",
       "3                   True          True            True   \n",
       "4                  False         False           False   \n",
       "..                   ...           ...             ...   \n",
       "197                False         False           False   \n",
       "198                False         False            True   \n",
       "199                False         False           False   \n",
       "200                False         False           False   \n",
       "201                False         False           False   \n",
       "\n",
       "     Trade_balance_goods_and_services  Under_five_mortality_from_CME  \\\n",
       "0                                True                          False   \n",
       "1                               False                          False   \n",
       "2                               False                          False   \n",
       "3                                True                           True   \n",
       "4                               False                          False   \n",
       "..                                ...                            ...   \n",
       "197                             False                          False   \n",
       "198                              True                          False   \n",
       "199                             False                          False   \n",
       "200                             False                          False   \n",
       "201                             False                          False   \n",
       "\n",
       "     Under_five_mortality_from_IHME  Under_five_mortality_rate  \\\n",
       "0                             False                      False   \n",
       "1                             False                      False   \n",
       "2                             False                      False   \n",
       "3                              True                       True   \n",
       "4                             False                      False   \n",
       "..                              ...                        ...   \n",
       "197                           False                      False   \n",
       "198                           False                      False   \n",
       "199                           False                      False   \n",
       "200                           False                      False   \n",
       "201                           False                      False   \n",
       "\n",
       "     Urban_population  Urban_population_growth  Urban_population_pct_of_total  \n",
       "0               False                    False                          False  \n",
       "1               False                    False                          False  \n",
       "2               False                    False                          False  \n",
       "3                True                     True                           True  \n",
       "4               False                    False                          False  \n",
       "..                ...                      ...                            ...  \n",
       "197             False                    False                          False  \n",
       "198             False                    False                          False  \n",
       "199             False                    False                          False  \n",
       "200             False                    False                          False  \n",
       "201             False                    False                          False  \n",
       "\n",
       "[202 rows x 358 columns]"
      ]
     },
     "execution_count": 76,
     "metadata": {},
     "output_type": "execute_result"
    }
   ],
   "source": [
    "df = pd.read_csv(\"data/who.csv\")\n",
    "df.isna()"
   ]
  },
  {
   "cell_type": "markdown",
   "metadata": {
    "pycharm": {
     "name": "#%% md\n"
    }
   },
   "source": [
    "**1b) Ordena el anterior resultado para identificar cuál es el pais con mayor número de campos desconocidos.**"
   ]
  },
  {
   "cell_type": "code",
   "execution_count": null,
   "metadata": {
    "collapsed": true,
    "pycharm": {
     "name": "#%%\n"
    }
   },
   "outputs": [],
   "source": []
  },
  {
   "cell_type": "markdown",
   "metadata": {
    "pycharm": {
     "name": "#%% md\n"
    },
    "slideshow": {
     "slide_type": "-"
    }
   },
   "source": [
    "**2) who.csv, Selecciona la primera, tercera y decima columna, de las filas comprendidas entre la 100 y la 150.**"
   ]
  },
  {
   "cell_type": "code",
   "execution_count": null,
   "metadata": {
    "collapsed": true,
    "pycharm": {
     "name": "#%%\n"
    }
   },
   "outputs": [],
   "source": []
  },
  {
   "cell_type": "markdown",
   "metadata": {
    "pycharm": {
     "name": "#%% md\n"
    }
   },
   "source": [
    "**2b) ¿Cuántos valores NaN hay presentes?**"
   ]
  },
  {
   "cell_type": "code",
   "execution_count": null,
   "metadata": {
    "collapsed": true,
    "pycharm": {
     "name": "#%%\n"
    }
   },
   "outputs": [],
   "source": []
  },
  {
   "cell_type": "markdown",
   "metadata": {
    "pycharm": {
     "name": "#%% md\n"
    }
   },
   "source": [
    "**2c) Crea un nuevo dataframe donde los NaN sean cero.**"
   ]
  },
  {
   "cell_type": "code",
   "execution_count": null,
   "metadata": {
    "collapsed": true,
    "pycharm": {
     "name": "#%%\n"
    }
   },
   "outputs": [],
   "source": []
  },
  {
   "cell_type": "markdown",
   "metadata": {
    "pycharm": {
     "name": "#%% md\n"
    }
   },
   "source": [
    "**2d) Elimina aquellas filas de la anterior selección donde haya NaN.**"
   ]
  },
  {
   "cell_type": "code",
   "execution_count": null,
   "metadata": {},
   "outputs": [],
   "source": []
  },
  {
   "cell_type": "markdown",
   "metadata": {},
   "source": [
    "## Series Temporales\n",
    "Las series temporales son muestras de valores tomadas a lo largo del tiempo con un muestreo generalmente equidistante. Por ejemplo, información económica, demográfica, meteorológica; registros de seguridad, actividad, etc.\n",
    "\n",
    "La biblioteca Pandas gestiona las series temporales utilizando el índice: una fecha (`datetime`):\n",
    "https://docs.python.org/es/3/library/datetime.html\n",
    "\n",
    "\n",
    "El índice de un _dataframe_ es el pilar básico de acceso a los valores, por lo que su uso simplifica procesos de filtrado, selección, interpolación, etc.\n",
    "\n",
    "Enlace a la documentación: [TimeSeries](https://pandas.pydata.org/docs/user_guide/timeseries.html)"
   ]
  },
  {
   "cell_type": "code",
   "execution_count": 77,
   "metadata": {
    "collapsed": true,
    "pycharm": {
     "name": "#%%\n"
    }
   },
   "outputs": [
    {
     "name": "stdout",
     "output_type": "stream",
     "text": [
      "         date  temperaturemin  temperaturemax  precipitation  snowfall  \\\n",
      "0  2015-04-08            62.1            84.0           0.00       0.0   \n",
      "1  2015-04-20            63.0            78.1           0.28       0.0   \n",
      "2  2015-04-26            45.0            54.0           0.02       0.0   \n",
      "3  2015-04-28            39.0            69.1           0.00       0.0   \n",
      "4  2015-05-03            46.9            79.0           0.00       0.0   \n",
      "\n",
      "   snowdepth  avgwindspeed  fastest2minwinddir  fastest2minwindspeed  \\\n",
      "0        0.0          5.82                40.0                 29.97   \n",
      "1        0.0         11.86               180.0                 21.92   \n",
      "2        0.0          5.82                50.0                 12.97   \n",
      "3        0.0          2.68                40.0                 12.08   \n",
      "4        0.0          2.68               200.0                 12.08   \n",
      "\n",
      "   fastest5secwinddir  ...  drizzle snow freezingrain smokehaze thunder  \\\n",
      "0                30.0  ...       No   No           No       Yes      No   \n",
      "1               170.0  ...       No   No           No        No     Yes   \n",
      "2                40.0  ...       No   No           No        No      No   \n",
      "3                40.0  ...       No   No           No        No      No   \n",
      "4               210.0  ...       No   No           No        No      No   \n",
      "\n",
      "  highwind hail blowingsnow dust freezingfog  \n",
      "0       No   No          No   No          No  \n",
      "1       No   No          No   No          No  \n",
      "2       No   No          No   No          No  \n",
      "3       No   No          No   No          No  \n",
      "4       No   No          No   No          No  \n",
      "\n",
      "[5 rows x 28 columns]\n"
     ]
    }
   ],
   "source": [
    "import pandas as pd\n",
    "df = pd.read_csv(\"data/rdu-weather-history.csv\",sep=\";\")  \n",
    "#Qué contiene el fichero\n",
    "print(df.head())"
   ]
  },
  {
   "cell_type": "code",
   "execution_count": 4,
   "metadata": {},
   "outputs": [
    {
     "name": "stdout",
     "output_type": "stream",
     "text": [
      "2509    2007-01-01\n",
      "1065    2007-01-02\n",
      "1066    2007-01-03\n",
      "1067    2007-01-04\n",
      "3251    2007-01-05\n",
      "           ...    \n",
      "2507    2019-06-19\n",
      "2508    2019-06-20\n",
      "488     2019-06-21\n",
      "489     2019-06-22\n",
      "3623    2019-06-23\n",
      "Name: date, Length: 4557, dtype: object\n"
     ]
    }
   ],
   "source": [
    "print(df.date.sort_values())"
   ]
  },
  {
   "cell_type": "markdown",
   "metadata": {},
   "source": [
    "Nosotros solo cubriremos los aspectos básicos de estos tipos de datos; lo que queremos es poder responder preguntas similares a las siguientes:\n",
    "- ¿Cómo podría obtener la temperatura media de un año?\n",
    "- ¿Cómo podría obtener la temperatura más alta de todos los meses de julio?\n",
    "\n",
    "En primer lugar, se ha de transformar el índice en una Fecha:"
   ]
  },
  {
   "cell_type": "code",
   "execution_count": 2,
   "metadata": {},
   "outputs": [
    {
     "data": {
      "text/html": [
       "<div>\n",
       "<style scoped>\n",
       "    .dataframe tbody tr th:only-of-type {\n",
       "        vertical-align: middle;\n",
       "    }\n",
       "\n",
       "    .dataframe tbody tr th {\n",
       "        vertical-align: top;\n",
       "    }\n",
       "\n",
       "    .dataframe thead th {\n",
       "        text-align: right;\n",
       "    }\n",
       "</style>\n",
       "<table border=\"1\" class=\"dataframe\">\n",
       "  <thead>\n",
       "    <tr style=\"text-align: right;\">\n",
       "      <th></th>\n",
       "      <th>date</th>\n",
       "      <th>temperaturemin</th>\n",
       "      <th>temperaturemax</th>\n",
       "      <th>precipitation</th>\n",
       "      <th>snowfall</th>\n",
       "      <th>snowdepth</th>\n",
       "      <th>avgwindspeed</th>\n",
       "      <th>fastest2minwinddir</th>\n",
       "      <th>fastest2minwindspeed</th>\n",
       "      <th>fastest5secwinddir</th>\n",
       "      <th>...</th>\n",
       "      <th>drizzle</th>\n",
       "      <th>snow</th>\n",
       "      <th>freezingrain</th>\n",
       "      <th>smokehaze</th>\n",
       "      <th>thunder</th>\n",
       "      <th>highwind</th>\n",
       "      <th>hail</th>\n",
       "      <th>blowingsnow</th>\n",
       "      <th>dust</th>\n",
       "      <th>freezingfog</th>\n",
       "    </tr>\n",
       "    <tr>\n",
       "      <th>date</th>\n",
       "      <th></th>\n",
       "      <th></th>\n",
       "      <th></th>\n",
       "      <th></th>\n",
       "      <th></th>\n",
       "      <th></th>\n",
       "      <th></th>\n",
       "      <th></th>\n",
       "      <th></th>\n",
       "      <th></th>\n",
       "      <th></th>\n",
       "      <th></th>\n",
       "      <th></th>\n",
       "      <th></th>\n",
       "      <th></th>\n",
       "      <th></th>\n",
       "      <th></th>\n",
       "      <th></th>\n",
       "      <th></th>\n",
       "      <th></th>\n",
       "      <th></th>\n",
       "    </tr>\n",
       "  </thead>\n",
       "  <tbody>\n",
       "    <tr>\n",
       "      <th>2015-04-08</th>\n",
       "      <td>2015-04-08</td>\n",
       "      <td>62.1</td>\n",
       "      <td>84.0</td>\n",
       "      <td>0.00</td>\n",
       "      <td>0.0</td>\n",
       "      <td>0.0</td>\n",
       "      <td>5.82</td>\n",
       "      <td>40.0</td>\n",
       "      <td>29.97</td>\n",
       "      <td>30.0</td>\n",
       "      <td>...</td>\n",
       "      <td>No</td>\n",
       "      <td>No</td>\n",
       "      <td>No</td>\n",
       "      <td>Yes</td>\n",
       "      <td>No</td>\n",
       "      <td>No</td>\n",
       "      <td>No</td>\n",
       "      <td>No</td>\n",
       "      <td>No</td>\n",
       "      <td>No</td>\n",
       "    </tr>\n",
       "    <tr>\n",
       "      <th>2015-04-20</th>\n",
       "      <td>2015-04-20</td>\n",
       "      <td>63.0</td>\n",
       "      <td>78.1</td>\n",
       "      <td>0.28</td>\n",
       "      <td>0.0</td>\n",
       "      <td>0.0</td>\n",
       "      <td>11.86</td>\n",
       "      <td>180.0</td>\n",
       "      <td>21.92</td>\n",
       "      <td>170.0</td>\n",
       "      <td>...</td>\n",
       "      <td>No</td>\n",
       "      <td>No</td>\n",
       "      <td>No</td>\n",
       "      <td>No</td>\n",
       "      <td>Yes</td>\n",
       "      <td>No</td>\n",
       "      <td>No</td>\n",
       "      <td>No</td>\n",
       "      <td>No</td>\n",
       "      <td>No</td>\n",
       "    </tr>\n",
       "    <tr>\n",
       "      <th>2015-04-26</th>\n",
       "      <td>2015-04-26</td>\n",
       "      <td>45.0</td>\n",
       "      <td>54.0</td>\n",
       "      <td>0.02</td>\n",
       "      <td>0.0</td>\n",
       "      <td>0.0</td>\n",
       "      <td>5.82</td>\n",
       "      <td>50.0</td>\n",
       "      <td>12.97</td>\n",
       "      <td>40.0</td>\n",
       "      <td>...</td>\n",
       "      <td>No</td>\n",
       "      <td>No</td>\n",
       "      <td>No</td>\n",
       "      <td>No</td>\n",
       "      <td>No</td>\n",
       "      <td>No</td>\n",
       "      <td>No</td>\n",
       "      <td>No</td>\n",
       "      <td>No</td>\n",
       "      <td>No</td>\n",
       "    </tr>\n",
       "    <tr>\n",
       "      <th>2015-04-28</th>\n",
       "      <td>2015-04-28</td>\n",
       "      <td>39.0</td>\n",
       "      <td>69.1</td>\n",
       "      <td>0.00</td>\n",
       "      <td>0.0</td>\n",
       "      <td>0.0</td>\n",
       "      <td>2.68</td>\n",
       "      <td>40.0</td>\n",
       "      <td>12.08</td>\n",
       "      <td>40.0</td>\n",
       "      <td>...</td>\n",
       "      <td>No</td>\n",
       "      <td>No</td>\n",
       "      <td>No</td>\n",
       "      <td>No</td>\n",
       "      <td>No</td>\n",
       "      <td>No</td>\n",
       "      <td>No</td>\n",
       "      <td>No</td>\n",
       "      <td>No</td>\n",
       "      <td>No</td>\n",
       "    </tr>\n",
       "    <tr>\n",
       "      <th>2015-05-03</th>\n",
       "      <td>2015-05-03</td>\n",
       "      <td>46.9</td>\n",
       "      <td>79.0</td>\n",
       "      <td>0.00</td>\n",
       "      <td>0.0</td>\n",
       "      <td>0.0</td>\n",
       "      <td>2.68</td>\n",
       "      <td>200.0</td>\n",
       "      <td>12.08</td>\n",
       "      <td>210.0</td>\n",
       "      <td>...</td>\n",
       "      <td>No</td>\n",
       "      <td>No</td>\n",
       "      <td>No</td>\n",
       "      <td>No</td>\n",
       "      <td>No</td>\n",
       "      <td>No</td>\n",
       "      <td>No</td>\n",
       "      <td>No</td>\n",
       "      <td>No</td>\n",
       "      <td>No</td>\n",
       "    </tr>\n",
       "  </tbody>\n",
       "</table>\n",
       "<p>5 rows × 28 columns</p>\n",
       "</div>"
      ],
      "text/plain": [
       "                  date  temperaturemin  temperaturemax  precipitation  \\\n",
       "date                                                                    \n",
       "2015-04-08  2015-04-08            62.1            84.0           0.00   \n",
       "2015-04-20  2015-04-20            63.0            78.1           0.28   \n",
       "2015-04-26  2015-04-26            45.0            54.0           0.02   \n",
       "2015-04-28  2015-04-28            39.0            69.1           0.00   \n",
       "2015-05-03  2015-05-03            46.9            79.0           0.00   \n",
       "\n",
       "            snowfall  snowdepth  avgwindspeed  fastest2minwinddir  \\\n",
       "date                                                                \n",
       "2015-04-08       0.0        0.0          5.82                40.0   \n",
       "2015-04-20       0.0        0.0         11.86               180.0   \n",
       "2015-04-26       0.0        0.0          5.82                50.0   \n",
       "2015-04-28       0.0        0.0          2.68                40.0   \n",
       "2015-05-03       0.0        0.0          2.68               200.0   \n",
       "\n",
       "            fastest2minwindspeed  fastest5secwinddir  ...  drizzle snow  \\\n",
       "date                                                  ...                 \n",
       "2015-04-08                 29.97                30.0  ...       No   No   \n",
       "2015-04-20                 21.92               170.0  ...       No   No   \n",
       "2015-04-26                 12.97                40.0  ...       No   No   \n",
       "2015-04-28                 12.08                40.0  ...       No   No   \n",
       "2015-05-03                 12.08               210.0  ...       No   No   \n",
       "\n",
       "           freezingrain smokehaze thunder highwind hail blowingsnow dust  \\\n",
       "date                                                                       \n",
       "2015-04-08           No       Yes      No       No   No          No   No   \n",
       "2015-04-20           No        No     Yes       No   No          No   No   \n",
       "2015-04-26           No        No      No       No   No          No   No   \n",
       "2015-04-28           No        No      No       No   No          No   No   \n",
       "2015-05-03           No        No      No       No   No          No   No   \n",
       "\n",
       "           freezingfog  \n",
       "date                    \n",
       "2015-04-08          No  \n",
       "2015-04-20          No  \n",
       "2015-04-26          No  \n",
       "2015-04-28          No  \n",
       "2015-05-03          No  \n",
       "\n",
       "[5 rows x 28 columns]"
      ]
     },
     "execution_count": 2,
     "metadata": {},
     "output_type": "execute_result"
    }
   ],
   "source": [
    "from pandas import DatetimeIndex\n",
    "\n",
    "import pandas as pd\n",
    "df = pd.read_csv(\"data/rdu-weather-history.csv\",sep=\";\")  \n",
    "\n",
    "df.index = DatetimeIndex(df[\"date\"])\n",
    "df.head()\n",
    "\n"
   ]
  },
  {
   "cell_type": "code",
   "execution_count": 3,
   "metadata": {},
   "outputs": [],
   "source": [
    "df = df.drop(columns=\"date\")"
   ]
  },
  {
   "cell_type": "code",
   "execution_count": 4,
   "metadata": {},
   "outputs": [
    {
     "data": {
      "text/plain": [
       "Int64Index([ 8, 20, 26, 28,  3, 23, 27, 31,  9, 13,\n",
       "            ...\n",
       "            29,  9, 11, 14, 13, 24, 26,  8,  6, 12],\n",
       "           dtype='int64', name='date', length=4557)"
      ]
     },
     "execution_count": 4,
     "metadata": {},
     "output_type": "execute_result"
    }
   ],
   "source": [
    "df.index.day"
   ]
  },
  {
   "cell_type": "code",
   "execution_count": 5,
   "metadata": {},
   "outputs": [
    {
     "data": {
      "text/html": [
       "<div>\n",
       "<style scoped>\n",
       "    .dataframe tbody tr th:only-of-type {\n",
       "        vertical-align: middle;\n",
       "    }\n",
       "\n",
       "    .dataframe tbody tr th {\n",
       "        vertical-align: top;\n",
       "    }\n",
       "\n",
       "    .dataframe thead th {\n",
       "        text-align: right;\n",
       "    }\n",
       "</style>\n",
       "<table border=\"1\" class=\"dataframe\">\n",
       "  <thead>\n",
       "    <tr style=\"text-align: right;\">\n",
       "      <th></th>\n",
       "      <th>temperaturemin</th>\n",
       "      <th>temperaturemax</th>\n",
       "      <th>precipitation</th>\n",
       "      <th>snowfall</th>\n",
       "      <th>snowdepth</th>\n",
       "      <th>avgwindspeed</th>\n",
       "      <th>fastest2minwinddir</th>\n",
       "      <th>fastest2minwindspeed</th>\n",
       "      <th>fastest5secwinddir</th>\n",
       "      <th>fastest5secwindspeed</th>\n",
       "      <th>...</th>\n",
       "      <th>drizzle</th>\n",
       "      <th>snow</th>\n",
       "      <th>freezingrain</th>\n",
       "      <th>smokehaze</th>\n",
       "      <th>thunder</th>\n",
       "      <th>highwind</th>\n",
       "      <th>hail</th>\n",
       "      <th>blowingsnow</th>\n",
       "      <th>dust</th>\n",
       "      <th>freezingfog</th>\n",
       "    </tr>\n",
       "    <tr>\n",
       "      <th>date</th>\n",
       "      <th></th>\n",
       "      <th></th>\n",
       "      <th></th>\n",
       "      <th></th>\n",
       "      <th></th>\n",
       "      <th></th>\n",
       "      <th></th>\n",
       "      <th></th>\n",
       "      <th></th>\n",
       "      <th></th>\n",
       "      <th></th>\n",
       "      <th></th>\n",
       "      <th></th>\n",
       "      <th></th>\n",
       "      <th></th>\n",
       "      <th></th>\n",
       "      <th></th>\n",
       "      <th></th>\n",
       "      <th></th>\n",
       "      <th></th>\n",
       "      <th></th>\n",
       "    </tr>\n",
       "  </thead>\n",
       "  <tbody>\n",
       "    <tr>\n",
       "      <th>2014-01-02</th>\n",
       "      <td>37.0</td>\n",
       "      <td>48.9</td>\n",
       "      <td>0.33</td>\n",
       "      <td>0.0</td>\n",
       "      <td>0.0</td>\n",
       "      <td>2.68</td>\n",
       "      <td>310.0</td>\n",
       "      <td>12.97</td>\n",
       "      <td>320.0</td>\n",
       "      <td>21.92</td>\n",
       "      <td>...</td>\n",
       "      <td>No</td>\n",
       "      <td>No</td>\n",
       "      <td>No</td>\n",
       "      <td>No</td>\n",
       "      <td>No</td>\n",
       "      <td>No</td>\n",
       "      <td>No</td>\n",
       "      <td>No</td>\n",
       "      <td>No</td>\n",
       "      <td>No</td>\n",
       "    </tr>\n",
       "    <tr>\n",
       "      <th>2014-01-11</th>\n",
       "      <td>45.0</td>\n",
       "      <td>69.1</td>\n",
       "      <td>0.28</td>\n",
       "      <td>0.0</td>\n",
       "      <td>0.0</td>\n",
       "      <td>10.29</td>\n",
       "      <td>230.0</td>\n",
       "      <td>59.95</td>\n",
       "      <td>220.0</td>\n",
       "      <td>86.12</td>\n",
       "      <td>...</td>\n",
       "      <td>No</td>\n",
       "      <td>No</td>\n",
       "      <td>No</td>\n",
       "      <td>No</td>\n",
       "      <td>No</td>\n",
       "      <td>No</td>\n",
       "      <td>No</td>\n",
       "      <td>No</td>\n",
       "      <td>No</td>\n",
       "      <td>No</td>\n",
       "    </tr>\n",
       "    <tr>\n",
       "      <th>2014-01-13</th>\n",
       "      <td>33.1</td>\n",
       "      <td>62.1</td>\n",
       "      <td>0.00</td>\n",
       "      <td>0.0</td>\n",
       "      <td>0.0</td>\n",
       "      <td>7.16</td>\n",
       "      <td>220.0</td>\n",
       "      <td>21.03</td>\n",
       "      <td>230.0</td>\n",
       "      <td>25.95</td>\n",
       "      <td>...</td>\n",
       "      <td>No</td>\n",
       "      <td>No</td>\n",
       "      <td>No</td>\n",
       "      <td>No</td>\n",
       "      <td>No</td>\n",
       "      <td>No</td>\n",
       "      <td>No</td>\n",
       "      <td>No</td>\n",
       "      <td>No</td>\n",
       "      <td>No</td>\n",
       "    </tr>\n",
       "    <tr>\n",
       "      <th>2014-01-15</th>\n",
       "      <td>33.1</td>\n",
       "      <td>59.0</td>\n",
       "      <td>0.00</td>\n",
       "      <td>0.0</td>\n",
       "      <td>0.0</td>\n",
       "      <td>4.47</td>\n",
       "      <td>180.0</td>\n",
       "      <td>17.00</td>\n",
       "      <td>210.0</td>\n",
       "      <td>23.94</td>\n",
       "      <td>...</td>\n",
       "      <td>No</td>\n",
       "      <td>No</td>\n",
       "      <td>No</td>\n",
       "      <td>No</td>\n",
       "      <td>No</td>\n",
       "      <td>No</td>\n",
       "      <td>No</td>\n",
       "      <td>No</td>\n",
       "      <td>No</td>\n",
       "      <td>No</td>\n",
       "    </tr>\n",
       "    <tr>\n",
       "      <th>2014-01-18</th>\n",
       "      <td>27.1</td>\n",
       "      <td>46.9</td>\n",
       "      <td>0.00</td>\n",
       "      <td>0.0</td>\n",
       "      <td>0.0</td>\n",
       "      <td>6.71</td>\n",
       "      <td>270.0</td>\n",
       "      <td>17.00</td>\n",
       "      <td>240.0</td>\n",
       "      <td>23.94</td>\n",
       "      <td>...</td>\n",
       "      <td>No</td>\n",
       "      <td>No</td>\n",
       "      <td>No</td>\n",
       "      <td>No</td>\n",
       "      <td>No</td>\n",
       "      <td>No</td>\n",
       "      <td>No</td>\n",
       "      <td>No</td>\n",
       "      <td>No</td>\n",
       "      <td>No</td>\n",
       "    </tr>\n",
       "    <tr>\n",
       "      <th>...</th>\n",
       "      <td>...</td>\n",
       "      <td>...</td>\n",
       "      <td>...</td>\n",
       "      <td>...</td>\n",
       "      <td>...</td>\n",
       "      <td>...</td>\n",
       "      <td>...</td>\n",
       "      <td>...</td>\n",
       "      <td>...</td>\n",
       "      <td>...</td>\n",
       "      <td>...</td>\n",
       "      <td>...</td>\n",
       "      <td>...</td>\n",
       "      <td>...</td>\n",
       "      <td>...</td>\n",
       "      <td>...</td>\n",
       "      <td>...</td>\n",
       "      <td>...</td>\n",
       "      <td>...</td>\n",
       "      <td>...</td>\n",
       "      <td>...</td>\n",
       "    </tr>\n",
       "    <tr>\n",
       "      <th>2014-11-30</th>\n",
       "      <td>36.0</td>\n",
       "      <td>66.0</td>\n",
       "      <td>0.00</td>\n",
       "      <td>0.0</td>\n",
       "      <td>0.0</td>\n",
       "      <td>8.72</td>\n",
       "      <td>230.0</td>\n",
       "      <td>23.04</td>\n",
       "      <td>240.0</td>\n",
       "      <td>31.09</td>\n",
       "      <td>...</td>\n",
       "      <td>No</td>\n",
       "      <td>No</td>\n",
       "      <td>No</td>\n",
       "      <td>No</td>\n",
       "      <td>No</td>\n",
       "      <td>No</td>\n",
       "      <td>No</td>\n",
       "      <td>No</td>\n",
       "      <td>No</td>\n",
       "      <td>No</td>\n",
       "    </tr>\n",
       "    <tr>\n",
       "      <th>2014-12-02</th>\n",
       "      <td>46.0</td>\n",
       "      <td>55.0</td>\n",
       "      <td>0.00</td>\n",
       "      <td>0.0</td>\n",
       "      <td>0.0</td>\n",
       "      <td>6.49</td>\n",
       "      <td>50.0</td>\n",
       "      <td>18.12</td>\n",
       "      <td>50.0</td>\n",
       "      <td>25.05</td>\n",
       "      <td>...</td>\n",
       "      <td>No</td>\n",
       "      <td>No</td>\n",
       "      <td>No</td>\n",
       "      <td>No</td>\n",
       "      <td>No</td>\n",
       "      <td>No</td>\n",
       "      <td>No</td>\n",
       "      <td>No</td>\n",
       "      <td>No</td>\n",
       "      <td>No</td>\n",
       "    </tr>\n",
       "    <tr>\n",
       "      <th>2014-12-10</th>\n",
       "      <td>31.1</td>\n",
       "      <td>50.0</td>\n",
       "      <td>0.00</td>\n",
       "      <td>0.0</td>\n",
       "      <td>0.0</td>\n",
       "      <td>5.37</td>\n",
       "      <td>300.0</td>\n",
       "      <td>14.99</td>\n",
       "      <td>310.0</td>\n",
       "      <td>23.94</td>\n",
       "      <td>...</td>\n",
       "      <td>No</td>\n",
       "      <td>No</td>\n",
       "      <td>No</td>\n",
       "      <td>No</td>\n",
       "      <td>No</td>\n",
       "      <td>No</td>\n",
       "      <td>No</td>\n",
       "      <td>No</td>\n",
       "      <td>No</td>\n",
       "      <td>No</td>\n",
       "    </tr>\n",
       "    <tr>\n",
       "      <th>2014-12-23</th>\n",
       "      <td>37.0</td>\n",
       "      <td>46.9</td>\n",
       "      <td>0.90</td>\n",
       "      <td>0.0</td>\n",
       "      <td>0.0</td>\n",
       "      <td>2.46</td>\n",
       "      <td>90.0</td>\n",
       "      <td>8.95</td>\n",
       "      <td>100.0</td>\n",
       "      <td>12.97</td>\n",
       "      <td>...</td>\n",
       "      <td>No</td>\n",
       "      <td>No</td>\n",
       "      <td>No</td>\n",
       "      <td>No</td>\n",
       "      <td>Yes</td>\n",
       "      <td>No</td>\n",
       "      <td>No</td>\n",
       "      <td>No</td>\n",
       "      <td>No</td>\n",
       "      <td>No</td>\n",
       "    </tr>\n",
       "    <tr>\n",
       "      <th>2014-12-31</th>\n",
       "      <td>26.2</td>\n",
       "      <td>46.0</td>\n",
       "      <td>0.00</td>\n",
       "      <td>0.0</td>\n",
       "      <td>0.0</td>\n",
       "      <td>1.34</td>\n",
       "      <td>50.0</td>\n",
       "      <td>8.95</td>\n",
       "      <td>270.0</td>\n",
       "      <td>14.99</td>\n",
       "      <td>...</td>\n",
       "      <td>No</td>\n",
       "      <td>No</td>\n",
       "      <td>No</td>\n",
       "      <td>No</td>\n",
       "      <td>No</td>\n",
       "      <td>No</td>\n",
       "      <td>No</td>\n",
       "      <td>No</td>\n",
       "      <td>No</td>\n",
       "      <td>No</td>\n",
       "    </tr>\n",
       "  </tbody>\n",
       "</table>\n",
       "<p>365 rows × 27 columns</p>\n",
       "</div>"
      ],
      "text/plain": [
       "            temperaturemin  temperaturemax  precipitation  snowfall  \\\n",
       "date                                                                  \n",
       "2014-01-02            37.0            48.9           0.33       0.0   \n",
       "2014-01-11            45.0            69.1           0.28       0.0   \n",
       "2014-01-13            33.1            62.1           0.00       0.0   \n",
       "2014-01-15            33.1            59.0           0.00       0.0   \n",
       "2014-01-18            27.1            46.9           0.00       0.0   \n",
       "...                    ...             ...            ...       ...   \n",
       "2014-11-30            36.0            66.0           0.00       0.0   \n",
       "2014-12-02            46.0            55.0           0.00       0.0   \n",
       "2014-12-10            31.1            50.0           0.00       0.0   \n",
       "2014-12-23            37.0            46.9           0.90       0.0   \n",
       "2014-12-31            26.2            46.0           0.00       0.0   \n",
       "\n",
       "            snowdepth  avgwindspeed  fastest2minwinddir  fastest2minwindspeed  \\\n",
       "date                                                                            \n",
       "2014-01-02        0.0          2.68               310.0                 12.97   \n",
       "2014-01-11        0.0         10.29               230.0                 59.95   \n",
       "2014-01-13        0.0          7.16               220.0                 21.03   \n",
       "2014-01-15        0.0          4.47               180.0                 17.00   \n",
       "2014-01-18        0.0          6.71               270.0                 17.00   \n",
       "...               ...           ...                 ...                   ...   \n",
       "2014-11-30        0.0          8.72               230.0                 23.04   \n",
       "2014-12-02        0.0          6.49                50.0                 18.12   \n",
       "2014-12-10        0.0          5.37               300.0                 14.99   \n",
       "2014-12-23        0.0          2.46                90.0                  8.95   \n",
       "2014-12-31        0.0          1.34                50.0                  8.95   \n",
       "\n",
       "            fastest5secwinddir  fastest5secwindspeed  ... drizzle snow  \\\n",
       "date                                                  ...                \n",
       "2014-01-02               320.0                 21.92  ...      No   No   \n",
       "2014-01-11               220.0                 86.12  ...      No   No   \n",
       "2014-01-13               230.0                 25.95  ...      No   No   \n",
       "2014-01-15               210.0                 23.94  ...      No   No   \n",
       "2014-01-18               240.0                 23.94  ...      No   No   \n",
       "...                        ...                   ...  ...     ...  ...   \n",
       "2014-11-30               240.0                 31.09  ...      No   No   \n",
       "2014-12-02                50.0                 25.05  ...      No   No   \n",
       "2014-12-10               310.0                 23.94  ...      No   No   \n",
       "2014-12-23               100.0                 12.97  ...      No   No   \n",
       "2014-12-31               270.0                 14.99  ...      No   No   \n",
       "\n",
       "           freezingrain smokehaze thunder highwind hail blowingsnow dust  \\\n",
       "date                                                                       \n",
       "2014-01-02           No        No      No       No   No          No   No   \n",
       "2014-01-11           No        No      No       No   No          No   No   \n",
       "2014-01-13           No        No      No       No   No          No   No   \n",
       "2014-01-15           No        No      No       No   No          No   No   \n",
       "2014-01-18           No        No      No       No   No          No   No   \n",
       "...                 ...       ...     ...      ...  ...         ...  ...   \n",
       "2014-11-30           No        No      No       No   No          No   No   \n",
       "2014-12-02           No        No      No       No   No          No   No   \n",
       "2014-12-10           No        No      No       No   No          No   No   \n",
       "2014-12-23           No        No     Yes       No   No          No   No   \n",
       "2014-12-31           No        No      No       No   No          No   No   \n",
       "\n",
       "           freezingfog  \n",
       "date                    \n",
       "2014-01-02          No  \n",
       "2014-01-11          No  \n",
       "2014-01-13          No  \n",
       "2014-01-15          No  \n",
       "2014-01-18          No  \n",
       "...                ...  \n",
       "2014-11-30          No  \n",
       "2014-12-02          No  \n",
       "2014-12-10          No  \n",
       "2014-12-23          No  \n",
       "2014-12-31          No  \n",
       "\n",
       "[365 rows x 27 columns]"
      ]
     },
     "execution_count": 5,
     "metadata": {},
     "output_type": "execute_result"
    }
   ],
   "source": [
    "df.loc[\"2014\"]"
   ]
  },
  {
   "cell_type": "code",
   "execution_count": 6,
   "metadata": {},
   "outputs": [
    {
     "data": {
      "text/plain": [
       "temperaturemin           22.1\n",
       "temperaturemax           43.0\n",
       "precipitation             0.0\n",
       "snowfall                  0.0\n",
       "snowdepth                 0.0\n",
       "avgwindspeed             7.38\n",
       "fastest2minwinddir      300.0\n",
       "fastest2minwindspeed    21.92\n",
       "fastest5secwinddir      310.0\n",
       "fastest5secwindspeed    31.99\n",
       "fog                        No\n",
       "fogheavy                   No\n",
       "mist                       No\n",
       "rain                       No\n",
       "fogground                  No\n",
       "ice                        No\n",
       "glaze                      No\n",
       "drizzle                    No\n",
       "snow                       No\n",
       "freezingrain               No\n",
       "smokehaze                  No\n",
       "thunder                    No\n",
       "highwind                   No\n",
       "hail                       No\n",
       "blowingsnow                No\n",
       "dust                       No\n",
       "freezingfog                No\n",
       "Name: 2014-01-03 00:00:00, dtype: object"
      ]
     },
     "execution_count": 6,
     "metadata": {},
     "output_type": "execute_result"
    }
   ],
   "source": [
    "df.loc[\"2014-01-03\"]"
   ]
  },
  {
   "cell_type": "code",
   "execution_count": 7,
   "metadata": {},
   "outputs": [
    {
     "data": {
      "text/plain": [
       "51.70246575342466"
      ]
     },
     "execution_count": 7,
     "metadata": {},
     "output_type": "execute_result"
    }
   ],
   "source": [
    "# Aggregations\n",
    "df.loc[\"2015\"].temperaturemin.mean()"
   ]
  },
  {
   "cell_type": "code",
   "execution_count": 16,
   "metadata": {},
   "outputs": [
    {
     "data": {
      "text/plain": [
       "False"
      ]
     },
     "execution_count": 16,
     "metadata": {},
     "output_type": "execute_result"
    }
   ],
   "source": [
    "# Conditional operatives\n",
    "df.loc[\"2015\"].temperaturemin.min() > df.loc[\"2016\"].temperaturemin.min()"
   ]
  },
  {
   "cell_type": "code",
   "execution_count": 9,
   "metadata": {},
   "outputs": [
    {
     "data": {
      "text/plain": [
       "dtype('<M8[ns]')"
      ]
     },
     "execution_count": 9,
     "metadata": {},
     "output_type": "execute_result"
    }
   ],
   "source": [
    "# Slicing\n",
    "df.loc[\"2015\":\"2019\"] \n",
    "df.index.dtype"
   ]
  },
  {
   "cell_type": "markdown",
   "metadata": {},
   "source": [
    "## Actividades"
   ]
  },
  {
   "cell_type": "markdown",
   "metadata": {},
   "source": [
    "A. ¿Cuántas veces ha nevado por año (`snowfall`)?"
   ]
  },
  {
   "cell_type": "code",
   "execution_count": 84,
   "metadata": {},
   "outputs": [
    {
     "data": {
      "text/plain": [
       "{2007: [2007-01-13 00:00:00, 2007-01-19 00:00:00, 2007-01-21 00:00:00, 2007-01-25 00:00:00, 2007-01-27 00:00:00, 2007-02-05 00:00:00, 2007-02-08 00:00:00, 2007-02-09 00:00:00, 2007-02-26 00:00:00, 2007-03-04 00:00:00, 2007-03-05 00:00:00, 2007-03-17 00:00:00, 2007-03-18 00:00:00, 2007-04-05 00:00:00, 2007-04-06 00:00:00, 2007-04-11 00:00:00, 2007-04-17 00:00:00, 2007-04-19 00:00:00, 2007-04-23 00:00:00, 2007-04-27 00:00:00, 2007-04-28 00:00:00, 2007-04-29 00:00:00, 2007-05-02 00:00:00, 2007-05-03 00:00:00, 2007-05-05 00:00:00, 2007-05-07 00:00:00, 2007-05-08 00:00:00, 2007-05-16 00:00:00, 2007-05-18 00:00:00, 2007-05-25 00:00:00, 2007-06-14 00:00:00, 2007-06-22 00:00:00, 2007-06-24 00:00:00, 2007-06-27 00:00:00, 2007-06-28 00:00:00, 2007-07-01 00:00:00, 2007-07-03 00:00:00, 2007-07-04 00:00:00, 2007-07-15 00:00:00, 2007-07-16 00:00:00, 2007-07-22 00:00:00, 2007-07-29 00:00:00, 2007-08-09 00:00:00, 2007-08-20 00:00:00, 2007-08-26 00:00:00, 2007-08-29 00:00:00, 2007-09-03 00:00:00, 2007-09-05 00:00:00, 2007-09-09 00:00:00, 2007-09-15 00:00:00, 2007-09-23 00:00:00, 2007-09-24 00:00:00, 2007-09-26 00:00:00, 2007-10-09 00:00:00, 2007-10-18 00:00:00, 2007-10-31 00:00:00, 2007-11-03 00:00:00, 2007-11-07 00:00:00, 2007-11-09 00:00:00, 2007-11-16 00:00:00, 2007-11-19 00:00:00, 2007-11-21 00:00:00, 2007-11-25 00:00:00, 2007-11-29 00:00:00, 2007-12-02 00:00:00, 2007-12-04 00:00:00, 2007-12-13 00:00:00, 2007-12-17 00:00:00, 2007-12-23 00:00:00, 2007-12-27 00:00:00, 2007-01-02 00:00:00, 2007-01-03 00:00:00, 2007-01-04 00:00:00, 2007-01-10 00:00:00, 2007-01-15 00:00:00, 2007-01-17 00:00:00, 2007-01-18 00:00:00, 2007-01-30 00:00:00, 2007-02-10 00:00:00, 2007-02-18 00:00:00, 2007-02-20 00:00:00, 2007-02-21 00:00:00, 2007-03-01 00:00:00, 2007-03-11 00:00:00, 2007-03-15 00:00:00, 2007-03-19 00:00:00, 2007-03-21 00:00:00, 2007-03-22 00:00:00, 2007-03-25 00:00:00, 2007-03-29 00:00:00, 2007-03-30 00:00:00, 2007-03-31 00:00:00, 2007-04-12 00:00:00, 2007-04-13 00:00:00, 2007-04-16 00:00:00, 2007-04-18 00:00:00, 2007-04-20 00:00:00, 2007-04-21 00:00:00, 2007-04-24 00:00:00, 2007-05-09 00:00:00, ...], 2008: [2008-01-03 00:00:00, 2008-01-08 00:00:00, 2008-01-11 00:00:00, 2008-01-25 00:00:00, 2008-01-29 00:00:00, 2008-02-01 00:00:00, 2008-02-06 00:00:00, 2008-02-07 00:00:00, 2008-02-11 00:00:00, 2008-02-12 00:00:00, 2008-02-18 00:00:00, 2008-02-19 00:00:00, 2008-02-25 00:00:00, 2008-02-28 00:00:00, 2008-03-01 00:00:00, 2008-03-12 00:00:00, 2008-03-25 00:00:00, 2008-04-02 00:00:00, 2008-04-10 00:00:00, 2008-04-19 00:00:00, 2008-04-22 00:00:00, 2008-04-24 00:00:00, 2008-04-26 00:00:00, 2008-05-05 00:00:00, 2008-05-14 00:00:00, 2008-05-20 00:00:00, 2008-05-22 00:00:00, 2008-05-23 00:00:00, 2008-06-01 00:00:00, 2008-06-05 00:00:00, 2008-06-07 00:00:00, 2008-06-14 00:00:00, 2008-06-21 00:00:00, 2008-06-22 00:00:00, 2008-06-27 00:00:00, 2008-06-29 00:00:00, 2008-07-07 00:00:00, 2008-07-09 00:00:00, 2008-07-13 00:00:00, 2008-07-17 00:00:00, 2008-07-19 00:00:00, 2008-07-29 00:00:00, 2008-07-30 00:00:00, 2008-08-13 00:00:00, 2008-08-17 00:00:00, 2008-08-22 00:00:00, 2008-08-29 00:00:00, 2008-09-04 00:00:00, 2008-09-13 00:00:00, 2008-09-15 00:00:00, 2008-09-17 00:00:00, 2008-09-24 00:00:00, 2008-09-26 00:00:00, 2008-10-10 00:00:00, 2008-10-11 00:00:00, 2008-10-14 00:00:00, 2008-10-16 00:00:00, 2008-10-20 00:00:00, 2008-10-26 00:00:00, 2008-11-05 00:00:00, 2008-11-07 00:00:00, 2008-11-10 00:00:00, 2008-11-15 00:00:00, 2008-11-22 00:00:00, 2008-11-24 00:00:00, 2008-12-10 00:00:00, 2008-12-17 00:00:00, 2008-12-19 00:00:00, 2008-12-23 00:00:00, 2008-01-01 00:00:00, 2008-01-09 00:00:00, 2008-01-14 00:00:00, 2008-01-18 00:00:00, 2008-01-19 00:00:00, 2008-01-31 00:00:00, 2008-02-03 00:00:00, 2008-02-20 00:00:00, 2008-02-22 00:00:00, 2008-02-24 00:00:00, 2008-03-02 00:00:00, 2008-03-04 00:00:00, 2008-03-17 00:00:00, 2008-03-18 00:00:00, 2008-03-22 00:00:00, 2008-03-23 00:00:00, 2008-04-03 00:00:00, 2008-04-06 00:00:00, 2008-04-07 00:00:00, 2008-04-17 00:00:00, 2008-04-25 00:00:00, 2008-04-29 00:00:00, 2008-05-07 00:00:00, 2008-05-08 00:00:00, 2008-05-12 00:00:00, 2008-05-15 00:00:00, 2008-05-16 00:00:00, 2008-05-28 00:00:00, 2008-05-30 00:00:00, 2008-06-10 00:00:00, 2008-06-16 00:00:00, ...], 2009: [2009-10-03 00:00:00, 2009-10-10 00:00:00, 2009-10-14 00:00:00, 2009-10-17 00:00:00, 2009-10-29 00:00:00, 2009-11-03 00:00:00, 2009-11-10 00:00:00, 2009-11-16 00:00:00, 2009-11-17 00:00:00, 2009-11-18 00:00:00, 2009-11-19 00:00:00, 2009-11-22 00:00:00, 2009-11-27 00:00:00, 2009-12-01 00:00:00, 2009-12-08 00:00:00, 2009-12-11 00:00:00, 2009-12-16 00:00:00, 2009-12-17 00:00:00, 2009-12-21 00:00:00, 2009-12-23 00:00:00, 2009-01-06 00:00:00, 2009-01-17 00:00:00, 2009-01-20 00:00:00, 2009-01-26 00:00:00, 2009-02-06 00:00:00, 2009-02-09 00:00:00, 2009-02-15 00:00:00, 2009-02-16 00:00:00, 2009-02-28 00:00:00, 2009-03-01 00:00:00, 2009-03-04 00:00:00, 2009-03-14 00:00:00, 2009-03-17 00:00:00, 2009-03-25 00:00:00, 2009-03-27 00:00:00, 2009-04-05 00:00:00, 2009-04-07 00:00:00, 2009-04-14 00:00:00, 2009-04-19 00:00:00, 2009-04-20 00:00:00, 2009-05-11 00:00:00, 2009-05-12 00:00:00, 2009-05-14 00:00:00, 2009-05-23 00:00:00, 2009-05-26 00:00:00, 2009-06-20 00:00:00, 2009-06-27 00:00:00, 2009-06-30 00:00:00, 2009-07-06 00:00:00, 2009-07-09 00:00:00, 2009-07-10 00:00:00, 2009-07-23 00:00:00, 2009-07-29 00:00:00, 2009-07-30 00:00:00, 2009-08-02 00:00:00, 2009-08-05 00:00:00, 2009-08-07 00:00:00, 2009-08-09 00:00:00, 2009-08-12 00:00:00, 2009-08-24 00:00:00, 2009-08-27 00:00:00, 2009-09-06 00:00:00, 2009-09-07 00:00:00, 2009-09-08 00:00:00, 2009-09-13 00:00:00, 2009-09-14 00:00:00, 2009-09-18 00:00:00, 2009-09-19 00:00:00, 2009-09-26 00:00:00, 2009-10-15 00:00:00, 2009-10-16 00:00:00, 2009-10-19 00:00:00, 2009-10-20 00:00:00, 2009-10-22 00:00:00, 2009-10-23 00:00:00, 2009-10-26 00:00:00, 2009-11-04 00:00:00, 2009-11-05 00:00:00, 2009-11-14 00:00:00, 2009-11-24 00:00:00, 2009-11-26 00:00:00, 2009-12-05 00:00:00, 2009-12-06 00:00:00, 2009-12-12 00:00:00, 2009-12-19 00:00:00, 2009-12-20 00:00:00, 2009-12-25 00:00:00, 2009-12-29 00:00:00, 2009-01-14 00:00:00, 2009-01-19 00:00:00, 2009-01-25 00:00:00, 2009-01-27 00:00:00, 2009-01-29 00:00:00, 2009-01-31 00:00:00, 2009-02-10 00:00:00, 2009-02-11 00:00:00, 2009-02-17 00:00:00, 2009-02-19 00:00:00, 2009-02-24 00:00:00, 2009-02-27 00:00:00, ...], 2010: [2010-01-07 00:00:00, 2010-01-08 00:00:00, 2010-01-10 00:00:00, 2010-01-14 00:00:00, 2010-01-19 00:00:00, 2010-02-16 00:00:00, 2010-02-20 00:00:00, 2010-02-22 00:00:00, 2010-03-02 00:00:00, 2010-03-09 00:00:00, 2010-03-16 00:00:00, 2010-03-20 00:00:00, 2010-04-02 00:00:00, 2010-04-04 00:00:00, 2010-04-06 00:00:00, 2010-04-14 00:00:00, 2010-05-02 00:00:00, 2010-05-10 00:00:00, 2010-05-14 00:00:00, 2010-05-16 00:00:00, 2010-05-20 00:00:00, 2010-05-26 00:00:00, 2010-05-28 00:00:00, 2010-06-01 00:00:00, 2010-06-02 00:00:00, 2010-06-14 00:00:00, 2010-06-15 00:00:00, 2010-06-25 00:00:00, 2010-06-27 00:00:00, 2010-07-20 00:00:00, 2010-07-21 00:00:00, 2010-07-24 00:00:00, 2010-07-28 00:00:00, 2010-07-30 00:00:00, 2010-07-31 00:00:00, 2010-08-03 00:00:00, 2010-08-14 00:00:00, 2010-08-18 00:00:00, 2010-08-21 00:00:00, 2010-08-23 00:00:00, 2010-08-28 00:00:00, 2010-08-31 00:00:00, 2010-09-08 00:00:00, 2010-09-10 00:00:00, 2010-09-12 00:00:00, 2010-09-13 00:00:00, 2010-09-14 00:00:00, 2010-09-19 00:00:00, 2010-09-20 00:00:00, 2010-09-22 00:00:00, 2010-10-07 00:00:00, 2010-10-12 00:00:00, 2010-11-15 00:00:00, 2010-11-16 00:00:00, 2010-12-12 00:00:00, 2010-12-14 00:00:00, 2010-12-24 00:00:00, 2010-12-31 00:00:00, 2010-09-23 00:00:00, 2010-09-24 00:00:00, 2010-09-30 00:00:00, 2010-10-05 00:00:00, 2010-10-24 00:00:00, 2010-10-30 00:00:00, 2010-11-01 00:00:00, 2010-11-03 00:00:00, 2010-11-11 00:00:00, 2010-10-20 00:00:00, 2010-10-22 00:00:00, 2010-11-17 00:00:00, 2010-11-24 00:00:00, 2010-12-09 00:00:00, 2010-01-01 00:00:00, 2010-01-03 00:00:00, 2010-01-05 00:00:00, 2010-01-06 00:00:00, 2010-01-16 00:00:00, 2010-01-18 00:00:00, 2010-01-23 00:00:00, 2010-01-25 00:00:00, 2010-01-26 00:00:00, 2010-01-31 00:00:00, 2010-02-03 00:00:00, 2010-02-08 00:00:00, 2010-02-15 00:00:00, 2010-02-24 00:00:00, 2010-02-27 00:00:00, 2010-02-28 00:00:00, 2010-03-10 00:00:00, 2010-03-17 00:00:00, 2010-03-28 00:00:00, 2010-04-01 00:00:00, 2010-04-05 00:00:00, 2010-04-10 00:00:00, 2010-04-11 00:00:00, 2010-04-12 00:00:00, 2010-04-17 00:00:00, 2010-04-18 00:00:00, 2010-04-23 00:00:00, 2010-04-24 00:00:00, ...], 2011: [2011-02-11 00:00:00, 2011-02-13 00:00:00, 2011-02-16 00:00:00, 2011-02-18 00:00:00, 2011-02-23 00:00:00, 2011-03-03 00:00:00, 2011-03-16 00:00:00, 2011-03-19 00:00:00, 2011-03-21 00:00:00, 2011-03-23 00:00:00, 2011-03-30 00:00:00, 2011-04-01 00:00:00, 2011-04-02 00:00:00, 2011-04-07 00:00:00, 2011-04-08 00:00:00, 2011-04-10 00:00:00, 2011-04-12 00:00:00, 2011-04-13 00:00:00, 2011-04-19 00:00:00, 2011-04-21 00:00:00, 2011-04-23 00:00:00, 2011-04-24 00:00:00, 2011-04-26 00:00:00, 2011-04-27 00:00:00, 2011-05-14 00:00:00, 2011-05-17 00:00:00, 2011-05-20 00:00:00, 2011-05-22 00:00:00, 2011-05-23 00:00:00, 2011-06-02 00:00:00, 2011-06-03 00:00:00, 2011-06-05 00:00:00, 2011-06-06 00:00:00, 2011-06-10 00:00:00, 2011-06-12 00:00:00, 2011-06-16 00:00:00, 2011-06-17 00:00:00, 2011-06-24 00:00:00, 2011-06-25 00:00:00, 2011-06-26 00:00:00, 2011-06-29 00:00:00, 2011-07-01 00:00:00, 2011-07-06 00:00:00, 2011-07-14 00:00:00, 2011-07-16 00:00:00, 2011-07-17 00:00:00, 2011-07-25 00:00:00, 2011-07-27 00:00:00, 2011-07-31 00:00:00, 2011-08-01 00:00:00, 2011-08-04 00:00:00, 2011-08-08 00:00:00, 2011-08-16 00:00:00, 2011-08-23 00:00:00, 2011-09-01 00:00:00, 2011-09-12 00:00:00, 2011-09-21 00:00:00, 2011-09-24 00:00:00, 2011-09-26 00:00:00, 2011-09-29 00:00:00, 2011-10-10 00:00:00, 2011-10-18 00:00:00, 2011-10-19 00:00:00, 2011-10-23 00:00:00, 2011-10-24 00:00:00, 2011-11-03 00:00:00, 2011-11-04 00:00:00, 2011-11-11 00:00:00, 2011-11-15 00:00:00, 2011-11-21 00:00:00, 2011-11-23 00:00:00, 2011-11-30 00:00:00, 2011-12-05 00:00:00, 2011-12-10 00:00:00, 2011-12-22 00:00:00, 2011-12-27 00:00:00, 2011-12-29 00:00:00, 2011-12-31 00:00:00, 2011-01-05 00:00:00, 2011-01-21 00:00:00, 2011-01-27 00:00:00, 2011-01-28 00:00:00, 2011-02-01 00:00:00, 2011-02-05 00:00:00, 2011-02-06 00:00:00, 2011-01-09 00:00:00, 2011-01-18 00:00:00, 2011-01-22 00:00:00, 2011-01-26 00:00:00, 2011-01-04 00:00:00, 2011-01-08 00:00:00, 2011-01-14 00:00:00, 2011-01-16 00:00:00, 2011-01-17 00:00:00, 2011-01-20 00:00:00, 2011-01-29 00:00:00, 2011-02-27 00:00:00, 2011-03-08 00:00:00, 2011-03-17 00:00:00, 2011-03-28 00:00:00, ...], 2012: [2012-06-25 00:00:00, 2012-07-01 00:00:00, 2012-07-06 00:00:00, 2012-07-09 00:00:00, 2012-07-11 00:00:00, 2012-07-21 00:00:00, 2012-07-25 00:00:00, 2012-07-27 00:00:00, 2012-07-29 00:00:00, 2012-08-02 00:00:00, 2012-08-06 00:00:00, 2012-08-10 00:00:00, 2012-08-14 00:00:00, 2012-08-24 00:00:00, 2012-08-26 00:00:00, 2012-08-28 00:00:00, 2012-08-30 00:00:00, 2012-09-02 00:00:00, 2012-09-14 00:00:00, 2012-09-25 00:00:00, 2012-10-02 00:00:00, 2012-10-07 00:00:00, 2012-10-14 00:00:00, 2012-10-16 00:00:00, 2012-10-25 00:00:00, 2012-10-27 00:00:00, 2012-11-01 00:00:00, 2012-11-02 00:00:00, 2012-11-18 00:00:00, 2012-11-19 00:00:00, 2012-11-30 00:00:00, 2012-12-02 00:00:00, 2012-12-14 00:00:00, 2012-12-16 00:00:00, 2012-12-21 00:00:00, 2012-12-24 00:00:00, 2012-12-28 00:00:00, 2012-12-29 00:00:00, 2012-12-31 00:00:00, 2012-01-01 00:00:00, 2012-01-06 00:00:00, 2012-01-11 00:00:00, 2012-01-12 00:00:00, 2012-01-17 00:00:00, 2012-01-20 00:00:00, 2012-01-21 00:00:00, 2012-01-25 00:00:00, 2012-01-28 00:00:00, 2012-01-29 00:00:00, 2012-01-31 00:00:00, 2012-02-01 00:00:00, 2012-02-07 00:00:00, 2012-02-08 00:00:00, 2012-02-14 00:00:00, 2012-02-15 00:00:00, 2012-02-17 00:00:00, 2012-02-18 00:00:00, 2012-02-24 00:00:00, 2012-02-28 00:00:00, 2012-03-04 00:00:00, 2012-03-06 00:00:00, 2012-03-08 00:00:00, 2012-03-13 00:00:00, 2012-03-21 00:00:00, 2012-03-25 00:00:00, 2012-04-04 00:00:00, 2012-04-08 00:00:00, 2012-04-17 00:00:00, 2012-04-28 00:00:00, 2012-04-29 00:00:00, 2012-05-07 00:00:00, 2012-05-08 00:00:00, 2012-05-10 00:00:00, 2012-05-13 00:00:00, 2012-05-14 00:00:00, 2012-05-20 00:00:00, 2012-05-21 00:00:00, 2012-06-10 00:00:00, 2012-06-12 00:00:00, 2012-06-16 00:00:00, 2012-01-09 00:00:00, 2012-01-13 00:00:00, 2012-01-14 00:00:00, 2012-01-15 00:00:00, 2012-01-24 00:00:00, 2012-01-26 00:00:00, 2012-02-05 00:00:00, 2012-02-10 00:00:00, 2012-04-26 00:00:00, 2012-04-30 00:00:00, 2012-06-13 00:00:00, 2012-06-15 00:00:00, 2012-06-19 00:00:00, 2012-01-04 00:00:00, 2012-01-07 00:00:00, 2012-02-21 00:00:00, 2012-02-23 00:00:00, 2012-03-01 00:00:00, 2012-03-09 00:00:00, 2012-03-10 00:00:00, ...], 2013: [2013-01-15 00:00:00, 2013-01-21 00:00:00, 2013-02-10 00:00:00, 2013-02-11 00:00:00, 2013-02-16 00:00:00, 2013-02-23 00:00:00, 2013-02-25 00:00:00, 2013-03-09 00:00:00, 2013-03-15 00:00:00, 2013-03-20 00:00:00, 2013-03-25 00:00:00, 2013-03-26 00:00:00, 2013-03-30 00:00:00, 2013-04-05 00:00:00, 2013-04-09 00:00:00, 2013-04-17 00:00:00, 2013-04-20 00:00:00, 2013-04-21 00:00:00, 2013-05-02 00:00:00, 2013-05-04 00:00:00, 2013-05-05 00:00:00, 2013-05-10 00:00:00, 2013-05-11 00:00:00, 2013-05-17 00:00:00, 2013-05-25 00:00:00, 2013-06-05 00:00:00, 2013-06-11 00:00:00, 2013-06-14 00:00:00, 2013-06-19 00:00:00, 2013-07-16 00:00:00, 2013-07-21 00:00:00, 2013-08-02 00:00:00, 2013-08-05 00:00:00, 2013-08-12 00:00:00, 2013-08-13 00:00:00, 2013-08-18 00:00:00, 2013-08-29 00:00:00, 2013-09-03 00:00:00, 2013-09-04 00:00:00, 2013-10-08 00:00:00, 2013-10-13 00:00:00, 2013-10-29 00:00:00, 2013-10-30 00:00:00, 2013-11-02 00:00:00, 2013-11-09 00:00:00, 2013-11-12 00:00:00, 2013-11-17 00:00:00, 2013-11-18 00:00:00, 2013-11-19 00:00:00, 2013-11-28 00:00:00, 2013-12-19 00:00:00, 2013-12-21 00:00:00, 2013-01-01 00:00:00, 2013-01-07 00:00:00, 2013-01-11 00:00:00, 2013-01-12 00:00:00, 2013-01-16 00:00:00, 2013-01-19 00:00:00, 2013-01-20 00:00:00, 2013-01-25 00:00:00, 2013-01-28 00:00:00, 2013-01-31 00:00:00, 2013-02-01 00:00:00, 2013-02-02 00:00:00, 2013-02-03 00:00:00, 2013-02-04 00:00:00, 2013-02-06 00:00:00, 2013-02-20 00:00:00, 2013-02-22 00:00:00, 2013-03-06 00:00:00, 2013-03-12 00:00:00, 2013-03-13 00:00:00, 2013-03-17 00:00:00, 2013-03-23 00:00:00, 2013-03-28 00:00:00, 2013-03-31 00:00:00, 2013-04-03 00:00:00, 2013-04-10 00:00:00, 2013-04-16 00:00:00, 2013-04-24 00:00:00, 2013-05-16 00:00:00, 2013-05-19 00:00:00, 2013-06-16 00:00:00, 2013-06-18 00:00:00, 2013-06-23 00:00:00, 2013-06-27 00:00:00, 2013-06-29 00:00:00, 2013-07-03 00:00:00, 2013-07-07 00:00:00, 2013-07-08 00:00:00, 2013-07-11 00:00:00, 2013-07-17 00:00:00, 2013-07-18 00:00:00, 2013-07-19 00:00:00, 2013-07-22 00:00:00, 2013-07-30 00:00:00, 2013-07-31 00:00:00, 2013-08-09 00:00:00, 2013-08-19 00:00:00, 2013-08-26 00:00:00, ...], 2014: [2014-01-02 00:00:00, 2014-01-11 00:00:00, 2014-01-13 00:00:00, 2014-01-15 00:00:00, 2014-01-18 00:00:00, 2014-01-19 00:00:00, 2014-01-27 00:00:00, 2014-02-08 00:00:00, 2014-02-11 00:00:00, 2014-02-14 00:00:00, 2014-02-16 00:00:00, 2014-02-19 00:00:00, 2014-02-20 00:00:00, 2014-03-03 00:00:00, 2014-03-16 00:00:00, 2014-03-17 00:00:00, 2014-03-22 00:00:00, 2014-03-31 00:00:00, 2014-04-12 00:00:00, 2014-04-15 00:00:00, 2014-04-25 00:00:00, 2014-04-27 00:00:00, 2014-05-02 00:00:00, 2014-05-03 00:00:00, 2014-05-07 00:00:00, 2014-05-19 00:00:00, 2014-05-21 00:00:00, 2014-05-23 00:00:00, 2014-05-27 00:00:00, 2014-06-07 00:00:00, 2014-06-09 00:00:00, 2014-06-11 00:00:00, 2014-06-23 00:00:00, 2014-06-24 00:00:00, 2014-06-26 00:00:00, 2014-06-29 00:00:00, 2014-06-30 00:00:00, 2014-07-07 00:00:00, 2014-07-12 00:00:00, 2014-07-18 00:00:00, 2014-07-21 00:00:00, 2014-07-31 00:00:00, 2014-08-01 00:00:00, 2014-08-03 00:00:00, 2014-08-08 00:00:00, 2014-08-10 00:00:00, 2014-08-13 00:00:00, 2014-08-20 00:00:00, 2014-08-24 00:00:00, 2014-08-31 00:00:00, 2014-09-01 00:00:00, 2014-09-02 00:00:00, 2014-09-05 00:00:00, 2014-09-09 00:00:00, 2014-09-10 00:00:00, 2014-09-14 00:00:00, 2014-09-16 00:00:00, 2014-09-18 00:00:00, 2014-09-29 00:00:00, 2014-10-01 00:00:00, 2014-10-05 00:00:00, 2014-10-07 00:00:00, 2014-10-21 00:00:00, 2014-10-26 00:00:00, 2014-10-28 00:00:00, 2014-10-30 00:00:00, 2014-11-04 00:00:00, 2014-11-06 00:00:00, 2014-11-17 00:00:00, 2014-11-27 00:00:00, 2014-12-05 00:00:00, 2014-12-15 00:00:00, 2014-12-16 00:00:00, 2014-12-17 00:00:00, 2014-12-20 00:00:00, 2014-12-21 00:00:00, 2014-12-24 00:00:00, 2014-12-26 00:00:00, 2014-12-30 00:00:00, 2014-01-01 00:00:00, 2014-01-07 00:00:00, 2014-01-08 00:00:00, 2014-01-09 00:00:00, 2014-01-14 00:00:00, 2014-01-16 00:00:00, 2014-01-24 00:00:00, 2014-01-25 00:00:00, 2014-02-03 00:00:00, 2014-02-09 00:00:00, 2014-02-13 00:00:00, 2014-02-15 00:00:00, 2014-02-18 00:00:00, 2014-03-02 00:00:00, 2014-03-06 00:00:00, 2014-03-08 00:00:00, 2014-03-13 00:00:00, 2014-03-14 00:00:00, 2014-03-18 00:00:00, 2014-03-19 00:00:00, 2014-03-20 00:00:00, ...], 2015: [2015-04-08 00:00:00, 2015-04-20 00:00:00, 2015-04-26 00:00:00, 2015-04-28 00:00:00, 2015-05-03 00:00:00, 2015-05-23 00:00:00, 2015-05-27 00:00:00, 2015-05-31 00:00:00, 2015-06-09 00:00:00, 2015-06-13 00:00:00, 2015-06-22 00:00:00, 2015-06-28 00:00:00, 2015-07-16 00:00:00, 2015-07-25 00:00:00, 2015-07-26 00:00:00, 2015-07-27 00:00:00, 2015-08-02 00:00:00, 2015-08-06 00:00:00, 2015-08-19 00:00:00, 2015-08-21 00:00:00, 2015-08-23 00:00:00, 2015-09-09 00:00:00, 2015-09-12 00:00:00, 2015-09-13 00:00:00, 2015-09-17 00:00:00, 2015-09-20 00:00:00, 2015-09-24 00:00:00, 2015-09-27 00:00:00, 2015-10-01 00:00:00, 2015-10-03 00:00:00, 2015-10-17 00:00:00, 2015-10-21 00:00:00, 2015-10-25 00:00:00, 2015-11-07 00:00:00, 2015-11-10 00:00:00, 2015-11-12 00:00:00, 2015-11-13 00:00:00, 2015-11-15 00:00:00, 2015-11-17 00:00:00, 2015-11-18 00:00:00, 2015-11-29 00:00:00, 2015-12-03 00:00:00, 2015-12-04 00:00:00, 2015-12-09 00:00:00, 2015-12-10 00:00:00, 2015-12-18 00:00:00, 2015-12-24 00:00:00, 2015-12-25 00:00:00, 2015-12-26 00:00:00, 2015-01-01 00:00:00, 2015-01-08 00:00:00, 2015-01-10 00:00:00, 2015-01-15 00:00:00, 2015-01-17 00:00:00, 2015-01-18 00:00:00, 2015-01-22 00:00:00, 2015-01-24 00:00:00, 2015-02-02 00:00:00, 2015-02-05 00:00:00, 2015-02-12 00:00:00, 2015-02-21 00:00:00, 2015-02-26 00:00:00, 2015-02-27 00:00:00, 2015-03-02 00:00:00, 2015-03-04 00:00:00, 2015-03-09 00:00:00, 2015-03-19 00:00:00, 2015-03-20 00:00:00, 2015-03-21 00:00:00, 2015-03-28 00:00:00, 2015-03-30 00:00:00, 2015-04-04 00:00:00, 2015-04-09 00:00:00, 2015-04-12 00:00:00, 2015-04-16 00:00:00, 2015-04-24 00:00:00, 2015-04-25 00:00:00, 2015-04-30 00:00:00, 2015-05-01 00:00:00, 2015-05-05 00:00:00, 2015-05-13 00:00:00, 2015-05-14 00:00:00, 2015-05-18 00:00:00, 2015-05-19 00:00:00, 2015-05-25 00:00:00, 2015-06-04 00:00:00, 2015-06-06 00:00:00, 2015-06-07 00:00:00, 2015-06-14 00:00:00, 2015-06-17 00:00:00, 2015-06-23 00:00:00, 2015-07-02 00:00:00, 2015-07-04 00:00:00, 2015-07-11 00:00:00, 2015-07-12 00:00:00, 2015-07-15 00:00:00, 2015-07-17 00:00:00, 2015-07-30 00:00:00, 2015-08-05 00:00:00, 2015-08-12 00:00:00, ...], 2016: [2016-01-03 00:00:00, 2016-01-10 00:00:00, 2016-01-13 00:00:00, 2016-01-18 00:00:00, 2016-01-24 00:00:00, 2016-01-26 00:00:00, 2016-01-30 00:00:00, 2016-02-01 00:00:00, 2016-02-03 00:00:00, 2016-02-07 00:00:00, 2016-02-11 00:00:00, 2016-02-13 00:00:00, 2016-02-16 00:00:00, 2016-02-21 00:00:00, 2016-02-23 00:00:00, 2016-02-28 00:00:00, 2016-03-03 00:00:00, 2016-03-06 00:00:00, 2016-03-10 00:00:00, 2016-03-11 00:00:00, 2016-03-16 00:00:00, 2016-03-20 00:00:00, 2016-03-26 00:00:00, 2016-03-30 00:00:00, 2016-04-12 00:00:00, 2016-04-13 00:00:00, 2016-04-15 00:00:00, 2016-04-16 00:00:00, 2016-04-23 00:00:00, 2016-04-24 00:00:00, 2016-05-07 00:00:00, 2016-05-14 00:00:00, 2016-05-25 00:00:00, 2016-05-26 00:00:00, 2016-06-09 00:00:00, 2016-06-13 00:00:00, 2016-06-24 00:00:00, 2016-06-26 00:00:00, 2016-07-13 00:00:00, 2016-07-16 00:00:00, 2016-07-18 00:00:00, 2016-07-29 00:00:00, 2016-08-06 00:00:00, 2016-08-08 00:00:00, 2016-08-21 00:00:00, 2016-08-29 00:00:00, 2016-08-30 00:00:00, 2016-09-06 00:00:00, 2016-09-15 00:00:00, 2016-09-18 00:00:00, 2016-09-28 00:00:00, 2016-09-29 00:00:00, 2016-10-01 00:00:00, 2016-10-10 00:00:00, 2016-10-12 00:00:00, 2016-10-18 00:00:00, 2016-10-20 00:00:00, 2016-10-23 00:00:00, 2016-10-25 00:00:00, 2016-10-26 00:00:00, 2016-11-04 00:00:00, 2016-11-05 00:00:00, 2016-11-06 00:00:00, 2016-11-09 00:00:00, 2016-11-12 00:00:00, 2016-11-19 00:00:00, 2016-11-20 00:00:00, 2016-11-21 00:00:00, 2016-11-23 00:00:00, 2016-11-29 00:00:00, 2016-12-06 00:00:00, 2016-12-07 00:00:00, 2016-12-25 00:00:00, 2016-12-27 00:00:00, 2016-12-31 00:00:00, 2016-01-05 00:00:00, 2016-01-06 00:00:00, 2016-01-11 00:00:00, 2016-01-15 00:00:00, 2016-01-22 00:00:00, 2016-01-23 00:00:00, 2016-01-29 00:00:00, 2016-01-31 00:00:00, 2016-02-04 00:00:00, 2016-02-09 00:00:00, 2016-02-12 00:00:00, 2016-02-18 00:00:00, 2016-02-22 00:00:00, 2016-02-26 00:00:00, 2016-03-04 00:00:00, 2016-03-05 00:00:00, 2016-03-14 00:00:00, 2016-03-15 00:00:00, 2016-03-18 00:00:00, 2016-03-21 00:00:00, 2016-03-23 00:00:00, 2016-03-27 00:00:00, 2016-04-09 00:00:00, 2016-04-10 00:00:00, 2016-04-22 00:00:00, ...], 2017: [2017-01-06 00:00:00, 2017-01-08 00:00:00, 2017-01-10 00:00:00, 2017-01-12 00:00:00, 2017-01-23 00:00:00, 2017-01-28 00:00:00, 2017-01-30 00:00:00, 2017-02-01 00:00:00, 2017-02-05 00:00:00, 2017-02-15 00:00:00, 2017-02-19 00:00:00, 2017-02-20 00:00:00, 2017-02-24 00:00:00, 2017-02-25 00:00:00, 2017-02-27 00:00:00, 2017-02-28 00:00:00, 2017-03-08 00:00:00, 2017-03-25 00:00:00, 2017-04-07 00:00:00, 2017-04-12 00:00:00, 2017-04-16 00:00:00, 2017-04-22 00:00:00, 2017-04-23 00:00:00, 2017-04-24 00:00:00, 2017-05-04 00:00:00, 2017-05-14 00:00:00, 2017-05-22 00:00:00, 2017-05-24 00:00:00, 2017-05-27 00:00:00, 2017-06-17 00:00:00, 2017-06-18 00:00:00, 2017-06-20 00:00:00, 2017-06-22 00:00:00, 2017-06-28 00:00:00, 2017-06-29 00:00:00, 2017-07-02 00:00:00, 2017-07-03 00:00:00, 2017-07-04 00:00:00, 2017-07-09 00:00:00, 2017-07-11 00:00:00, 2017-07-14 00:00:00, 2017-07-20 00:00:00, 2017-07-23 00:00:00, 2017-08-11 00:00:00, 2017-08-12 00:00:00, 2017-08-17 00:00:00, 2017-08-29 00:00:00, 2017-09-03 00:00:00, 2017-09-07 00:00:00, 2017-09-09 00:00:00, 2017-09-11 00:00:00, 2017-09-21 00:00:00, 2017-10-14 00:00:00, 2017-10-19 00:00:00, 2017-10-21 00:00:00, 2017-10-22 00:00:00, 2017-10-25 00:00:00, 2017-10-26 00:00:00, 2017-10-28 00:00:00, 2017-10-30 00:00:00, 2017-11-12 00:00:00, 2017-11-22 00:00:00, 2017-12-12 00:00:00, 2017-12-31 00:00:00, 2017-12-19 00:00:00, 2017-12-28 00:00:00, 2017-12-17 00:00:00, 2017-01-03 00:00:00, 2017-01-04 00:00:00, 2017-01-24 00:00:00, 2017-02-02 00:00:00, 2017-02-08 00:00:00, 2017-02-11 00:00:00, 2017-02-18 00:00:00, 2017-02-22 00:00:00, 2017-03-02 00:00:00, 2017-03-05 00:00:00, 2017-03-12 00:00:00, 2017-03-15 00:00:00, 2017-03-16 00:00:00, 2017-03-24 00:00:00, 2017-03-28 00:00:00, 2017-03-29 00:00:00, 2017-04-02 00:00:00, 2017-04-03 00:00:00, 2017-04-08 00:00:00, 2017-04-13 00:00:00, 2017-04-14 00:00:00, 2017-04-15 00:00:00, 2017-04-19 00:00:00, 2017-05-05 00:00:00, 2017-05-07 00:00:00, 2017-05-09 00:00:00, 2017-05-17 00:00:00, 2017-05-25 00:00:00, 2017-05-26 00:00:00, 2017-06-05 00:00:00, 2017-06-10 00:00:00, 2017-06-15 00:00:00, 2017-06-21 00:00:00, ...], 2018: [2018-01-10 00:00:00, 2018-02-13 00:00:00, 2018-03-05 00:00:00, 2018-03-08 00:00:00, 2018-03-12 00:00:00, 2018-03-15 00:00:00, 2018-03-18 00:00:00, 2018-03-23 00:00:00, 2018-04-01 00:00:00, 2018-04-08 00:00:00, 2018-04-19 00:00:00, 2018-05-15 00:00:00, 2018-07-26 00:00:00, 2018-07-29 00:00:00, 2018-08-05 00:00:00, 2018-08-12 00:00:00, 2018-08-25 00:00:00, 2018-09-04 00:00:00, 2018-09-12 00:00:00, 2018-09-13 00:00:00, 2018-10-08 00:00:00, 2018-10-17 00:00:00, 2018-10-21 00:00:00, 2018-10-24 00:00:00, 2018-10-26 00:00:00, 2018-11-15 00:00:00, 2018-11-19 00:00:00, 2018-11-21 00:00:00, 2018-11-23 00:00:00, 2018-11-27 00:00:00, 2018-12-02 00:00:00, 2018-12-09 00:00:00, 2018-12-26 00:00:00, 2018-12-29 00:00:00, 2018-12-30 00:00:00, 2018-01-20 00:00:00, 2018-01-29 00:00:00, 2018-02-01 00:00:00, 2018-02-16 00:00:00, 2018-02-20 00:00:00, 2018-02-28 00:00:00, 2018-03-11 00:00:00, 2018-03-28 00:00:00, 2018-05-02 00:00:00, 2018-05-04 00:00:00, 2018-05-06 00:00:00, 2018-05-14 00:00:00, 2018-06-02 00:00:00, 2018-06-14 00:00:00, 2018-06-18 00:00:00, 2018-06-25 00:00:00, 2018-08-19 00:00:00, 2018-08-20 00:00:00, 2018-08-22 00:00:00, 2018-08-27 00:00:00, 2018-08-28 00:00:00, 2018-08-29 00:00:00, 2018-09-07 00:00:00, 2018-09-09 00:00:00, 2018-09-10 00:00:00, 2018-09-14 00:00:00, 2018-09-16 00:00:00, 2018-10-06 00:00:00, 2018-10-07 00:00:00, 2018-10-29 00:00:00, 2018-11-05 00:00:00, 2018-11-06 00:00:00, 2018-11-14 00:00:00, 2018-11-24 00:00:00, 2018-12-28 00:00:00, 2018-01-02 00:00:00, 2018-01-18 00:00:00, 2018-01-22 00:00:00, 2018-01-27 00:00:00, 2018-02-07 00:00:00, 2018-01-01 00:00:00, 2018-01-13 00:00:00, 2018-01-15 00:00:00, 2018-01-17 00:00:00, 2018-01-19 00:00:00, 2018-01-26 00:00:00, 2018-01-30 00:00:00, 2018-02-02 00:00:00, 2018-02-03 00:00:00, 2018-02-04 00:00:00, 2018-02-12 00:00:00, 2018-02-18 00:00:00, 2018-02-24 00:00:00, 2018-02-26 00:00:00, 2018-03-03 00:00:00, 2018-03-04 00:00:00, 2018-03-07 00:00:00, 2018-03-10 00:00:00, 2018-03-16 00:00:00, 2018-03-20 00:00:00, 2018-03-25 00:00:00, 2018-03-29 00:00:00, 2018-03-30 00:00:00, 2018-03-31 00:00:00, 2018-04-04 00:00:00, ...], 2019: [2019-01-02 00:00:00, 2019-01-19 00:00:00, 2019-01-25 00:00:00, 2019-01-26 00:00:00, 2019-01-29 00:00:00, 2019-02-02 00:00:00, 2019-02-25 00:00:00, 2019-03-20 00:00:00, 2019-04-15 00:00:00, 2019-04-18 00:00:00, 2019-04-26 00:00:00, 2019-04-27 00:00:00, 2019-01-05 00:00:00, 2019-01-23 00:00:00, 2019-02-07 00:00:00, 2019-02-15 00:00:00, 2019-02-16 00:00:00, 2019-02-19 00:00:00, 2019-03-02 00:00:00, 2019-03-08 00:00:00, 2019-03-13 00:00:00, 2019-03-22 00:00:00, 2019-03-23 00:00:00, 2019-03-31 00:00:00, 2019-04-01 00:00:00, 2019-04-12 00:00:00, 2019-05-01 00:00:00, 2019-05-03 00:00:00, 2019-05-04 00:00:00, 2019-05-05 00:00:00, 2019-05-10 00:00:00, 2019-05-16 00:00:00, 2019-05-18 00:00:00, 2019-05-25 00:00:00, 2019-05-27 00:00:00, 2019-05-29 00:00:00, 2019-06-01 00:00:00, 2019-06-03 00:00:00, 2019-06-17 00:00:00, 2019-06-18 00:00:00, 2019-06-21 00:00:00, 2019-06-22 00:00:00, 2019-01-06 00:00:00, 2019-01-07 00:00:00, 2019-01-11 00:00:00, 2019-01-22 00:00:00, 2019-01-24 00:00:00, 2019-01-28 00:00:00, 2019-01-31 00:00:00, 2019-02-04 00:00:00, 2019-02-05 00:00:00, 2019-02-08 00:00:00, 2019-02-14 00:00:00, 2019-02-20 00:00:00, 2019-02-21 00:00:00, 2019-02-24 00:00:00, 2019-03-09 00:00:00, 2019-03-28 00:00:00, 2019-04-04 00:00:00, 2019-04-06 00:00:00, 2019-04-08 00:00:00, 2019-04-13 00:00:00, 2019-04-16 00:00:00, 2019-04-19 00:00:00, 2019-04-24 00:00:00, 2019-04-28 00:00:00, 2019-05-07 00:00:00, 2019-05-08 00:00:00, 2019-05-11 00:00:00, 2019-05-14 00:00:00, 2019-05-15 00:00:00, 2019-05-17 00:00:00, 2019-05-19 00:00:00, 2019-05-21 00:00:00, 2019-05-28 00:00:00, 2019-05-30 00:00:00, 2019-06-02 00:00:00, 2019-06-09 00:00:00, 2019-06-10 00:00:00, 2019-06-12 00:00:00, 2019-01-03 00:00:00, 2019-01-10 00:00:00, 2019-01-13 00:00:00, 2019-01-16 00:00:00, 2019-01-17 00:00:00, 2019-01-18 00:00:00, 2019-01-27 00:00:00, 2019-02-03 00:00:00, 2019-02-11 00:00:00, 2019-02-22 00:00:00, 2019-03-10 00:00:00, 2019-03-12 00:00:00, 2019-03-18 00:00:00, 2019-03-25 00:00:00, 2019-03-29 00:00:00, 2019-03-30 00:00:00, 2019-04-02 00:00:00, 2019-04-05 00:00:00, 2019-04-10 00:00:00, 2019-04-20 00:00:00, ...]}"
      ]
     },
     "execution_count": 84,
     "metadata": {},
     "output_type": "execute_result"
    }
   ],
   "source": [
    "df.groupby(df.index.year).agg"
   ]
  },
  {
   "cell_type": "markdown",
   "metadata": {},
   "source": [
    "B. ¿En qué año se han registrado más nieve (`snowdepth`)? "
   ]
  },
  {
   "cell_type": "markdown",
   "metadata": {},
   "source": []
  },
  {
   "cell_type": "markdown",
   "metadata": {},
   "source": [
    "C. Crea un dataframe que contenga la temperatura máxima de julio por cada año."
   ]
  },
  {
   "cell_type": "markdown",
   "metadata": {},
   "source": []
  },
  {
   "cell_type": "markdown",
   "metadata": {},
   "source": [
    "D. Haz una agrupación que contenga las temperaturas máximas y mínimas de cada mes de cada año."
   ]
  },
  {
   "cell_type": "markdown",
   "metadata": {},
   "source": []
  },
  {
   "cell_type": "markdown",
   "metadata": {},
   "source": [
    "# Pivotación de tablas "
   ]
  },
  {
   "cell_type": "markdown",
   "metadata": {},
   "source": [
    "Pivotar una tabla consiste en organizar las columnas a filas o las filas a columnas. Con ello disponemos los datos *transpuestos* a la modelización original.\n",
    "\n",
    "Enlace a la documentación:\n",
    "- https://pandas.pydata.org/docs/reference/api/pandas.pivot_table.html\n",
    "- https://pandas.pydata.org/docs/reference/api/pandas.pivot.html"
   ]
  },
  {
   "cell_type": "code",
   "execution_count": 1,
   "metadata": {},
   "outputs": [
    {
     "name": "stdout",
     "output_type": "stream",
     "text": [
      "   Municipio  Categoria  Values\n",
      "0      muni0  Inscritos       3\n",
      "1      muni0      Censo       7\n",
      "2      muni0  Población       4\n",
      "3      muni1  Inscritos       5\n",
      "4      muni1      Censo       8\n",
      "5      muni1  Población       8\n",
      "6      muni2  Inscritos       9\n",
      "7      muni2      Censo       4\n",
      "8      muni2  Población       6\n",
      "9      muni3  Inscritos       8\n",
      "10     muni3      Censo       3\n",
      "11     muni3  Población       9\n",
      "12     muni4  Inscritos       7\n",
      "13     muni4      Censo       2\n",
      "14     muni4  Población       6\n"
     ]
    }
   ],
   "source": [
    "import pandas as pd\n",
    "import numpy as np\n",
    "\n",
    "samples=5\n",
    "df= pd.DataFrame(\n",
    "    {\n",
    "        \"Municipio\":np.repeat([\"muni%i\"%i for i in range(samples)],3) ,\n",
    "        \"Categoria\"   :[\"Inscritos\",\"Censo\",\"Población\"]*(samples),\n",
    "        \"Values\"   : np.random.randint(1,10,samples*3)\n",
    "    })\n",
    "    \n",
    "    \n",
    "print(df)"
   ]
  },
  {
   "cell_type": "code",
   "execution_count": 2,
   "metadata": {},
   "outputs": [
    {
     "name": "stderr",
     "output_type": "stream",
     "text": [
      "/var/folders/6j/7gfvt_29797dypw8t1wttblw0000gn/T/ipykernel_82835/4259950059.py:4: FutureWarning: pivot_table dropped a column because it failed to aggregate. This behavior is deprecated and will raise in a future version of pandas. Select only the columns that can be aggregated.\n",
      "  pd.pivot_table(df, index=['Categoria'])\n"
     ]
    },
    {
     "data": {
      "text/html": [
       "<div>\n",
       "<style scoped>\n",
       "    .dataframe tbody tr th:only-of-type {\n",
       "        vertical-align: middle;\n",
       "    }\n",
       "\n",
       "    .dataframe tbody tr th {\n",
       "        vertical-align: top;\n",
       "    }\n",
       "\n",
       "    .dataframe thead th {\n",
       "        text-align: right;\n",
       "    }\n",
       "</style>\n",
       "<table border=\"1\" class=\"dataframe\">\n",
       "  <thead>\n",
       "    <tr style=\"text-align: right;\">\n",
       "      <th></th>\n",
       "      <th>Values</th>\n",
       "    </tr>\n",
       "    <tr>\n",
       "      <th>Categoria</th>\n",
       "      <th></th>\n",
       "    </tr>\n",
       "  </thead>\n",
       "  <tbody>\n",
       "    <tr>\n",
       "      <th>Censo</th>\n",
       "      <td>4.8</td>\n",
       "    </tr>\n",
       "    <tr>\n",
       "      <th>Inscritos</th>\n",
       "      <td>6.4</td>\n",
       "    </tr>\n",
       "    <tr>\n",
       "      <th>Población</th>\n",
       "      <td>6.6</td>\n",
       "    </tr>\n",
       "  </tbody>\n",
       "</table>\n",
       "</div>"
      ],
      "text/plain": [
       "           Values\n",
       "Categoria        \n",
       "Censo         4.8\n",
       "Inscritos     6.4\n",
       "Población     6.6"
      ]
     },
     "execution_count": 2,
     "metadata": {},
     "output_type": "execute_result"
    }
   ],
   "source": [
    "# indexcolumn, Grouper, array, or list of the previous\n",
    "# Keys to group by on the pivot table index. If a list is passed, it can contain any of the other types (except list). \n",
    "# If an array is passed, it must be the same length as the data and will be used in the same manner as column values.\n",
    "pd.pivot_table(df, index=['Categoria'])"
   ]
  },
  {
   "cell_type": "code",
   "execution_count": 3,
   "metadata": {},
   "outputs": [
    {
     "name": "stderr",
     "output_type": "stream",
     "text": [
      "/var/folders/6j/7gfvt_29797dypw8t1wttblw0000gn/T/ipykernel_82835/1386358381.py:4: FutureWarning: pivot_table dropped a column because it failed to aggregate. This behavior is deprecated and will raise in a future version of pandas. Select only the columns that can be aggregated.\n",
      "  pd.pivot_table(df, columns=['Categoria'])\n"
     ]
    },
    {
     "data": {
      "text/html": [
       "<div>\n",
       "<style scoped>\n",
       "    .dataframe tbody tr th:only-of-type {\n",
       "        vertical-align: middle;\n",
       "    }\n",
       "\n",
       "    .dataframe tbody tr th {\n",
       "        vertical-align: top;\n",
       "    }\n",
       "\n",
       "    .dataframe thead th {\n",
       "        text-align: right;\n",
       "    }\n",
       "</style>\n",
       "<table border=\"1\" class=\"dataframe\">\n",
       "  <thead>\n",
       "    <tr style=\"text-align: right;\">\n",
       "      <th>Categoria</th>\n",
       "      <th>Censo</th>\n",
       "      <th>Inscritos</th>\n",
       "      <th>Población</th>\n",
       "    </tr>\n",
       "  </thead>\n",
       "  <tbody>\n",
       "    <tr>\n",
       "      <th>Values</th>\n",
       "      <td>4.8</td>\n",
       "      <td>6.4</td>\n",
       "      <td>6.6</td>\n",
       "    </tr>\n",
       "  </tbody>\n",
       "</table>\n",
       "</div>"
      ],
      "text/plain": [
       "Categoria  Censo  Inscritos  Población\n",
       "Values       4.8        6.4        6.6"
      ]
     },
     "execution_count": 3,
     "metadata": {},
     "output_type": "execute_result"
    }
   ],
   "source": [
    "# columnscolumn, Grouper, array, or list of the previous\n",
    "# Keys to group by on the pivot table column. If a list is passed, it can contain any of the other types (except list). \n",
    "# If an array is passed, it must be the same length as the data and will be used in the same manner as column values.\n",
    "pd.pivot_table(df, columns=['Categoria'])"
   ]
  },
  {
   "cell_type": "code",
   "execution_count": 4,
   "metadata": {},
   "outputs": [
    {
     "data": {
      "text/html": [
       "<div>\n",
       "<style scoped>\n",
       "    .dataframe tbody tr th:only-of-type {\n",
       "        vertical-align: middle;\n",
       "    }\n",
       "\n",
       "    .dataframe tbody tr th {\n",
       "        vertical-align: top;\n",
       "    }\n",
       "\n",
       "    .dataframe thead tr th {\n",
       "        text-align: left;\n",
       "    }\n",
       "\n",
       "    .dataframe thead tr:last-of-type th {\n",
       "        text-align: right;\n",
       "    }\n",
       "</style>\n",
       "<table border=\"1\" class=\"dataframe\">\n",
       "  <thead>\n",
       "    <tr>\n",
       "      <th></th>\n",
       "      <th colspan=\"3\" halign=\"left\">Values</th>\n",
       "    </tr>\n",
       "    <tr>\n",
       "      <th>Categoria</th>\n",
       "      <th>Censo</th>\n",
       "      <th>Inscritos</th>\n",
       "      <th>Población</th>\n",
       "    </tr>\n",
       "    <tr>\n",
       "      <th>Municipio</th>\n",
       "      <th></th>\n",
       "      <th></th>\n",
       "      <th></th>\n",
       "    </tr>\n",
       "  </thead>\n",
       "  <tbody>\n",
       "    <tr>\n",
       "      <th>muni0</th>\n",
       "      <td>7</td>\n",
       "      <td>3</td>\n",
       "      <td>4</td>\n",
       "    </tr>\n",
       "    <tr>\n",
       "      <th>muni1</th>\n",
       "      <td>8</td>\n",
       "      <td>5</td>\n",
       "      <td>8</td>\n",
       "    </tr>\n",
       "    <tr>\n",
       "      <th>muni2</th>\n",
       "      <td>4</td>\n",
       "      <td>9</td>\n",
       "      <td>6</td>\n",
       "    </tr>\n",
       "    <tr>\n",
       "      <th>muni3</th>\n",
       "      <td>3</td>\n",
       "      <td>8</td>\n",
       "      <td>9</td>\n",
       "    </tr>\n",
       "    <tr>\n",
       "      <th>muni4</th>\n",
       "      <td>2</td>\n",
       "      <td>7</td>\n",
       "      <td>6</td>\n",
       "    </tr>\n",
       "  </tbody>\n",
       "</table>\n",
       "</div>"
      ],
      "text/plain": [
       "          Values                    \n",
       "Categoria  Censo Inscritos Población\n",
       "Municipio                           \n",
       "muni0          7         3         4\n",
       "muni1          8         5         8\n",
       "muni2          4         9         6\n",
       "muni3          3         8         9\n",
       "muni4          2         7         6"
      ]
     },
     "execution_count": 4,
     "metadata": {},
     "output_type": "execute_result"
    }
   ],
   "source": [
    "pd.pivot_table(df, index=['Municipio'],columns=[\"Categoria\"])"
   ]
  },
  {
   "cell_type": "code",
   "execution_count": 5,
   "metadata": {},
   "outputs": [
    {
     "name": "stderr",
     "output_type": "stream",
     "text": [
      "/var/folders/6j/7gfvt_29797dypw8t1wttblw0000gn/T/ipykernel_82835/1620381455.py:4: FutureWarning: The operation <built-in function sum> failed on a column. If any error is raised, this will raise an exception in a future version of pandas. Drop these columns to avoid this warning.\n",
      "  pd.pivot_table(df, index=['Categoria'], aggfunc=sum)\n"
     ]
    },
    {
     "data": {
      "text/html": [
       "<div>\n",
       "<style scoped>\n",
       "    .dataframe tbody tr th:only-of-type {\n",
       "        vertical-align: middle;\n",
       "    }\n",
       "\n",
       "    .dataframe tbody tr th {\n",
       "        vertical-align: top;\n",
       "    }\n",
       "\n",
       "    .dataframe thead th {\n",
       "        text-align: right;\n",
       "    }\n",
       "</style>\n",
       "<table border=\"1\" class=\"dataframe\">\n",
       "  <thead>\n",
       "    <tr style=\"text-align: right;\">\n",
       "      <th></th>\n",
       "      <th>Values</th>\n",
       "    </tr>\n",
       "    <tr>\n",
       "      <th>Categoria</th>\n",
       "      <th></th>\n",
       "    </tr>\n",
       "  </thead>\n",
       "  <tbody>\n",
       "    <tr>\n",
       "      <th>Censo</th>\n",
       "      <td>24</td>\n",
       "    </tr>\n",
       "    <tr>\n",
       "      <th>Inscritos</th>\n",
       "      <td>32</td>\n",
       "    </tr>\n",
       "    <tr>\n",
       "      <th>Población</th>\n",
       "      <td>33</td>\n",
       "    </tr>\n",
       "  </tbody>\n",
       "</table>\n",
       "</div>"
      ],
      "text/plain": [
       "           Values\n",
       "Categoria        \n",
       "Censo          24\n",
       "Inscritos      32\n",
       "Población      33"
      ]
     },
     "execution_count": 5,
     "metadata": {},
     "output_type": "execute_result"
    }
   ],
   "source": [
    "# aggfuncfunction, list of functions, dict, default “mean”\n",
    "# If a list of functions is passed, the resulting pivot table will have hierarchical columns whose top level are the function names\n",
    "#  (inferred from the function objects themselves).\n",
    "pd.pivot_table(df, index=['Categoria'], aggfunc=sum)\n"
   ]
  },
  {
   "cell_type": "code",
   "execution_count": null,
   "metadata": {},
   "outputs": [],
   "source": []
  }
 ],
 "metadata": {
  "celltoolbar": "Slideshow",
  "kernelspec": {
   "display_name": "Python 3.9.7 64-bit ('my397')",
   "language": "python",
   "name": "python3"
  },
  "language_info": {
   "codemirror_mode": {
    "name": "ipython",
    "version": 3
   },
   "file_extension": ".py",
   "mimetype": "text/x-python",
   "name": "python",
   "nbconvert_exporter": "python",
   "pygments_lexer": "ipython3",
   "version": "3.9.7"
  },
  "vscode": {
   "interpreter": {
    "hash": "8b38137d60f5ef6101ebd11fd805c6415d52a5c999d13278488bced8392256b3"
   }
  }
 },
 "nbformat": 4,
 "nbformat_minor": 1
}
