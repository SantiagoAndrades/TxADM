{
 "cells": [
  {
   "cell_type": "markdown",
   "metadata": {},
   "source": [
    "# Algoritmos Supervisados: Predicción\n",
    "\n",
    "En esta sesión seguimos profundizando en las técnicas de Machine Learning.\n",
    "\n",
    "A lo largo de este cuaderno, usaremos datos de cotización de varias compañias para predecir valores de cierre futuros. Para predecir usaremos una técnica más ``clásica'' como el método [ARIMA](https://es.wikipedia.org/wiki/Modelo_autorregresivo_integrado_de_media_m%C3%B3vil) y, posteriormente, aplicaremos técnicas propias de ML.\n",
    "\n",
    "Existen númerosos algoritmos supervisados para la predicción de valores, destacamos:\n",
    "\n",
    "- Linear regressión / Regresión Lineal: https://es.wikipedia.org/wiki/Regresi%C3%B3n_lineal \n",
    "- Regresión logística: https://es.wikipedia.org/wiki/Regresi%C3%B3n_log%C3%ADstica\n",
    "- Máquinas de vectores de soporte / SVM: https://es.wikipedia.org/wiki/M%C3%A1quinas_de_vectores_de_soporte\n",
    "- CART / Classification And Regression Trees https://www.nature.com/articles/nmeth.4370\n",
    "- Gradient Boosting / Potenciación del gradiente: https://es.wikipedia.org/wiki/Gradient_boosting\n",
    "- Random Forest / Bosques aleatorios: https://es.wikipedia.org/wiki/Random_forest\n",
    "- Artificial Neural Networks (*):  https://en.wikipedia.org/wiki/Artificial_neural_network\n",
    "- K-vecinos cercanos / K-nearest neighbors (k-nn): https://es.wikipedia.org/wiki/K_vecinos_m%C3%A1s_pr%C3%B3ximos\n",
    "- Análisis Discriminantel Lineal / LDA: https://es.wikipedia.org/wiki/An%C3%A1lisis_discriminante_lineal\n",
    "- etc.\n",
    "\n",
    "\n",
    "La gran mayoría están implementados en la librería de python [scikit-learn/supervised_learning](https://scikit-learn.org/stable/supervised_learning.html)\n",
    "\n",
    "<img src=\"images/ModelSelection_ref_book_5.png\" width=90%/>\n",
    "\n",
    "> Fuente de la imagen: [5] Machine Learning & Data Science Blueprints for Finance\n",
    "\n"
   ]
  },
  {
   "cell_type": "code",
   "execution_count": 1,
   "metadata": {},
   "outputs": [
    {
     "name": "stdout",
     "output_type": "stream",
     "text": [
      "Requirement already satisfied: seaborn in /Users/isaac/.pyenv/versions/3.9.7/envs/my397/lib/python3.9/site-packages (0.12.0)\n",
      "Requirement already satisfied: numpy>=1.17 in /Users/isaac/.pyenv/versions/3.9.7/envs/my397/lib/python3.9/site-packages (from seaborn) (1.22.3)\n",
      "Requirement already satisfied: pandas>=0.25 in /Users/isaac/.pyenv/versions/3.9.7/envs/my397/lib/python3.9/site-packages (from seaborn) (1.4.2)\n",
      "Requirement already satisfied: matplotlib>=3.1 in /Users/isaac/.pyenv/versions/3.9.7/envs/my397/lib/python3.9/site-packages (from seaborn) (3.5.2)\n",
      "Requirement already satisfied: cycler>=0.10 in /Users/isaac/.pyenv/versions/3.9.7/envs/my397/lib/python3.9/site-packages (from matplotlib>=3.1->seaborn) (0.11.0)\n",
      "Requirement already satisfied: fonttools>=4.22.0 in /Users/isaac/.pyenv/versions/3.9.7/envs/my397/lib/python3.9/site-packages (from matplotlib>=3.1->seaborn) (4.33.3)\n",
      "Requirement already satisfied: kiwisolver>=1.0.1 in /Users/isaac/.pyenv/versions/3.9.7/envs/my397/lib/python3.9/site-packages (from matplotlib>=3.1->seaborn) (1.4.2)\n",
      "Requirement already satisfied: packaging>=20.0 in /Users/isaac/.pyenv/versions/3.9.7/envs/my397/lib/python3.9/site-packages (from matplotlib>=3.1->seaborn) (21.3)\n",
      "Requirement already satisfied: pillow>=6.2.0 in /Users/isaac/.pyenv/versions/3.9.7/envs/my397/lib/python3.9/site-packages (from matplotlib>=3.1->seaborn) (9.1.1)\n",
      "Requirement already satisfied: pyparsing>=2.2.1 in /Users/isaac/.pyenv/versions/3.9.7/envs/my397/lib/python3.9/site-packages (from matplotlib>=3.1->seaborn) (2.4.7)\n",
      "Requirement already satisfied: python-dateutil>=2.7 in /Users/isaac/.pyenv/versions/3.9.7/envs/my397/lib/python3.9/site-packages (from matplotlib>=3.1->seaborn) (2.8.2)\n",
      "Requirement already satisfied: pytz>=2020.1 in /Users/isaac/.pyenv/versions/3.9.7/envs/my397/lib/python3.9/site-packages (from pandas>=0.25->seaborn) (2022.6)\n",
      "Requirement already satisfied: six>=1.5 in /Users/isaac/.pyenv/versions/3.9.7/envs/my397/lib/python3.9/site-packages (from python-dateutil>=2.7->matplotlib>=3.1->seaborn) (1.16.0)\n",
      "\n",
      "\u001b[1m[\u001b[0m\u001b[34;49mnotice\u001b[0m\u001b[1;39;49m]\u001b[0m\u001b[39;49m A new release of pip is available: \u001b[0m\u001b[31;49m23.2.1\u001b[0m\u001b[39;49m -> \u001b[0m\u001b[32;49m23.3.1\u001b[0m\n",
      "\u001b[1m[\u001b[0m\u001b[34;49mnotice\u001b[0m\u001b[1;39;49m]\u001b[0m\u001b[39;49m To update, run: \u001b[0m\u001b[32;49mpip install --upgrade pip\u001b[0m\n",
      "Note: you may need to restart the kernel to use updated packages.\n"
     ]
    }
   ],
   "source": [
    "%pip install seaborn"
   ]
  },
  {
   "cell_type": "markdown",
   "metadata": {},
   "source": [
    "## Obtención de datos\n",
    "\n",
    "¡Necesitamos datos! Principalmente, datos con índices de tiempo: **series temporales**.\n",
    "Por ello, vamos a instalar una librería que nos proporcionará datos públicos ya preparados.\n"
   ]
  },
  {
   "cell_type": "code",
   "execution_count": 2,
   "metadata": {},
   "outputs": [
    {
     "name": "stdout",
     "output_type": "stream",
     "text": [
      "Requirement already satisfied: pandas_datareader in /Users/isaac/.pyenv/versions/3.9.7/envs/my397/lib/python3.9/site-packages (0.10.0)\n",
      "Requirement already satisfied: lxml in /Users/isaac/.pyenv/versions/3.9.7/envs/my397/lib/python3.9/site-packages (from pandas_datareader) (4.9.1)\n",
      "Requirement already satisfied: pandas>=0.23 in /Users/isaac/.pyenv/versions/3.9.7/envs/my397/lib/python3.9/site-packages (from pandas_datareader) (1.4.2)\n",
      "Requirement already satisfied: requests>=2.19.0 in /Users/isaac/.pyenv/versions/3.9.7/envs/my397/lib/python3.9/site-packages (from pandas_datareader) (2.31.0)\n",
      "Requirement already satisfied: python-dateutil>=2.8.1 in /Users/isaac/.pyenv/versions/3.9.7/envs/my397/lib/python3.9/site-packages (from pandas>=0.23->pandas_datareader) (2.8.2)\n",
      "Requirement already satisfied: pytz>=2020.1 in /Users/isaac/.pyenv/versions/3.9.7/envs/my397/lib/python3.9/site-packages (from pandas>=0.23->pandas_datareader) (2022.6)\n",
      "Requirement already satisfied: numpy>=1.20.0 in /Users/isaac/.pyenv/versions/3.9.7/envs/my397/lib/python3.9/site-packages (from pandas>=0.23->pandas_datareader) (1.22.3)\n",
      "Requirement already satisfied: charset-normalizer<4,>=2 in /Users/isaac/.pyenv/versions/3.9.7/envs/my397/lib/python3.9/site-packages (from requests>=2.19.0->pandas_datareader) (2.1.1)\n",
      "Requirement already satisfied: idna<4,>=2.5 in /Users/isaac/.pyenv/versions/3.9.7/envs/my397/lib/python3.9/site-packages (from requests>=2.19.0->pandas_datareader) (3.4)\n",
      "Requirement already satisfied: urllib3<3,>=1.21.1 in /Users/isaac/.pyenv/versions/3.9.7/envs/my397/lib/python3.9/site-packages (from requests>=2.19.0->pandas_datareader) (1.26.6)\n",
      "Requirement already satisfied: certifi>=2017.4.17 in /Users/isaac/.pyenv/versions/3.9.7/envs/my397/lib/python3.9/site-packages (from requests>=2.19.0->pandas_datareader) (2023.5.7)\n",
      "Requirement already satisfied: six>=1.5 in /Users/isaac/.pyenv/versions/3.9.7/envs/my397/lib/python3.9/site-packages (from python-dateutil>=2.8.1->pandas>=0.23->pandas_datareader) (1.16.0)\n",
      "\n",
      "\u001b[1m[\u001b[0m\u001b[34;49mnotice\u001b[0m\u001b[1;39;49m]\u001b[0m\u001b[39;49m A new release of pip is available: \u001b[0m\u001b[31;49m23.2.1\u001b[0m\u001b[39;49m -> \u001b[0m\u001b[32;49m23.3.1\u001b[0m\n",
      "\u001b[1m[\u001b[0m\u001b[34;49mnotice\u001b[0m\u001b[1;39;49m]\u001b[0m\u001b[39;49m To update, run: \u001b[0m\u001b[32;49mpip install --upgrade pip\u001b[0m\n",
      "Note: you may need to restart the kernel to use updated packages.\n",
      "Requirement already satisfied: yfinance in /Users/isaac/.pyenv/versions/3.9.7/envs/my397/lib/python3.9/site-packages (0.2.33)\n",
      "Requirement already satisfied: pandas>=1.3.0 in /Users/isaac/.pyenv/versions/3.9.7/envs/my397/lib/python3.9/site-packages (from yfinance) (1.4.2)\n",
      "Requirement already satisfied: numpy>=1.16.5 in /Users/isaac/.pyenv/versions/3.9.7/envs/my397/lib/python3.9/site-packages (from yfinance) (1.22.3)\n",
      "Requirement already satisfied: requests>=2.31 in /Users/isaac/.pyenv/versions/3.9.7/envs/my397/lib/python3.9/site-packages (from yfinance) (2.31.0)\n",
      "Requirement already satisfied: multitasking>=0.0.7 in /Users/isaac/.pyenv/versions/3.9.7/envs/my397/lib/python3.9/site-packages (from yfinance) (0.0.11)\n",
      "Requirement already satisfied: lxml>=4.9.1 in /Users/isaac/.pyenv/versions/3.9.7/envs/my397/lib/python3.9/site-packages (from yfinance) (4.9.1)\n",
      "Requirement already satisfied: appdirs>=1.4.4 in /Users/isaac/.pyenv/versions/3.9.7/envs/my397/lib/python3.9/site-packages (from yfinance) (1.4.4)\n",
      "Requirement already satisfied: pytz>=2022.5 in /Users/isaac/.pyenv/versions/3.9.7/envs/my397/lib/python3.9/site-packages (from yfinance) (2022.6)\n",
      "Requirement already satisfied: frozendict>=2.3.4 in /Users/isaac/.pyenv/versions/3.9.7/envs/my397/lib/python3.9/site-packages (from yfinance) (2.3.10)\n",
      "Requirement already satisfied: peewee>=3.16.2 in /Users/isaac/.pyenv/versions/3.9.7/envs/my397/lib/python3.9/site-packages (from yfinance) (3.17.0)\n",
      "Requirement already satisfied: beautifulsoup4>=4.11.1 in /Users/isaac/.pyenv/versions/3.9.7/envs/my397/lib/python3.9/site-packages (from yfinance) (4.11.1)\n",
      "Requirement already satisfied: html5lib>=1.1 in /Users/isaac/.pyenv/versions/3.9.7/envs/my397/lib/python3.9/site-packages (from yfinance) (1.1)\n",
      "Requirement already satisfied: soupsieve>1.2 in /Users/isaac/.pyenv/versions/3.9.7/envs/my397/lib/python3.9/site-packages (from beautifulsoup4>=4.11.1->yfinance) (2.3.2.post1)\n",
      "Requirement already satisfied: six>=1.9 in /Users/isaac/.pyenv/versions/3.9.7/envs/my397/lib/python3.9/site-packages (from html5lib>=1.1->yfinance) (1.16.0)\n",
      "Requirement already satisfied: webencodings in /Users/isaac/.pyenv/versions/3.9.7/envs/my397/lib/python3.9/site-packages (from html5lib>=1.1->yfinance) (0.5.1)\n",
      "Requirement already satisfied: python-dateutil>=2.8.1 in /Users/isaac/.pyenv/versions/3.9.7/envs/my397/lib/python3.9/site-packages (from pandas>=1.3.0->yfinance) (2.8.2)\n",
      "Requirement already satisfied: charset-normalizer<4,>=2 in /Users/isaac/.pyenv/versions/3.9.7/envs/my397/lib/python3.9/site-packages (from requests>=2.31->yfinance) (2.1.1)\n",
      "Requirement already satisfied: idna<4,>=2.5 in /Users/isaac/.pyenv/versions/3.9.7/envs/my397/lib/python3.9/site-packages (from requests>=2.31->yfinance) (3.4)\n",
      "Requirement already satisfied: urllib3<3,>=1.21.1 in /Users/isaac/.pyenv/versions/3.9.7/envs/my397/lib/python3.9/site-packages (from requests>=2.31->yfinance) (1.26.6)\n",
      "Requirement already satisfied: certifi>=2017.4.17 in /Users/isaac/.pyenv/versions/3.9.7/envs/my397/lib/python3.9/site-packages (from requests>=2.31->yfinance) (2023.5.7)\n",
      "\n",
      "\u001b[1m[\u001b[0m\u001b[34;49mnotice\u001b[0m\u001b[1;39;49m]\u001b[0m\u001b[39;49m A new release of pip is available: \u001b[0m\u001b[31;49m23.2.1\u001b[0m\u001b[39;49m -> \u001b[0m\u001b[32;49m23.3.1\u001b[0m\n",
      "\u001b[1m[\u001b[0m\u001b[34;49mnotice\u001b[0m\u001b[1;39;49m]\u001b[0m\u001b[39;49m To update, run: \u001b[0m\u001b[32;49mpip install --upgrade pip\u001b[0m\n",
      "Note: you may need to restart the kernel to use updated packages.\n"
     ]
    }
   ],
   "source": [
    "%pip install pandas_datareader\n",
    "%pip install yfinance\n"
   ]
  },
  {
   "cell_type": "code",
   "execution_count": 3,
   "metadata": {},
   "outputs": [],
   "source": [
    "# código para corregir divergencias entre versiones de la librería pandas_Datareader\n",
    "import yfinance as yf\n",
    "yf.pdr_override()"
   ]
  },
  {
   "cell_type": "code",
   "execution_count": 12,
   "metadata": {},
   "outputs": [
    {
     "name": "stdout",
     "output_type": "stream",
     "text": [
      "[*********************100%%**********************]  1 of 1 completed"
     ]
    },
    {
     "name": "stdout",
     "output_type": "stream",
     "text": [
      "\n",
      "<class 'pandas.core.frame.DataFrame'>\n"
     ]
    }
   ],
   "source": [
    "import pandas as pd\n",
    "from pandas_datareader import data as pdr\n",
    "\n",
    "data = pdr.get_data_yahoo(\"GOOGL\", start=\"2017-01-01\", end=\"2020-12-31\")\n",
    "\n",
    "#data = yf.Ticker(\"GOOGL\") #, start=\"2017-01-01\", end=\"2020-12-31\")\n",
    "print(type(data))\n",
    "data.to_csv(\"GOOGL.csv\")"
   ]
  },
  {
   "cell_type": "code",
   "execution_count": 32,
   "metadata": {},
   "outputs": [
    {
     "name": "stdout",
     "output_type": "stream",
     "text": [
      "                 Open       High        Low      Close  Adj Close    Volume\n",
      "Date                                                                       \n",
      "2017-01-03  40.030998  40.571999  39.844501  40.400501  40.400501  39180000\n",
      "2017-01-04  40.494499  40.671501  40.205502  40.388500  40.388500  30306000\n",
      "2017-01-05  40.375000  40.687000  40.296001  40.651001  40.651001  26810000\n",
      "2017-01-06  40.749500  41.448002  40.575001  41.260502  41.260502  40342000\n",
      "2017-01-09  41.318501  41.521500  41.081001  41.359001  41.359001  28178000\n",
      "...               ...        ...        ...        ...        ...       ...\n",
      "2020-12-23  86.196503  87.205498  86.059998  86.411499  86.411499  22974000\n",
      "2020-12-24  86.449997  87.120499  86.217499  86.708000  86.708000   9312000\n",
      "2020-12-28  87.245499  89.349998  87.091003  88.697998  88.697998  27650000\n",
      "2020-12-29  89.361504  89.423500  87.755501  87.888000  87.888000  19726000\n",
      "2020-12-30  88.250000  88.388000  86.400002  86.812500  86.812500  21026000\n",
      "\n",
      "[1006 rows x 6 columns]\n"
     ]
    }
   ],
   "source": [
    "print(data) # Python tip: una invocación stk_data.__rep__"
   ]
  },
  {
   "cell_type": "code",
   "execution_count": 33,
   "metadata": {},
   "outputs": [
    {
     "data": {
      "text/plain": [
       "Index(['Open', 'High', 'Low', 'Close', 'Adj Close', 'Volume'], dtype='object')"
      ]
     },
     "execution_count": 33,
     "metadata": {},
     "output_type": "execute_result"
    }
   ],
   "source": [
    "data.columns # ¿Cómo es el índice de acceso a los datos?"
   ]
  },
  {
   "cell_type": "code",
   "execution_count": 34,
   "metadata": {},
   "outputs": [
    {
     "data": {
      "text/plain": [
       "Date\n",
       "2017-01-03    40.400501\n",
       "2017-01-04    40.388500\n",
       "2017-01-05    40.651001\n",
       "2017-01-06    41.260502\n",
       "2017-01-09    41.359001\n",
       "                ...    \n",
       "2020-12-23    86.411499\n",
       "2020-12-24    86.708000\n",
       "2020-12-28    88.697998\n",
       "2020-12-29    87.888000\n",
       "2020-12-30    86.812500\n",
       "Name: Close, Length: 1006, dtype: float64"
      ]
     },
     "execution_count": 34,
     "metadata": {},
     "output_type": "execute_result"
    }
   ],
   "source": [
    "data[\"Close\"] #Hagamos una prueba"
   ]
  },
  {
   "cell_type": "code",
   "execution_count": 35,
   "metadata": {},
   "outputs": [
    {
     "data": {
      "text/plain": [
       "DatetimeIndex(['2017-01-03', '2017-01-04', '2017-01-05', '2017-01-06',\n",
       "               '2017-01-09', '2017-01-10', '2017-01-11', '2017-01-12',\n",
       "               '2017-01-13', '2017-01-17',\n",
       "               ...\n",
       "               '2020-12-16', '2020-12-17', '2020-12-18', '2020-12-21',\n",
       "               '2020-12-22', '2020-12-23', '2020-12-24', '2020-12-28',\n",
       "               '2020-12-29', '2020-12-30'],\n",
       "              dtype='datetime64[ns]', name='Date', length=1006, freq=None)"
      ]
     },
     "execution_count": 35,
     "metadata": {},
     "output_type": "execute_result"
    }
   ],
   "source": [
    "data.index"
   ]
  },
  {
   "cell_type": "markdown",
   "metadata": {},
   "source": [
    "### Análisis de la serie temporal\n",
    "Existen númerosos indicadores sobre el comportamiento de una serie temporal. \n",
    "La [descomposición](https://en.wikipedia.org/wiki/Decomposition_of_time_series) permite tener una idea de su \"naturaleza\". \n",
    "Hay dos tipos de descomposiciones: aditiva o multiplicativa.\n",
    "- Descomposición aditiva  $Y[t] = T[t] + S[t] + e[t]$ \n",
    "- T_{t}, the trend component at time t, which reflects the long-term progression of the series (secular variation). A trend exists when there is a persistent increasing or decreasing direction in the data. The trend component does not have to be linear.\n",
    "- C_{t}, the cyclical component at time t, which reflects repeated but non-periodic fluctuations. The duration of these fluctuations depend on the nature of the time series.\n",
    "- S_{t}, the seasonal component at time t, reflecting seasonality (seasonal variation). A seasonal pattern exists when a time series is influenced by seasonal factors. Seasonality occurs over a fixed and known period (e.g., the quarter of the year, the month, or day of the week).[1]\n",
    "- I_t, the irregular component (or \"noise\") at time t, which describes random, irregular influences. It represents the residuals or remainder of the time series after the other components have been removed.\n",
    "\n",
    "Necesitaremos una librería especial para facilitar esta tarea."
   ]
  },
  {
   "cell_type": "code",
   "execution_count": null,
   "metadata": {},
   "outputs": [],
   "source": [
    "%pip install statsmodels"
   ]
  },
  {
   "cell_type": "code",
   "execution_count": 37,
   "metadata": {},
   "outputs": [
    {
     "data": {
      "image/png": "[encoded data removed]",
      "text/plain": [
       "<Figure size 864x576 with 4 Axes>"
      ]
     },
     "metadata": {
      "needs_background": "light"
     },
     "output_type": "display_data"
    }
   ],
   "source": [
    "# Paso 1\n",
    "import matplotlib.pyplot as plt\n",
    "import statsmodels.api as sm\n",
    "# https://www.statsmodels.org/dev/generated/statsmodels.tsa.seasonal.seasonal_decompose.html\n",
    "\n",
    "res = sm.tsa.seasonal_decompose(data['Close'],period=30)\n",
    "#res.plot()\n",
    "\n",
    "fig, axes = plt.subplots(ncols=1, nrows=4, sharex=True, figsize=(12,8))\n",
    "res.observed.plot(ax=axes[0], legend=False)\n",
    "axes[0].set_ylabel('Observed')\n",
    "res.trend.plot(ax=axes[1], legend=False)\n",
    "axes[1].set_ylabel('Trend')\n",
    "res.seasonal.plot(ax=axes[2], legend=False)\n",
    "axes[2].set_ylabel('Seasonal')\n",
    "res.resid.plot(ax=axes[3], legend=False)\n",
    "axes[3].set_ylabel('Residual')\n",
    "plt.show()"
   ]
  },
  {
   "cell_type": "markdown",
   "metadata": {},
   "source": [
    "## Predicción con ARIMA"
   ]
  },
  {
   "cell_type": "code",
   "execution_count": 40,
   "metadata": {},
   "outputs": [
    {
     "data": {
      "text/plain": [
       "PeriodIndex(['2017-01', '2017-01', '2017-01', '2017-01', '2017-01', '2017-01',\n",
       "             '2017-01', '2017-01', '2017-01', '2017-01',\n",
       "             ...\n",
       "             '2020-12', '2020-12', '2020-12', '2020-12', '2020-12', '2020-12',\n",
       "             '2020-12', '2020-12', '2020-12', '2020-12'],\n",
       "            dtype='period[M]', name='Date', length=1006)"
      ]
     },
     "execution_count": 40,
     "metadata": {},
     "output_type": "execute_result"
    }
   ],
   "source": [
    "# Podemos trabajar con diferentes periodos para la predicción. \n",
    "# Vamos a probar meses\n",
    "data.index = pd.to_datetime(data.index)\n",
    "month_index = data.index.to_period('M')\n",
    "month_index"
   ]
  },
  {
   "cell_type": "code",
   "execution_count": 41,
   "metadata": {},
   "outputs": [
    {
     "name": "stdout",
     "output_type": "stream",
     "text": [
      "(1006,)\n",
      "Date\n",
      "2020-12    87.612999\n",
      "2020-12    88.054001\n",
      "2020-12    87.859497\n",
      "2020-12    87.025497\n",
      "2020-12    86.310997\n",
      "2020-12    86.727997\n",
      "2020-12    86.011002\n",
      "2020-12    86.411499\n",
      "2020-12    86.708000\n",
      "2020-12    88.697998\n",
      "2020-12    87.888000\n",
      "2020-12    86.812500\n",
      "Freq: M, Name: Close, dtype: float64\n"
     ]
    }
   ],
   "source": [
    "# Paso 2.a  Cargamos/Fit/Entrenamos ARIMA \n",
    "from statsmodels.tsa.arima_model import ARIMA\n",
    "# https://www.statsmodels.org/dev/generated/statsmodels.tsa.arima.model.ARIMA.html\n",
    "close = data[\"Close\"]\n",
    "close.index = month_index\n",
    "print(close.shape)\n",
    "print(close[-12:])\n"
   ]
  },
  {
   "cell_type": "code",
   "execution_count": 42,
   "metadata": {},
   "outputs": [
    {
     "name": "stdout",
     "output_type": "stream",
     "text": [
      "                               SARIMAX Results                                \n",
      "==============================================================================\n",
      "Dep. Variable:                  Close   No. Observations:                 1006\n",
      "Model:                 ARIMA(3, 1, 0)   Log Likelihood               -1485.452\n",
      "Date:                Thu, 14 Dec 2023   AIC                           2978.904\n",
      "Time:                        09:52:30   BIC                           2998.554\n",
      "Sample:                    01-31-2017   HQIC                          2986.370\n",
      "                         - 12-31-2020                                         \n",
      "Covariance Type:                  opg                                         \n",
      "==============================================================================\n",
      "                 coef    std err          z      P>|z|      [0.025      0.975]\n",
      "------------------------------------------------------------------------------\n",
      "ar.L1         -0.1338      0.020     -6.863      0.000      -0.172      -0.096\n",
      "ar.L2          0.0155      0.020      0.777      0.437      -0.024       0.055\n",
      "ar.L3          0.0296      0.022      1.375      0.169      -0.013       0.072\n",
      "sigma2         1.1255      0.028     39.852      0.000       1.070       1.181\n",
      "===================================================================================\n",
      "Ljung-Box (L1) (Q):                   0.00   Jarque-Bera (JB):              1273.25\n",
      "Prob(Q):                              0.95   Prob(JB):                         0.00\n",
      "Heteroskedasticity (H):               4.60   Skew:                            -0.41\n",
      "Prob(H) (two-sided):                  0.00   Kurtosis:                         8.45\n",
      "===================================================================================\n",
      "\n",
      "Warnings:\n",
      "[1] Covariance matrix calculated using the outer product of gradients (complex-step).\n"
     ]
    }
   ],
   "source": [
    "mod = sm.tsa.arima.ARIMA(endog=close, order=(3, 1, 0))\n",
    "#U n 3 por autoregression, 1 para hacer la serie estacionaria, y una media móvil de 0.\n",
    "modfit = mod.fit()\n",
    "print(modfit.summary())\n"
   ]
  },
  {
   "cell_type": "code",
   "execution_count": 43,
   "metadata": {},
   "outputs": [
    {
     "data": {
      "image/png": "[encoded data removed]",
      "text/plain": [
       "<Figure size 432x288 with 1 Axes>"
      ]
     },
     "metadata": {
      "needs_background": "light"
     },
     "output_type": "display_data"
    },
    {
     "name": "stdout",
     "output_type": "stream",
     "text": [
      "                 0\n",
      "count  1006.000000\n",
      "mean      0.090508\n",
      "std       1.655711\n",
      "min      -6.204212\n",
      "25%      -0.357341\n",
      "50%       0.092804\n",
      "75%       0.539872\n",
      "max      40.400501\n"
     ]
    }
   ],
   "source": [
    "residuals = pd.DataFrame(modfit.resid)\n",
    "residuals.plot()\n",
    "plt.show()\n",
    "print(residuals.describe()) # más o menos valores cercanos al 0 ok"
   ]
  },
  {
   "cell_type": "code",
   "execution_count": 44,
   "metadata": {},
   "outputs": [
    {
     "name": "stdout",
     "output_type": "stream",
     "text": [
      "(704,) (302,)\n"
     ]
    }
   ],
   "source": [
    "# Paso 2.b Predecimos con ARIMA\n",
    "thres = 0.7\n",
    "split_samples = int(len(close)*thres)\n",
    "train, test = close[:split_samples],close[split_samples:]\n",
    "print(train.shape,test.shape)"
   ]
  },
  {
   "cell_type": "code",
   "execution_count": 47,
   "metadata": {},
   "outputs": [
    {
     "name": "stdout",
     "output_type": "stream",
     "text": [
      "0\t Prediction: 62.17 - Expected=62.21\n",
      "20\t Prediction: 66.63 - Expected=65.99\n",
      "40\t Prediction: 68.06 - Expected=67.74\n",
      "60\t Prediction: 72.03 - Expected=72.51\n",
      "80\t Prediction: 75.64 - Expected=75.94\n",
      "100\t Prediction: 60.50 - Expected=53.65\n",
      "120\t Prediction: 60.56 - Expected=63.26\n",
      "140\t Prediction: 70.11 - Expected=68.76\n",
      "160\t Prediction: 72.65 - Expected=73.24\n",
      "180\t Prediction: 75.14 - Expected=75.93\n",
      "200\t Prediction: 73.90 - Expected=75.25\n",
      "220\t Prediction: 85.37 - Expected=81.48\n",
      "240\t Prediction: 74.24 - Expected=72.78\n",
      "260\t Prediction: 77.42 - Expected=80.81\n",
      "280\t Prediction: 89.25 - Expected=87.72\n",
      "300\t Prediction: 88.45 - Expected=87.89\n",
      "RMSE: 1.5057\n"
     ]
    }
   ],
   "source": [
    "import math\n",
    "from sklearn.metrics import mean_squared_error\n",
    "\n",
    "predictions = []\n",
    "history = train.to_list()\n",
    "\n",
    "for i,y in enumerate(test):\n",
    "    model = sm.tsa.arima.ARIMA(endog=history, order=(3, 1, 0))\n",
    "    modelfit = model.fit()\n",
    "    ypred = modelfit.forecast()\n",
    "    predictions.append(ypred)\n",
    "    history.append(y)\n",
    "    \n",
    "    if i%20==0: # Cada 20 veces mostramos este mensaje\n",
    "        print(\"%i\\t Prediction: %.2f - Expected=%.2f\"%(i,ypred,y))\n",
    "\n",
    "\n",
    "rmse = math.sqrt(mean_squared_error(test,predictions))\n",
    "print(\"RMSE: %.4f\"%rmse)"
   ]
  },
  {
   "cell_type": "code",
   "execution_count": 48,
   "metadata": {},
   "outputs": [
    {
     "data": {
      "image/png": "[encoded data removed]",
      "text/plain": [
       "<Figure size 432x288 with 1 Axes>"
      ]
     },
     "metadata": {
      "needs_background": "light"
     },
     "output_type": "display_data"
    }
   ],
   "source": [
    "fig, ax = plt.subplots()\n",
    "ax.plot(test.to_list(),color=\"b\")\n",
    "ax.plot(predictions,color=\"r\")\n",
    "plt.show()"
   ]
  },
  {
   "cell_type": "markdown",
   "metadata": {},
   "source": [
    "### Reflexiones\n",
    "- ¿Qué ocurre si el modelo no se entrena con cada nueva observación?\n",
    "- ¿Qué ocurre si cambiamos de modelo ARIMA(1,0,0) o ARIMA(5,1,2)?\n",
    "- ¿Qué ocurre si reducimos el threshold de entreno?\n",
    "- ¿Qué ocurre si el periodo de la serie no es mensual?"
   ]
  },
  {
   "cell_type": "markdown",
   "metadata": {},
   "source": [
    "## Predicción con un algoritmo supervisado\n",
    "\n",
    "El objetivo de nuestro analisis será predecir el valor del cierre de MSFT en función del valor del cierre de IBM y GOOGLE y el uso de dos indices Dow Jones y S&P500"
   ]
  },
  {
   "cell_type": "code",
   "execution_count": 13,
   "metadata": {},
   "outputs": [
    {
     "name": "stdout",
     "output_type": "stream",
     "text": [
      "[                       0%%                      ]"
     ]
    },
    {
     "name": "stdout",
     "output_type": "stream",
     "text": [
      "[*********************100%%**********************]  3 of 3 completed\n",
      "[*********************100%%**********************]  2 of 2 completed\n"
     ]
    }
   ],
   "source": [
    "# Cargamos datos\n",
    "stk_tickers = ['MSFT', 'IBM', 'GOOGL'] # Microsoft, IBM, Google\n",
    "data = pdr.get_data_yahoo(stk_tickers, start=\"2017-01-01\", end=\"2020-12-31\")\n",
    "\n",
    "data.to_csv(\"Stickers.csv\")\n",
    "idx_tickers = ['^GSPC', '^DJI'] # S&P 500 y Dow Jones index\n",
    "idx_data = pdr.get_data_yahoo(idx_tickers, start=\"2017-01-01\", end=\"2020-12-31\")\n",
    "idx_data.to_csv(\"idx_data.csv\")"
   ]
  },
  {
   "cell_type": "code",
   "execution_count": 77,
   "metadata": {},
   "outputs": [
    {
     "data": {
      "text/html": [
       "<div>\n",
       "<style scoped>\n",
       "    .dataframe tbody tr th:only-of-type {\n",
       "        vertical-align: middle;\n",
       "    }\n",
       "\n",
       "    .dataframe tbody tr th {\n",
       "        vertical-align: top;\n",
       "    }\n",
       "\n",
       "    .dataframe thead tr th {\n",
       "        text-align: left;\n",
       "    }\n",
       "\n",
       "    .dataframe thead tr:last-of-type th {\n",
       "        text-align: right;\n",
       "    }\n",
       "</style>\n",
       "<table border=\"1\" class=\"dataframe\">\n",
       "  <thead>\n",
       "    <tr>\n",
       "      <th></th>\n",
       "      <th colspan=\"2\" halign=\"left\">Adj Close</th>\n",
       "      <th colspan=\"2\" halign=\"left\">Close</th>\n",
       "      <th colspan=\"2\" halign=\"left\">High</th>\n",
       "      <th colspan=\"2\" halign=\"left\">Low</th>\n",
       "      <th colspan=\"2\" halign=\"left\">Open</th>\n",
       "      <th colspan=\"2\" halign=\"left\">Volume</th>\n",
       "    </tr>\n",
       "    <tr>\n",
       "      <th></th>\n",
       "      <th>^DJI</th>\n",
       "      <th>^GSPC</th>\n",
       "      <th>^DJI</th>\n",
       "      <th>^GSPC</th>\n",
       "      <th>^DJI</th>\n",
       "      <th>^GSPC</th>\n",
       "      <th>^DJI</th>\n",
       "      <th>^GSPC</th>\n",
       "      <th>^DJI</th>\n",
       "      <th>^GSPC</th>\n",
       "      <th>^DJI</th>\n",
       "      <th>^GSPC</th>\n",
       "    </tr>\n",
       "    <tr>\n",
       "      <th>Date</th>\n",
       "      <th></th>\n",
       "      <th></th>\n",
       "      <th></th>\n",
       "      <th></th>\n",
       "      <th></th>\n",
       "      <th></th>\n",
       "      <th></th>\n",
       "      <th></th>\n",
       "      <th></th>\n",
       "      <th></th>\n",
       "      <th></th>\n",
       "      <th></th>\n",
       "    </tr>\n",
       "  </thead>\n",
       "  <tbody>\n",
       "    <tr>\n",
       "      <th>2017-01-03</th>\n",
       "      <td>19881.759766</td>\n",
       "      <td>2257.830078</td>\n",
       "      <td>19881.759766</td>\n",
       "      <td>2257.830078</td>\n",
       "      <td>19938.529297</td>\n",
       "      <td>2263.879883</td>\n",
       "      <td>19775.929688</td>\n",
       "      <td>2245.129883</td>\n",
       "      <td>19872.859375</td>\n",
       "      <td>2251.570068</td>\n",
       "      <td>339180000</td>\n",
       "      <td>3773010000</td>\n",
       "    </tr>\n",
       "    <tr>\n",
       "      <th>2017-01-04</th>\n",
       "      <td>19942.160156</td>\n",
       "      <td>2270.750000</td>\n",
       "      <td>19942.160156</td>\n",
       "      <td>2270.750000</td>\n",
       "      <td>19956.140625</td>\n",
       "      <td>2272.820068</td>\n",
       "      <td>19878.830078</td>\n",
       "      <td>2261.600098</td>\n",
       "      <td>19890.939453</td>\n",
       "      <td>2261.600098</td>\n",
       "      <td>280010000</td>\n",
       "      <td>3768890000</td>\n",
       "    </tr>\n",
       "    <tr>\n",
       "      <th>2017-01-05</th>\n",
       "      <td>19899.289062</td>\n",
       "      <td>2269.000000</td>\n",
       "      <td>19899.289062</td>\n",
       "      <td>2269.000000</td>\n",
       "      <td>19948.599609</td>\n",
       "      <td>2271.500000</td>\n",
       "      <td>19811.119141</td>\n",
       "      <td>2260.449951</td>\n",
       "      <td>19924.560547</td>\n",
       "      <td>2268.179932</td>\n",
       "      <td>269920000</td>\n",
       "      <td>3785080000</td>\n",
       "    </tr>\n",
       "    <tr>\n",
       "      <th>2017-01-06</th>\n",
       "      <td>19963.800781</td>\n",
       "      <td>2276.979980</td>\n",
       "      <td>19963.800781</td>\n",
       "      <td>2276.979980</td>\n",
       "      <td>19999.630859</td>\n",
       "      <td>2282.100098</td>\n",
       "      <td>19834.080078</td>\n",
       "      <td>2264.060059</td>\n",
       "      <td>19906.960938</td>\n",
       "      <td>2271.139893</td>\n",
       "      <td>277700000</td>\n",
       "      <td>3342080000</td>\n",
       "    </tr>\n",
       "    <tr>\n",
       "      <th>2017-01-09</th>\n",
       "      <td>19887.380859</td>\n",
       "      <td>2268.899902</td>\n",
       "      <td>19887.380859</td>\n",
       "      <td>2268.899902</td>\n",
       "      <td>19943.779297</td>\n",
       "      <td>2275.489990</td>\n",
       "      <td>19887.380859</td>\n",
       "      <td>2268.899902</td>\n",
       "      <td>19931.410156</td>\n",
       "      <td>2273.590088</td>\n",
       "      <td>287510000</td>\n",
       "      <td>3219730000</td>\n",
       "    </tr>\n",
       "  </tbody>\n",
       "</table>\n",
       "</div>"
      ],
      "text/plain": [
       "               Adj Close                      Close               \\\n",
       "                    ^DJI        ^GSPC          ^DJI        ^GSPC   \n",
       "Date                                                               \n",
       "2017-01-03  19881.759766  2257.830078  19881.759766  2257.830078   \n",
       "2017-01-04  19942.160156  2270.750000  19942.160156  2270.750000   \n",
       "2017-01-05  19899.289062  2269.000000  19899.289062  2269.000000   \n",
       "2017-01-06  19963.800781  2276.979980  19963.800781  2276.979980   \n",
       "2017-01-09  19887.380859  2268.899902  19887.380859  2268.899902   \n",
       "\n",
       "                    High                        Low               \\\n",
       "                    ^DJI        ^GSPC          ^DJI        ^GSPC   \n",
       "Date                                                               \n",
       "2017-01-03  19938.529297  2263.879883  19775.929688  2245.129883   \n",
       "2017-01-04  19956.140625  2272.820068  19878.830078  2261.600098   \n",
       "2017-01-05  19948.599609  2271.500000  19811.119141  2260.449951   \n",
       "2017-01-06  19999.630859  2282.100098  19834.080078  2264.060059   \n",
       "2017-01-09  19943.779297  2275.489990  19887.380859  2268.899902   \n",
       "\n",
       "                    Open                  Volume              \n",
       "                    ^DJI        ^GSPC       ^DJI       ^GSPC  \n",
       "Date                                                          \n",
       "2017-01-03  19872.859375  2251.570068  339180000  3773010000  \n",
       "2017-01-04  19890.939453  2261.600098  280010000  3768890000  \n",
       "2017-01-05  19924.560547  2268.179932  269920000  3785080000  \n",
       "2017-01-06  19906.960938  2271.139893  277700000  3342080000  \n",
       "2017-01-09  19931.410156  2273.590088  287510000  3219730000  "
      ]
     },
     "execution_count": 77,
     "metadata": {},
     "output_type": "execute_result"
    }
   ],
   "source": [
    "idx_data[:5]"
   ]
  },
  {
   "cell_type": "code",
   "execution_count": 79,
   "metadata": {},
   "outputs": [
    {
     "name": "stdout",
     "output_type": "stream",
     "text": [
      "            Adj Close                             Close              \\\n",
      "                GOOGL         IBM       MSFT      GOOGL         IBM   \n",
      "Date                                                                  \n",
      "2017-01-03  40.400501  115.346283  57.138733  40.400501  159.837479   \n",
      "2017-01-04  40.388500  116.774406  56.883060  40.388500  161.816437   \n",
      "2017-01-05  40.651001  116.388031  56.883060  40.651001  161.281067   \n",
      "2017-01-06  41.260502  116.960670  57.376125  41.260502  162.074570   \n",
      "2017-01-09  41.359001  115.663643  57.193516  41.359001  160.277252   \n",
      "\n",
      "                            High                               Low  ...  \\\n",
      "                 MSFT      GOOGL         IBM       MSFT      GOOGL  ...   \n",
      "Date                                                                ...   \n",
      "2017-01-03  62.580002  40.571999  160.487579  62.840000  39.844501  ...   \n",
      "2017-01-04  62.299999  40.671501  162.399612  62.750000  40.205502  ...   \n",
      "2017-01-05  62.299999  40.687000  161.940720  62.660000  40.296001  ...   \n",
      "2017-01-06  62.840000  41.448002  162.447418  63.150002  40.575001  ...   \n",
      "2017-01-09  62.639999  41.521500  162.332703  63.080002  41.081001  ...   \n",
      "\n",
      "                   Close                       High               \\\n",
      "                    ^DJI        ^GSPC          ^DJI        ^GSPC   \n",
      "Date                                                               \n",
      "2017-01-03  19881.759766  2257.830078  19938.529297  2263.879883   \n",
      "2017-01-04  19942.160156  2270.750000  19956.140625  2272.820068   \n",
      "2017-01-05  19899.289062  2269.000000  19948.599609  2271.500000   \n",
      "2017-01-06  19963.800781  2276.979980  19999.630859  2282.100098   \n",
      "2017-01-09  19887.380859  2268.899902  19943.779297  2275.489990   \n",
      "\n",
      "                     Low                       Open                  Volume  \\\n",
      "                    ^DJI        ^GSPC          ^DJI        ^GSPC       ^DJI   \n",
      "Date                                                                          \n",
      "2017-01-03  19775.929688  2245.129883  19872.859375  2251.570068  339180000   \n",
      "2017-01-04  19878.830078  2261.600098  19890.939453  2261.600098  280010000   \n",
      "2017-01-05  19811.119141  2260.449951  19924.560547  2268.179932  269920000   \n",
      "2017-01-06  19834.080078  2264.060059  19906.960938  2271.139893  277700000   \n",
      "2017-01-09  19887.380859  2268.899902  19931.410156  2273.590088  287510000   \n",
      "\n",
      "                        \n",
      "                 ^GSPC  \n",
      "Date                    \n",
      "2017-01-03  3773010000  \n",
      "2017-01-04  3768890000  \n",
      "2017-01-05  3785080000  \n",
      "2017-01-06  3342080000  \n",
      "2017-01-09  3219730000  \n",
      "\n",
      "[5 rows x 30 columns]\n"
     ]
    }
   ],
   "source": [
    "# Tomamos un periodo de 5 dias, de valores medios sobre los indices y cierres de  L - V.\n",
    "# Primero, unimos lo datos en un DF\n",
    "# print(type(data))\n",
    "# print(type(idx_data))\n",
    "# print(data.index)\n",
    "# print(idx_data.index)\n",
    "# Ambos son DF. Entonces es una operación de Merge\n",
    "dataset = data.merge(idx_data, how=\"inner\",left_index=True,right_index=True)\n",
    "print(dataset[:5])"
   ]
  },
  {
   "cell_type": "markdown",
   "metadata": {},
   "source": [
    "### Reconvertimos las series a una frecuencia de 5 días laborales"
   ]
  },
  {
   "cell_type": "code",
   "execution_count": 86,
   "metadata": {},
   "outputs": [
    {
     "data": {
      "text/html": [
       "<div>\n",
       "<style scoped>\n",
       "    .dataframe tbody tr th:only-of-type {\n",
       "        vertical-align: middle;\n",
       "    }\n",
       "\n",
       "    .dataframe tbody tr th {\n",
       "        vertical-align: top;\n",
       "    }\n",
       "\n",
       "    .dataframe thead tr th {\n",
       "        text-align: left;\n",
       "    }\n",
       "\n",
       "    .dataframe thead tr:last-of-type th {\n",
       "        text-align: right;\n",
       "    }\n",
       "</style>\n",
       "<table border=\"1\" class=\"dataframe\">\n",
       "  <thead>\n",
       "    <tr>\n",
       "      <th></th>\n",
       "      <th colspan=\"3\" halign=\"left\">Adj Close</th>\n",
       "      <th colspan=\"3\" halign=\"left\">Close</th>\n",
       "      <th colspan=\"3\" halign=\"left\">High</th>\n",
       "      <th>Low</th>\n",
       "      <th>...</th>\n",
       "      <th colspan=\"2\" halign=\"left\">Close</th>\n",
       "      <th colspan=\"2\" halign=\"left\">High</th>\n",
       "      <th colspan=\"2\" halign=\"left\">Low</th>\n",
       "      <th colspan=\"2\" halign=\"left\">Open</th>\n",
       "      <th colspan=\"2\" halign=\"left\">Volume</th>\n",
       "    </tr>\n",
       "    <tr>\n",
       "      <th></th>\n",
       "      <th>GOOGL</th>\n",
       "      <th>IBM</th>\n",
       "      <th>MSFT</th>\n",
       "      <th>GOOGL</th>\n",
       "      <th>IBM</th>\n",
       "      <th>MSFT</th>\n",
       "      <th>GOOGL</th>\n",
       "      <th>IBM</th>\n",
       "      <th>MSFT</th>\n",
       "      <th>GOOGL</th>\n",
       "      <th>...</th>\n",
       "      <th>^DJI</th>\n",
       "      <th>^GSPC</th>\n",
       "      <th>^DJI</th>\n",
       "      <th>^GSPC</th>\n",
       "      <th>^DJI</th>\n",
       "      <th>^GSPC</th>\n",
       "      <th>^DJI</th>\n",
       "      <th>^GSPC</th>\n",
       "      <th>^DJI</th>\n",
       "      <th>^GSPC</th>\n",
       "    </tr>\n",
       "    <tr>\n",
       "      <th>Date</th>\n",
       "      <th></th>\n",
       "      <th></th>\n",
       "      <th></th>\n",
       "      <th></th>\n",
       "      <th></th>\n",
       "      <th></th>\n",
       "      <th></th>\n",
       "      <th></th>\n",
       "      <th></th>\n",
       "      <th></th>\n",
       "      <th></th>\n",
       "      <th></th>\n",
       "      <th></th>\n",
       "      <th></th>\n",
       "      <th></th>\n",
       "      <th></th>\n",
       "      <th></th>\n",
       "      <th></th>\n",
       "      <th></th>\n",
       "      <th></th>\n",
       "      <th></th>\n",
       "    </tr>\n",
       "  </thead>\n",
       "  <tbody>\n",
       "    <tr>\n",
       "      <th>2017-01-09</th>\n",
       "      <td>40.811901</td>\n",
       "      <td>116.226607</td>\n",
       "      <td>57.094899</td>\n",
       "      <td>40.811901</td>\n",
       "      <td>161.057361</td>\n",
       "      <td>62.532000</td>\n",
       "      <td>40.980000</td>\n",
       "      <td>161.921606</td>\n",
       "      <td>62.896001</td>\n",
       "      <td>40.400401</td>\n",
       "      <td>...</td>\n",
       "      <td>19914.878125</td>\n",
       "      <td>2268.691992</td>\n",
       "      <td>19957.335938</td>\n",
       "      <td>2273.158008</td>\n",
       "      <td>19837.467969</td>\n",
       "      <td>2260.027979</td>\n",
       "      <td>19905.346094</td>\n",
       "      <td>2265.216016</td>\n",
       "      <td>290864000.0</td>\n",
       "      <td>3.577758e+09</td>\n",
       "    </tr>\n",
       "    <tr>\n",
       "      <th>2017-01-16</th>\n",
       "      <td>41.454250</td>\n",
       "      <td>115.311789</td>\n",
       "      <td>57.321336</td>\n",
       "      <td>41.454250</td>\n",
       "      <td>159.789677</td>\n",
       "      <td>62.780000</td>\n",
       "      <td>41.554250</td>\n",
       "      <td>160.693115</td>\n",
       "      <td>63.142500</td>\n",
       "      <td>41.189251</td>\n",
       "      <td>...</td>\n",
       "      <td>19896.634766</td>\n",
       "      <td>2272.324951</td>\n",
       "      <td>19952.964355</td>\n",
       "      <td>2276.262512</td>\n",
       "      <td>19822.260254</td>\n",
       "      <td>2262.965027</td>\n",
       "      <td>19900.620117</td>\n",
       "      <td>2270.549988</td>\n",
       "      <td>301407500.0</td>\n",
       "      <td>3.455635e+09</td>\n",
       "    </tr>\n",
       "    <tr>\n",
       "      <th>2017-01-23</th>\n",
       "      <td>41.534500</td>\n",
       "      <td>116.330086</td>\n",
       "      <td>57.162466</td>\n",
       "      <td>41.534500</td>\n",
       "      <td>161.200766</td>\n",
       "      <td>62.606000</td>\n",
       "      <td>41.677701</td>\n",
       "      <td>161.780115</td>\n",
       "      <td>62.864000</td>\n",
       "      <td>41.245400</td>\n",
       "      <td>...</td>\n",
       "      <td>19798.198047</td>\n",
       "      <td>2267.995947</td>\n",
       "      <td>19842.650000</td>\n",
       "      <td>2273.432031</td>\n",
       "      <td>19736.757812</td>\n",
       "      <td>2261.320020</td>\n",
       "      <td>19814.990234</td>\n",
       "      <td>2269.583936</td>\n",
       "      <td>337072000.0</td>\n",
       "      <td>3.353020e+09</td>\n",
       "    </tr>\n",
       "    <tr>\n",
       "      <th>2017-01-30</th>\n",
       "      <td>42.338200</td>\n",
       "      <td>122.245378</td>\n",
       "      <td>58.869874</td>\n",
       "      <td>42.338200</td>\n",
       "      <td>169.397702</td>\n",
       "      <td>64.475999</td>\n",
       "      <td>42.755399</td>\n",
       "      <td>170.248566</td>\n",
       "      <td>64.816001</td>\n",
       "      <td>42.054700</td>\n",
       "      <td>...</td>\n",
       "      <td>20029.408203</td>\n",
       "      <td>2290.141992</td>\n",
       "      <td>20060.282031</td>\n",
       "      <td>2294.039990</td>\n",
       "      <td>19958.350391</td>\n",
       "      <td>2281.860010</td>\n",
       "      <td>19999.477734</td>\n",
       "      <td>2288.083936</td>\n",
       "      <td>352768000.0</td>\n",
       "      <td>3.602052e+09</td>\n",
       "    </tr>\n",
       "    <tr>\n",
       "      <th>2017-02-06</th>\n",
       "      <td>40.954400</td>\n",
       "      <td>120.744156</td>\n",
       "      <td>58.201518</td>\n",
       "      <td>40.954400</td>\n",
       "      <td>167.317398</td>\n",
       "      <td>63.744000</td>\n",
       "      <td>41.201500</td>\n",
       "      <td>167.986615</td>\n",
       "      <td>64.106001</td>\n",
       "      <td>40.713400</td>\n",
       "      <td>...</td>\n",
       "      <td>19952.764062</td>\n",
       "      <td>2285.850049</td>\n",
       "      <td>19997.016016</td>\n",
       "      <td>2289.337988</td>\n",
       "      <td>19885.774219</td>\n",
       "      <td>2277.549951</td>\n",
       "      <td>19937.026172</td>\n",
       "      <td>2283.824023</td>\n",
       "      <td>354716000.0</td>\n",
       "      <td>3.707408e+09</td>\n",
       "    </tr>\n",
       "  </tbody>\n",
       "</table>\n",
       "<p>5 rows × 30 columns</p>\n",
       "</div>"
      ],
      "text/plain": [
       "            Adj Close                             Close              \\\n",
       "                GOOGL         IBM       MSFT      GOOGL         IBM   \n",
       "Date                                                                  \n",
       "2017-01-09  40.811901  116.226607  57.094899  40.811901  161.057361   \n",
       "2017-01-16  41.454250  115.311789  57.321336  41.454250  159.789677   \n",
       "2017-01-23  41.534500  116.330086  57.162466  41.534500  161.200766   \n",
       "2017-01-30  42.338200  122.245378  58.869874  42.338200  169.397702   \n",
       "2017-02-06  40.954400  120.744156  58.201518  40.954400  167.317398   \n",
       "\n",
       "                            High                               Low  ...  \\\n",
       "                 MSFT      GOOGL         IBM       MSFT      GOOGL  ...   \n",
       "Date                                                                ...   \n",
       "2017-01-09  62.532000  40.980000  161.921606  62.896001  40.400401  ...   \n",
       "2017-01-16  62.780000  41.554250  160.693115  63.142500  41.189251  ...   \n",
       "2017-01-23  62.606000  41.677701  161.780115  62.864000  41.245400  ...   \n",
       "2017-01-30  64.475999  42.755399  170.248566  64.816001  42.054700  ...   \n",
       "2017-02-06  63.744000  41.201500  167.986615  64.106001  40.713400  ...   \n",
       "\n",
       "                   Close                       High               \\\n",
       "                    ^DJI        ^GSPC          ^DJI        ^GSPC   \n",
       "Date                                                               \n",
       "2017-01-09  19914.878125  2268.691992  19957.335938  2273.158008   \n",
       "2017-01-16  19896.634766  2272.324951  19952.964355  2276.262512   \n",
       "2017-01-23  19798.198047  2267.995947  19842.650000  2273.432031   \n",
       "2017-01-30  20029.408203  2290.141992  20060.282031  2294.039990   \n",
       "2017-02-06  19952.764062  2285.850049  19997.016016  2289.337988   \n",
       "\n",
       "                     Low                       Open                    Volume  \\\n",
       "                    ^DJI        ^GSPC          ^DJI        ^GSPC         ^DJI   \n",
       "Date                                                                            \n",
       "2017-01-09  19837.467969  2260.027979  19905.346094  2265.216016  290864000.0   \n",
       "2017-01-16  19822.260254  2262.965027  19900.620117  2270.549988  301407500.0   \n",
       "2017-01-23  19736.757812  2261.320020  19814.990234  2269.583936  337072000.0   \n",
       "2017-01-30  19958.350391  2281.860010  19999.477734  2288.083936  352768000.0   \n",
       "2017-02-06  19885.774219  2277.549951  19937.026172  2283.824023  354716000.0   \n",
       "\n",
       "                          \n",
       "                   ^GSPC  \n",
       "Date                      \n",
       "2017-01-09  3.577758e+09  \n",
       "2017-01-16  3.455635e+09  \n",
       "2017-01-23  3.353020e+09  \n",
       "2017-01-30  3.602052e+09  \n",
       "2017-02-06  3.707408e+09  \n",
       "\n",
       "[5 rows x 30 columns]"
      ]
     },
     "execution_count": 86,
     "metadata": {},
     "output_type": "execute_result"
    }
   ],
   "source": [
    "# Reconvertimos la frecuencia agrupando los valores.\n",
    "# https://pandas.pydata.org/docs/reference/api/pandas.DataFrame.resample.html\n",
    "data5days = dataset.resample(\"1W-MON\").mean()  # averaging all values along 5 days starting on Mondays \n",
    "data5days.head()\n"
   ]
  },
  {
   "cell_type": "code",
   "execution_count": 87,
   "metadata": {},
   "outputs": [
    {
     "name": "stdout",
     "output_type": "stream",
     "text": [
      "0 ('Adj Close', 'GOOGL')\n",
      "1 ('Adj Close', 'IBM')\n",
      "2 ('Adj Close', 'MSFT')\n",
      "3 ('Close', 'GOOGL')\n",
      "4 ('Close', 'IBM')\n",
      "5 ('Close', 'MSFT')\n",
      "6 ('High', 'GOOGL')\n",
      "7 ('High', 'IBM')\n",
      "8 ('High', 'MSFT')\n",
      "9 ('Low', 'GOOGL')\n",
      "10 ('Low', 'IBM')\n",
      "11 ('Low', 'MSFT')\n",
      "12 ('Open', 'GOOGL')\n",
      "13 ('Open', 'IBM')\n",
      "14 ('Open', 'MSFT')\n",
      "15 ('Volume', 'GOOGL')\n",
      "16 ('Volume', 'IBM')\n",
      "17 ('Volume', 'MSFT')\n",
      "18 ('Adj Close', '^DJI')\n",
      "19 ('Adj Close', '^GSPC')\n",
      "20 ('Close', '^DJI')\n",
      "21 ('Close', '^GSPC')\n",
      "22 ('High', '^DJI')\n",
      "23 ('High', '^GSPC')\n",
      "24 ('Low', '^DJI')\n",
      "25 ('Low', '^GSPC')\n",
      "26 ('Open', '^DJI')\n",
      "27 ('Open', '^GSPC')\n",
      "28 ('Volume', '^DJI')\n",
      "29 ('Volume', '^GSPC')\n"
     ]
    }
   ],
   "source": [
    "# Limpiamos series innecesarias\n",
    "for ix,col in enumerate(data5days.columns):\n",
    "    print(ix,col)\n",
    "    "
   ]
  },
  {
   "cell_type": "code",
   "execution_count": 95,
   "metadata": {},
   "outputs": [
    {
     "data": {
      "text/plain": [
       "[0,\n",
       " 1,\n",
       " 2,\n",
       " 6,\n",
       " 7,\n",
       " 8,\n",
       " 9,\n",
       " 10,\n",
       " 11,\n",
       " 12,\n",
       " 13,\n",
       " 14,\n",
       " 18,\n",
       " 19,\n",
       " 22,\n",
       " 23,\n",
       " 24,\n",
       " 25,\n",
       " 26,\n",
       " 27,\n",
       " 28,\n",
       " 29]"
      ]
     },
     "execution_count": 95,
     "metadata": {},
     "output_type": "execute_result"
    }
   ],
   "source": [
    "columns_si = [3,4,5,15,16,17,20,21]\n",
    "columns_to_remove = set(range(len(data5days.columns)))-set(columns_si)\n",
    "columns_to_remove = list(columns_to_remove)\n",
    "columns_to_remove"
   ]
  },
  {
   "cell_type": "code",
   "execution_count": 96,
   "metadata": {},
   "outputs": [
    {
     "data": {
      "text/html": [
       "<div>\n",
       "<style scoped>\n",
       "    .dataframe tbody tr th:only-of-type {\n",
       "        vertical-align: middle;\n",
       "    }\n",
       "\n",
       "    .dataframe tbody tr th {\n",
       "        vertical-align: top;\n",
       "    }\n",
       "\n",
       "    .dataframe thead tr th {\n",
       "        text-align: left;\n",
       "    }\n",
       "\n",
       "    .dataframe thead tr:last-of-type th {\n",
       "        text-align: right;\n",
       "    }\n",
       "</style>\n",
       "<table border=\"1\" class=\"dataframe\">\n",
       "  <thead>\n",
       "    <tr>\n",
       "      <th></th>\n",
       "      <th colspan=\"3\" halign=\"left\">Close</th>\n",
       "      <th colspan=\"3\" halign=\"left\">Volume</th>\n",
       "      <th colspan=\"2\" halign=\"left\">Close</th>\n",
       "    </tr>\n",
       "    <tr>\n",
       "      <th></th>\n",
       "      <th>GOOGL</th>\n",
       "      <th>IBM</th>\n",
       "      <th>MSFT</th>\n",
       "      <th>GOOGL</th>\n",
       "      <th>IBM</th>\n",
       "      <th>MSFT</th>\n",
       "      <th>^DJI</th>\n",
       "      <th>^GSPC</th>\n",
       "    </tr>\n",
       "    <tr>\n",
       "      <th>Date</th>\n",
       "      <th></th>\n",
       "      <th></th>\n",
       "      <th></th>\n",
       "      <th></th>\n",
       "      <th></th>\n",
       "      <th></th>\n",
       "      <th></th>\n",
       "      <th></th>\n",
       "    </tr>\n",
       "  </thead>\n",
       "  <tbody>\n",
       "    <tr>\n",
       "      <th>2017-01-09</th>\n",
       "      <td>40.811901</td>\n",
       "      <td>161.057361</td>\n",
       "      <td>62.532000</td>\n",
       "      <td>32963200.0</td>\n",
       "      <td>3165907.2</td>\n",
       "      <td>21443140.0</td>\n",
       "      <td>19914.878125</td>\n",
       "      <td>2268.691992</td>\n",
       "    </tr>\n",
       "    <tr>\n",
       "      <th>2017-01-16</th>\n",
       "      <td>41.454250</td>\n",
       "      <td>159.789677</td>\n",
       "      <td>62.780000</td>\n",
       "      <td>25812500.0</td>\n",
       "      <td>3535767.5</td>\n",
       "      <td>20125200.0</td>\n",
       "      <td>19896.634766</td>\n",
       "      <td>2272.324951</td>\n",
       "    </tr>\n",
       "    <tr>\n",
       "      <th>2017-01-23</th>\n",
       "      <td>41.534500</td>\n",
       "      <td>161.200766</td>\n",
       "      <td>62.606000</td>\n",
       "      <td>29210800.0</td>\n",
       "      <td>6789606.8</td>\n",
       "      <td>22419380.0</td>\n",
       "      <td>19798.198047</td>\n",
       "      <td>2267.995947</td>\n",
       "    </tr>\n",
       "    <tr>\n",
       "      <th>2017-01-30</th>\n",
       "      <td>42.338200</td>\n",
       "      <td>169.397702</td>\n",
       "      <td>64.475999</td>\n",
       "      <td>56426000.0</td>\n",
       "      <td>4919526.2</td>\n",
       "      <td>33673920.0</td>\n",
       "      <td>20029.408203</td>\n",
       "      <td>2290.141992</td>\n",
       "    </tr>\n",
       "    <tr>\n",
       "      <th>2017-02-06</th>\n",
       "      <td>40.954400</td>\n",
       "      <td>167.317398</td>\n",
       "      <td>63.744000</td>\n",
       "      <td>35357600.0</td>\n",
       "      <td>3245800.8</td>\n",
       "      <td>32173440.0</td>\n",
       "      <td>19952.764062</td>\n",
       "      <td>2285.850049</td>\n",
       "    </tr>\n",
       "  </tbody>\n",
       "</table>\n",
       "</div>"
      ],
      "text/plain": [
       "                Close                             Volume             \\\n",
       "                GOOGL         IBM       MSFT       GOOGL        IBM   \n",
       "Date                                                                  \n",
       "2017-01-09  40.811901  161.057361  62.532000  32963200.0  3165907.2   \n",
       "2017-01-16  41.454250  159.789677  62.780000  25812500.0  3535767.5   \n",
       "2017-01-23  41.534500  161.200766  62.606000  29210800.0  6789606.8   \n",
       "2017-01-30  42.338200  169.397702  64.475999  56426000.0  4919526.2   \n",
       "2017-02-06  40.954400  167.317398  63.744000  35357600.0  3245800.8   \n",
       "\n",
       "                               Close               \n",
       "                  MSFT          ^DJI        ^GSPC  \n",
       "Date                                               \n",
       "2017-01-09  21443140.0  19914.878125  2268.691992  \n",
       "2017-01-16  20125200.0  19896.634766  2272.324951  \n",
       "2017-01-23  22419380.0  19798.198047  2267.995947  \n",
       "2017-01-30  33673920.0  20029.408203  2290.141992  \n",
       "2017-02-06  32173440.0  19952.764062  2285.850049  "
      ]
     },
     "execution_count": 96,
     "metadata": {},
     "output_type": "execute_result"
    }
   ],
   "source": [
    "data5days = data5days.drop(data5days.columns[columns_to_remove],axis=1)\n",
    "data5days.head()"
   ]
  },
  {
   "cell_type": "code",
   "execution_count": 99,
   "metadata": {},
   "outputs": [
    {
     "data": {
      "text/plain": [
       "Index(['GOOGL', 'IBM', 'MSFT', 'GOOGL', 'IBM', 'MSFT', '^DJI', '^GSPC'], dtype='object')"
      ]
     },
     "execution_count": 99,
     "metadata": {},
     "output_type": "execute_result"
    }
   ],
   "source": [
    "# Facilitamosel manejo de columnas, eliminando un nivel superior (son : close o volume)\n",
    "data5days.columns = data5days.columns.droplevel(0)\n",
    "data5days.columns"
   ]
  },
  {
   "cell_type": "code",
   "execution_count": 100,
   "metadata": {},
   "outputs": [
    {
     "data": {
      "text/html": [
       "<div>\n",
       "<style scoped>\n",
       "    .dataframe tbody tr th:only-of-type {\n",
       "        vertical-align: middle;\n",
       "    }\n",
       "\n",
       "    .dataframe tbody tr th {\n",
       "        vertical-align: top;\n",
       "    }\n",
       "\n",
       "    .dataframe thead th {\n",
       "        text-align: right;\n",
       "    }\n",
       "</style>\n",
       "<table border=\"1\" class=\"dataframe\">\n",
       "  <thead>\n",
       "    <tr style=\"text-align: right;\">\n",
       "      <th></th>\n",
       "      <th>CloseGOOGL</th>\n",
       "      <th>CloseIBM</th>\n",
       "      <th>CloseMSFT</th>\n",
       "      <th>VolGOOGL</th>\n",
       "      <th>VolIBM</th>\n",
       "      <th>VolMSFT</th>\n",
       "      <th>DJI</th>\n",
       "      <th>SP500</th>\n",
       "    </tr>\n",
       "    <tr>\n",
       "      <th>Date</th>\n",
       "      <th></th>\n",
       "      <th></th>\n",
       "      <th></th>\n",
       "      <th></th>\n",
       "      <th></th>\n",
       "      <th></th>\n",
       "      <th></th>\n",
       "      <th></th>\n",
       "    </tr>\n",
       "  </thead>\n",
       "  <tbody>\n",
       "    <tr>\n",
       "      <th>2017-01-09</th>\n",
       "      <td>40.811901</td>\n",
       "      <td>161.057361</td>\n",
       "      <td>62.532000</td>\n",
       "      <td>32963200.0</td>\n",
       "      <td>3165907.2</td>\n",
       "      <td>21443140.0</td>\n",
       "      <td>19914.878125</td>\n",
       "      <td>2268.691992</td>\n",
       "    </tr>\n",
       "    <tr>\n",
       "      <th>2017-01-16</th>\n",
       "      <td>41.454250</td>\n",
       "      <td>159.789677</td>\n",
       "      <td>62.780000</td>\n",
       "      <td>25812500.0</td>\n",
       "      <td>3535767.5</td>\n",
       "      <td>20125200.0</td>\n",
       "      <td>19896.634766</td>\n",
       "      <td>2272.324951</td>\n",
       "    </tr>\n",
       "    <tr>\n",
       "      <th>2017-01-23</th>\n",
       "      <td>41.534500</td>\n",
       "      <td>161.200766</td>\n",
       "      <td>62.606000</td>\n",
       "      <td>29210800.0</td>\n",
       "      <td>6789606.8</td>\n",
       "      <td>22419380.0</td>\n",
       "      <td>19798.198047</td>\n",
       "      <td>2267.995947</td>\n",
       "    </tr>\n",
       "    <tr>\n",
       "      <th>2017-01-30</th>\n",
       "      <td>42.338200</td>\n",
       "      <td>169.397702</td>\n",
       "      <td>64.475999</td>\n",
       "      <td>56426000.0</td>\n",
       "      <td>4919526.2</td>\n",
       "      <td>33673920.0</td>\n",
       "      <td>20029.408203</td>\n",
       "      <td>2290.141992</td>\n",
       "    </tr>\n",
       "    <tr>\n",
       "      <th>2017-02-06</th>\n",
       "      <td>40.954400</td>\n",
       "      <td>167.317398</td>\n",
       "      <td>63.744000</td>\n",
       "      <td>35357600.0</td>\n",
       "      <td>3245800.8</td>\n",
       "      <td>32173440.0</td>\n",
       "      <td>19952.764062</td>\n",
       "      <td>2285.850049</td>\n",
       "    </tr>\n",
       "  </tbody>\n",
       "</table>\n",
       "</div>"
      ],
      "text/plain": [
       "            CloseGOOGL    CloseIBM  CloseMSFT    VolGOOGL     VolIBM  \\\n",
       "Date                                                                   \n",
       "2017-01-09   40.811901  161.057361  62.532000  32963200.0  3165907.2   \n",
       "2017-01-16   41.454250  159.789677  62.780000  25812500.0  3535767.5   \n",
       "2017-01-23   41.534500  161.200766  62.606000  29210800.0  6789606.8   \n",
       "2017-01-30   42.338200  169.397702  64.475999  56426000.0  4919526.2   \n",
       "2017-02-06   40.954400  167.317398  63.744000  35357600.0  3245800.8   \n",
       "\n",
       "               VolMSFT           DJI        SP500  \n",
       "Date                                               \n",
       "2017-01-09  21443140.0  19914.878125  2268.691992  \n",
       "2017-01-16  20125200.0  19896.634766  2272.324951  \n",
       "2017-01-23  22419380.0  19798.198047  2267.995947  \n",
       "2017-01-30  33673920.0  20029.408203  2290.141992  \n",
       "2017-02-06  32173440.0  19952.764062  2285.850049  "
      ]
     },
     "execution_count": 100,
     "metadata": {},
     "output_type": "execute_result"
    }
   ],
   "source": [
    "# Y renombramos columnas: MUY IMPORTANTE EL ORDEN!!\n",
    "columns_names = [\"CloseGOOGL\",\"CloseIBM\",\"CloseMSFT\",\"VolGOOGL\",\"VolIBM\",\"VolMSFT\",\"DJI\",\"SP500\"]\n",
    "data5days.columns = columns_names\n",
    "\n",
    "data5days.head()\n"
   ]
  },
  {
   "cell_type": "markdown",
   "metadata": {},
   "source": [
    "Con los datos preparados, podemos analizar los valores de estas series y sus posibles relaciones"
   ]
  },
  {
   "cell_type": "code",
   "execution_count": 102,
   "metadata": {},
   "outputs": [
    {
     "data": {
      "image/png": "[encoded data removed]",
      "text/plain": [
       "<Figure size 432x288 with 4 Axes>"
      ]
     },
     "metadata": {
      "needs_background": "light"
     },
     "output_type": "display_data"
    }
   ],
   "source": [
    "# Su desomposición\n",
    "res = sm.tsa.seasonal_decompose(data5days.CloseMSFT,period=8) # que implica este 8?\n",
    "fig = res.plot()\n",
    "plt.show()"
   ]
  },
  {
   "cell_type": "markdown",
   "metadata": {},
   "source": [
    "o incluso podemos mirar la matriz de correlación para detectar algún patrón común entre los datos"
   ]
  },
  {
   "cell_type": "code",
   "execution_count": 103,
   "metadata": {},
   "outputs": [
    {
     "data": {
      "text/plain": [
       "<matplotlib.image.AxesImage at 0x29eca61f0>"
      ]
     },
     "execution_count": 103,
     "metadata": {},
     "output_type": "execute_result"
    },
    {
     "data": {
      "image/png": "[encoded data removed]",
      "text/plain": [
       "<Figure size 288x288 with 1 Axes>"
      ]
     },
     "metadata": {
      "needs_background": "light"
     },
     "output_type": "display_data"
    }
   ],
   "source": [
    "#con matplotlib \n",
    "import matplotlib.pyplot as plt\n",
    "correlation = data5days.corr()\n",
    "plt.matshow(correlation)"
   ]
  },
  {
   "cell_type": "code",
   "execution_count": 104,
   "metadata": {},
   "outputs": [
    {
     "data": {
      "text/plain": [
       "<AxesSubplot:>"
      ]
     },
     "execution_count": 104,
     "metadata": {},
     "output_type": "execute_result"
    },
    {
     "data": {
      "image/png": "[encoded data removed]",
      "text/plain": [
       "<Figure size 432x288 with 2 Axes>"
      ]
     },
     "metadata": {
      "needs_background": "light"
     },
     "output_type": "display_data"
    }
   ],
   "source": [
    "#con seaborn \n",
    "import seaborn as sns\n",
    "sns.heatmap(correlation, vmax=1, square=True,annot=True,cmap='cubehelix')"
   ]
  },
  {
   "cell_type": "markdown",
   "metadata": {},
   "source": [
    "Con los datos preparados podemos aplicar modelos supervisados de predicción\n",
    "\n",
    "Nuestra variable objetivo será el valor de cierre de MSFT"
   ]
  },
  {
   "cell_type": "code",
   "execution_count": 107,
   "metadata": {},
   "outputs": [],
   "source": [
    "# Aplicación de modelos de supervisado\n",
    "\n",
    "from sklearn.linear_model import LinearRegression\n",
    "from sklearn.svm import SVR\n",
    "from sklearn.ensemble import RandomForestRegressor\n",
    "from sklearn.model_selection import train_test_split\n",
    "\n",
    "# Vamos aplicar diferentes modelos al mismo tiempo!\n",
    "models = [LinearRegression,SVR,RandomForestRegressor]\n",
    "\n",
    "# Preparamos las variables: features y target\n",
    "X = data5days.drop(labels=[\"CloseMSFT\"],axis=1)\n",
    "Y = data5days.CloseMSFT\n",
    "\n",
    "# Particionamos los datos de entreno y test al 80%\n",
    "X_train, X_test, y_train, y_test = train_test_split(X, Y, test_size=0.20, random_state=33)\n"
   ]
  },
  {
   "cell_type": "code",
   "execution_count": 108,
   "metadata": {},
   "outputs": [
    {
     "name": "stdout",
     "output_type": "stream",
     "text": [
      "Model: LinearRegression\n",
      "Model: SVR\n",
      "Model: RandomForestRegressor\n"
     ]
    }
   ],
   "source": [
    "# Variables de salida\n",
    "model_names = []\n",
    "train_results = []\n",
    "test_results = []\n",
    "\n",
    "# Entrenamos y testeamos\n",
    "for model in models:\n",
    "    print(\"Model: %s\"%model.__name__)\n",
    "    model_names.append(model.__name__)\n",
    "    res = model().fit(X=X_train,y=y_train)\n",
    "    train_result = mean_squared_error(res.predict(X_train), y_train) \n",
    "    train_results.append(train_result)\n",
    "\n",
    "    test_result = mean_squared_error(res.predict(X_test), y_test)\n",
    "    test_results.append(test_result)\n"
   ]
  },
  {
   "cell_type": "code",
   "execution_count": 109,
   "metadata": {},
   "outputs": [
    {
     "data": {
      "image/png": "[encoded data removed]",
      "text/plain": [
       "<Figure size 432x288 with 1 Axes>"
      ]
     },
     "metadata": {
      "needs_background": "light"
     },
     "output_type": "display_data"
    }
   ],
   "source": [
    "import numpy as np\n",
    "ind = np.arange(len(models)) \n",
    "width = 0.35 # the width of the bars\n",
    "\n",
    "fig,ax = plt.subplots()\n",
    "plt.bar(ind - width/2, train_results, width=width, label='Train Error')\n",
    "plt.bar(ind + width/2, test_results, width=width, label='Test Error')\n",
    "plt.legend()\n",
    "ax.set_xticks(ind)\n",
    "ax.set_xticklabels(model_names)\n",
    "plt.show()"
   ]
  },
  {
   "cell_type": "markdown",
   "metadata": {},
   "source": [
    "## Más allá de la regresión lineal simple\n",
    "\n",
    "En la sesión de hoy seguiremos trabajando con las técnicas de regresión, profundizaremos\n",
    "en las técnicas de regresión lineal y veremos otras técnicas de regresión no lineal.\n",
    "Por otra parte revisaremos las métricas más usadas para este problema. Finalmente\n",
    "trabajaremos en la automatización de los procesos de aprendizaje automático.\n",
    "\n",
    "1. Uso de la regularización\n",
    "2. Regresión no lineal: un ejemplo\n",
    "3. Métricas de regresión\n",
    "4. Buenas prácticas I: Conjuntos de entrenamiento y test.\n",
    "\n",
    "\n",
    "### 1. Uso de la regularización\n",
    "\n",
    "Una forma de encontrar una buena relación entre el sesgo y la varianza es ajustar la complejidad del modelo a través de\n",
    "**la regularización**. La regularización es un método muy útil para manejar\n",
    "colinealidad (alta correlación entre características), filtrar el ruido de los datos y\n",
    "eventualmente evitará el _overfitting_. El concepto detrás de la regularización es introducir\n",
    "información adicional (sesgo) para penalizar los valores extremas de los parámetros.\n",
    "\n",
    "Si tenemos que la expresión para una regresión lineal es: $$y = w_0x_0+w_1x_1+...+w_nx_n=\\sum^m_{i=0} w_i X_{i}$$\n",
    "\n",
    "Y la función que queremos minimizar es: $$J(w) = \\sum^n_{i=1}(y^{(i)}-\\hat{y}^{(i)})^2 $$\n",
    "\n",
    "\n",
    "### Ridge Regression\n",
    "La _Ridge Regression_ es un modelo que usa una penalización aplicando la norma L2 donde simplemente agregamos\n",
    "la suma al cuadrado de los pesos de nuestra función de coste:\n",
    "\n",
    "$$ J(w)_{Ridge} = \\sum^n_{i=1}(y^{(i)}-\\hat{y}^{(i)})^2 + \\lambda\\| w \\|_2$$\n",
    "\n",
    "El uso de esta regresión sería el siguiente:"
   ]
  },
  {
   "cell_type": "code",
   "execution_count": 110,
   "metadata": {},
   "outputs": [],
   "source": [
    "from sklearn.linear_model import Ridge\n",
    "\n",
    "ridge = Ridge(alpha=1.0)"
   ]
  },
  {
   "cell_type": "markdown",
   "metadata": {},
   "source": [
    "Al aumentar el valor del hiperparámetro $\\lambda$, aumentamos la fuerza de la regularización\n",
    "y encogemos los pesos de nuestro modelo. Hay que tener en cuenta que no regularizamos\n",
    "el término del _intercepto_ ($w_0$).\n",
    "\n",
    "### Lasso Regression (L1)\n",
    "Un enfoque alternativo que puede conducir a modelos dispersos es la regresión LASSO.\n",
    "Según sea el valor del término de regularización, ciertos pesos pueden coger el valor cero,\n",
    "lo que hace que este tipo de regresión LASSO también sea útil como técnica de selección de características\n",
    "supervisada.\n",
    "\n",
    "La función a minimizar en este caso es:\n",
    "$$ J(w)_{Lasso} = \\sum^n_{i=1}(y^{(i)}-\\hat{y}^{(i)})^2 + \\lambda\\| w \\|_1$$\n",
    "\n",
    "El uso de esta regresión sería el siguiente:"
   ]
  },
  {
   "cell_type": "code",
   "execution_count": 111,
   "metadata": {},
   "outputs": [],
   "source": [
    "from sklearn.linear_model import Lasso\n",
    "lasso = Lasso(alpha=1.0)"
   ]
  },
  {
   "cell_type": "markdown",
   "metadata": {},
   "source": [
    "### Elastic Net Regression\n",
    "\n",
    "Sin embargo, una limitación de LASSO es que selecciona como máximo $n$ variables si $ m > n $.\n",
    "_Elastic Net_ ofrece un buen compromiso entre la _Ridge_ _regression_  y LASSO, que tiene una\n",
    "Penalización L1 para generar una selección de características y penalización L2 para superar algunas de las limitaciones de la regresión LASSO, como es el número de variables seleccionadas.\n",
    "\n",
    "La función a minimizar en este caso es:\n",
    "\n",
    "$$ J(w)_{Elasticnet} = \\sum^n_{i=1}(y^{(i)}-\\hat{y}^{(i)})^2 + \\lambda_1 \\sum^n_{i=1} w^2_j + \\lambda_2 \\sum^n_{i=1} w_j $$\n",
    "\n",
    "El uso de esta regresión sería el siguiente:"
   ]
  },
  {
   "cell_type": "code",
   "execution_count": 112,
   "metadata": {},
   "outputs": [],
   "source": [
    "from sklearn.linear_model import ElasticNet\n",
    "elastic = ElasticNet(alpha=1.0, l1_ratio=0.5)"
   ]
  },
  {
   "cell_type": "markdown",
   "metadata": {},
   "source": [
    "### Regresión polinómica\n",
    "La regresión polinomial es un caso especial de regresión lineal en el que se construyen nuevas características en\n",
    "función del grado del polinomio que se quiera construir.\n",
    "En las secciones anteriores, hemos asumido una relación lineal entre las variables del modelo y\n",
    "la variable objetivo. Una forma de no tener en cuenta el supuesto de linealidad es\n",
    "usar un modelo de regresión polinomial, es decir agregando términos polinomiales.\n",
    "\n",
    "$$ y = w_0 + w_1x + w_2x^2 + ... + w_dx^d $$\n",
    "\n",
    "donde $d$ es el grado del polinomio. Aunque podemos usar un polinomio\n",
    "para modelar una relación no lineal, todavía se considera una\n",
    "modelo de regresión lineal debido a los coeficientes $w$.\n"
   ]
  },
  {
   "cell_type": "code",
   "execution_count": 113,
   "metadata": {},
   "outputs": [
    {
     "data": {
      "image/png": "[encoded data removed]",
      "text/plain": [
       "<Figure size 1008x360 with 3 Axes>"
      ]
     },
     "metadata": {},
     "output_type": "display_data"
    }
   ],
   "source": [
    "import numpy as np\n",
    "import matplotlib.pyplot as plt\n",
    "from sklearn.preprocessing import PolynomialFeatures\n",
    "from sklearn.linear_model import LinearRegression\n",
    "\n",
    "def true_fun(X):\n",
    "    return np.cos(1.5 * np.pi * X)\n",
    "\n",
    "np.random.seed(0)\n",
    "n_samples = 30\n",
    "degrees = [1, 4, 15]\n",
    "\n",
    "X = np.sort(np.random.rand(n_samples))\n",
    "y = true_fun(X) + np.random.randn(n_samples) * 0.1\n",
    "\n",
    "plt.figure(figsize=(14, 5))\n",
    "\n",
    "for i in range(len(degrees)):\n",
    "    ax = plt.subplot(1, len(degrees), i + 1)\n",
    "    plt.setp(ax, xticks=(), yticks=())\n",
    "\n",
    "    \n",
    "    linear_regression = LinearRegression()\n",
    "    polynomial_features = PolynomialFeatures(degree=degrees[i])\n",
    "    polynomial = polynomial_features.fit_transform(X[:, np.newaxis])\n",
    "    \n",
    "    linear_regression.fit(polynomial, y)\n",
    "\n",
    "    X_test = np.linspace(0, 1, 100)\n",
    "    plt.plot(X, linear_regression.predict(polynomial), label=\"Model\")\n",
    "    plt.plot(X_test, true_fun(X_test), label=\"True function\")\n",
    "    plt.scatter(X, y, edgecolor=\"b\", s=20, label=\"Samples\")\n",
    "    plt.xlabel(\"x\")\n",
    "    plt.ylabel(\"y\")\n",
    "    plt.xlim((0, 1))\n",
    "    plt.ylim((-2, 2))\n",
    "    plt.legend(loc=\"best\")\n",
    "\n",
    "    plt.title( \"Degree: \" + str(degrees[i]))\n",
    "    \n",
    "plt.show()"
   ]
  },
  {
   "cell_type": "markdown",
   "metadata": {},
   "source": [
    "### Regresión no lineal: un ejemplo\n",
    "\n",
    "Cuando queremos resolver un problema usando un modelo más complejo podemos elegir alguno de los siguientes:\n",
    "\n",
    "- Árboles de regresión\n",
    "- Bosques de regresión\n",
    "- SVM para la regresión\n",
    "- Y todos los modelos que existen...\n",
    "\n",
    "Realizaremos un ejercicio con los árboles de decisión debido a que son fáciles de entender y que en sesiones futuras\n",
    "trabajaremos con los análogos de los Bosques de regresión y las SVM para problemas de clasificación.\n",
    "\n",
    "Los **árboles de decisión (DT)** son un método de aprendizaje supervisado no paramétrico que se utiliza para\n",
    "clasificación y regresión. El objetivo es crear un modelo que prediga el valor de una variable objetivo mediante\n",
    "el aprendizaje de reglas de decisión simples inferidas de las características de los datos. Un árbol puede verse como\n",
    "una aproximación de una función a trozos.\n",
    "\n",
    "En sci-kit la clase que modela este tipo de árboles se llama `DecisionTreeRegressor` [enlace](https://scikit-learn.org/stable/auto_examples/tree/plot_tree_regression.html)\n",
    "\n",
    "Veamos un ejemplo sencillo:"
   ]
  },
  {
   "cell_type": "code",
   "execution_count": 114,
   "metadata": {},
   "outputs": [
    {
     "data": {
      "image/png": "[encoded data removed]",
      "text/plain": [
       "<Figure size 432x288 with 1 Axes>"
      ]
     },
     "metadata": {
      "needs_background": "light"
     },
     "output_type": "display_data"
    }
   ],
   "source": [
    "# Importamos las librerias necesarias\n",
    "import numpy as np\n",
    "from sklearn.tree import DecisionTreeRegressor\n",
    "import matplotlib.pyplot as plt\n",
    "\n",
    "# Generamos un conjunto de datos (función seno)\n",
    "rng = np.random.RandomState(1)\n",
    "X = np.sort(5 * rng.rand(80, 1), axis=0)\n",
    "y = np.sin(X).ravel()\n",
    "y[::5] += 3 * (0.5 - rng.rand(16))\n",
    "\n",
    "# Entrenamos el modelo\n",
    "\n",
    "regr_1 = DecisionTreeRegressor(max_depth=2)\n",
    "regr_1.fit(X, y)\n",
    "\n",
    "# Realizamos una predicción\n",
    "X_test = np.expand_dims(np.arange(0.0, 5.0, 0.01), 1)\n",
    "y_1 = regr_1.predict(X_test)\n",
    "\n",
    "# Mostramos los resultados\n",
    "plt.figure()\n",
    "plt.scatter(X, y, s=20, edgecolor=\"black\", c=\"darkorange\", label=\"data\")\n",
    "plt.plot(X_test, y_1, color=\"cornflowerblue\", label=\"max_depth=2\", linewidth=2)\n",
    "plt.xlabel(\"data\")\n",
    "plt.ylabel(\"target\")\n",
    "plt.title(\"Decision Tree Regression\")\n",
    "plt.legend()\n",
    "plt.show()"
   ]
  },
  {
   "cell_type": "markdown",
   "metadata": {},
   "source": [
    "Vamos a ver la estructura del primer árbol que hemos entrenado para entender mejor el proceso que ha seguido:"
   ]
  },
  {
   "cell_type": "code",
   "execution_count": 115,
   "metadata": {},
   "outputs": [
    {
     "data": {
      "text/plain": [
       "[Text(0.5, 0.8333333333333334, 'X[0] <= 3.133\\nsquared_error = 0.547\\nsamples = 80\\nvalue = 0.122'),\n",
       " Text(0.25, 0.5, 'X[0] <= 0.514\\nsquared_error = 0.231\\nsamples = 51\\nvalue = 0.571'),\n",
       " Text(0.125, 0.16666666666666666, 'squared_error = 0.192\\nsamples = 11\\nvalue = 0.052'),\n",
       " Text(0.375, 0.16666666666666666, 'squared_error = 0.148\\nsamples = 40\\nvalue = 0.714'),\n",
       " Text(0.75, 0.5, 'X[0] <= 3.85\\nsquared_error = 0.124\\nsamples = 29\\nvalue = -0.667'),\n",
       " Text(0.625, 0.16666666666666666, 'squared_error = 0.124\\nsamples = 14\\nvalue = -0.452'),\n",
       " Text(0.875, 0.16666666666666666, 'squared_error = 0.041\\nsamples = 15\\nvalue = -0.869')]"
      ]
     },
     "execution_count": 115,
     "metadata": {},
     "output_type": "execute_result"
    },
    {
     "data": {
      "image/png": "[encoded data removed]",
      "text/plain": [
       "<Figure size 648x648 with 1 Axes>"
      ]
     },
     "metadata": {
      "needs_background": "light"
     },
     "output_type": "display_data"
    }
   ],
   "source": [
    "from sklearn import tree\n",
    "plt.figure(figsize=(9,9))\n",
    "tree.plot_tree(regr_1)"
   ]
  },
  {
   "cell_type": "markdown",
   "metadata": {},
   "source": [
    "**Ejercicio**\n",
    "\n",
    "- Cambia el parámetro _max_depth_ del modelo. Que pasa si es 1? Que pasa si es 5 o mayor?\n",
    "- Visualiza el árbol resultante. \n",
    "- Cuál es la medida de Score de este método (mirar documentación)? Como cambia al permitir árboles más profundos?\n",
    "- Busca en la documentación de Sci-kit de los Bosques de Regresión ( _RandomForestRegressor_ ) compara el score obtenido cuando incrementamos el número de árboles, manteniendo la misma profundidad."
   ]
  },
  {
   "cell_type": "markdown",
   "metadata": {},
   "source": [
    "## Métricas para problemas de regression\n",
    "\n",
    "Las métricas más comunes en los problemas de regresión son el **error cuadrático** y el **error absoluto**, y sus distintas modificaciones.\n",
    "\n",
    "### 3.1 Errores cuadráticos\n",
    "\n",
    "El **error cuadrático (Squared Error)** de un valor predicho con respecto al valor real, se calcula cómo:\n",
    "\n",
    "$$ SE = \\sum_j\\left[\\hat{y}_j - y_j\\right]^2$$\n",
    "\n",
    "\n",
    "**Error cuadrático medio (Mean Squared Error)** Da una idea del error de nuestras predicciones dando más peso a los errores grandes.\n",
    "\n",
    "$$ MSE = \\frac{1}{m}\\sum_j^m \\left[\\hat{y}_j - y_j\\right]^2 $$\n",
    "\n",
    "**Raiz del error cuadrático medio (Root Mean Square Error)** La raíz cuadrada del MSE produce el error de la raíz cuadrada de la media o la desviación de la raíz cuadrada media (RMSE o RMSD). Tiene las mismas unidades que la cantidad que estima. Para un estimador sin sesgo (bies), el RMSE es la raíz cuadrada de la varianza, es decir la desviación estandar.\n",
    "\n",
    "$$ RMSE = \\sqrt{\\frac{1}{m}\\sum_j^m \\left[\\hat{y}_j - y_j\\right]^2} $$\n",
    "\n",
    "\n",
    "\n",
    "A pesar de ser una de las métricas más utilizadas, tiene el inconveniente de ser sensible a los valores extremos (outliers). Cuando este comportamiento pueda suponer un problema, los **errores absolutos** pueden darnos una mejor medida de rendimiento."
   ]
  },
  {
   "cell_type": "code",
   "execution_count": 33,
   "metadata": {},
   "outputs": [],
   "source": [
    "import pandas as pd\n",
    "import numpy as np\n",
    "import seaborn as sns\n",
    "import matplotlib.pyplot as plt\n",
    "\n",
    "sns.set_style('darkgrid')\n",
    "sns.set_context('notebook')\n",
    "sns.set(rc={'figure.figsize':(12, 8)})"
   ]
  },
  {
   "cell_type": "code",
   "execution_count": 34,
   "metadata": {},
   "outputs": [
    {
     "ename": "SyntaxError",
     "evalue": "invalid syntax (820556737.py, line 7)",
     "output_type": "error",
     "traceback": [
      "\u001b[0;36m  Input \u001b[0;32mIn [34]\u001b[0;36m\u001b[0m\n\u001b[0;31m    sq_error = ##\u001b[0m\n\u001b[0m               ^\u001b[0m\n\u001b[0;31mSyntaxError\u001b[0m\u001b[0;31m:\u001b[0m invalid syntax\n"
     ]
    }
   ],
   "source": [
    "## Escribe una función que devuelva el MSE y el RMSE dados dos arrays de numpy\n",
    "\n",
    "def MSE(x1, x2):\n",
    "    \"\"\"\n",
    "    Returns the Root Mean Squared Error of the two input vectors\n",
    "    \"\"\"\n",
    "    sq_error = ##\n",
    "    mean_sq_error = np.##\n",
    "    return mean_sq_error\n",
    "\n",
    "def RMSE(x1, x2):\n",
    "    \"\"\"\n",
    "    Returns the Root Mean Squared Error of two vectors. Depends on the MSE function\n",
    "    \"\"\"\n",
    "    mse = MSE(x1, x2)\n",
    "    root_mse = np.##\n",
    "    return root_mse"
   ]
  },
  {
   "cell_type": "markdown",
   "metadata": {},
   "source": [
    "### 3.2 Errores absolutos\n",
    "\n",
    "El **error absoluto** (Absolute Error) se define cómo:\n",
    "\n",
    "$$ AE = \\sum_j \\left|\\hat{y}_j - y_j\\right| $$\n",
    "\n",
    "#### Error absoluto medio (Mean Absolute Error)\n",
    "\n",
    "Es más robusto a los valores extremos y su interpretabilidad es más alta que la del RMSE ya que también está en las unidades de la variable a predecir con la ventaja de que el dato no ha sufrido ninguna transformación.\n",
    "\n",
    "$$ MAE = \\frac{1}{m} \\sum_j^m \\left|\\hat{y}_j - y_j\\right| $$\n",
    "\n",
    "#### Error absoluto medio porcentual (Mean Average Percentage Error)\n",
    "\n",
    "A pesar de su simpleza, presenta varios inconvenientes a la hora de usarlo de forma práctica. Por ejemplo, **no puede usarse cuando el valor de referencia es 0**. Además, **si se usa para elegir métodos predictivos seleccionará de forma sistemática un metodo que prediga valores bajos.**\n",
    "[wiki](https://en.wikipedia.org/wiki/Mean_absolute_percentage_error)\n",
    "\n",
    "$$ MAPE = \\frac{1}{m} \\sum_j^m \\left|\\frac{\\hat{y}_j - y_j}{y_j}\\right| $$"
   ]
  },
  {
   "cell_type": "markdown",
   "metadata": {},
   "source": [
    "### 3.3 Generalización\n",
    "\n",
    "Las dos **métricas** expuestas anteriormente pueden considerarse como **distancias entre el vector de valores reales y el predicho**. De hecho, el RMSE corresponde a la **distancia euclidiana**, también conocida como norma $l_2$ o $\\lVert{v}\\rVert_2$.\n",
    "\n",
    "Por otro lado, el MAE corresponde a la norma $l_1$ o $\\lVert{v}\\rVert_1$. A esta distancia se la conoce como **distancia de manhattan**, porque sólo se puede viajar de un bloque a otro de la ciudad a traves de calles ortogonales.\n",
    "\n",
    "De forma general, una norma $l_k$ o $\\lVert{v}\\rVert_k$ se calcula:\n",
    "\n",
    "$$\\lVert{v}\\rVert_k = \\left(|v_0|^k + ...+ |v_m|^k \\right)^\\frac{1}{k}$$\n",
    "\n",
    "El concepto de distancia será particularmente útil en los problemas de segmentación (aprendizaje no supervisado)\n"
   ]
  },
  {
   "cell_type": "markdown",
   "metadata": {},
   "source": [
    "### 3.4 Coeficiente de determinación ($R^2$)\n",
    "\n",
    "El coeficiente determina la calidad del modelo para replicar los resultados, y la proporción de variación de los resultados que puede explicarse por el modelo. El valor más alto obtenible será 1, aunque hay casos en los que puede presentar valores negativos. De forma intuitiva, $R^2$ compara el \"fit\" de nuestro modelo al de una linea recta horizontal. Dada una regresión lineal simple, un $R^2$ negativo sólo es posible cuando la ordenada en el origen o la pendiente están restringidas de forma que el mejor modelo es peor que una linea horizontal.\n",
    "\n",
    "Si representamos la **varianza de la variable dependiente** por $\\sigma^{2}$ y la **varianza residual** por $\\sigma _{r}^{2}$, el coeficiente de determinación viene dado por la siguiente ecuación:\n",
    "\n",
    "$$ R^{2}=1- \\frac{\\sigma_{r}^{2}}{\\sigma ^{2}}$$\n",
    "\n",
    "\n",
    "Siendo $\\hat{y}_i$ el valor predicho de la muestra i y $y_i$ el valor real, el $R^2$ estimado sobre $n_{\\text{muestras}}$ se define como:\n",
    "\n",
    "$$ R^2(y, \\hat{y}) = 1 - \\frac{\\sum_{i=0}^{n_{\\text{samples}} - 1} (y_i - \\hat{y}_i)^2}{\\sum_{i=0}^{n_\\text{samples} - 1} (y_i - \\bar{y})^2}$$\n",
    "donde $$ \\bar{y} =  \\frac{1}{n_{\\text{samples}}} \\sum_{i=0}^{n_{\\text{samples}} - 1} y_i$$\n",
    "\n",
    "#### 3.4.1 Consideraciones R²\n",
    "\n",
    "1. R² no puede determinar si los coeficientes y las predicciones tienen bies: Hay que checkear los residos --> Si observamos patrones en los plots de residuos es indicativo de un mal ajuste a pesar de un R2 elevado\n",
    "\n",
    "1. Cada vez que añadimos un predictor a un modelo, el R² aumenta aunque sea por suerte, pero nunca decrece. Por consiguiente, un modelo con muchos terminos puede parecer mejor simplemente por el hecho de tener más terminos. Para prevenir este efecto, podemos usar el **adjusted R²**, una versión modificada que se ajusta al número de predictores en el modelo. De ésta forma, el R² solo aumenta si el nuevo término mejora el modelo más que por mera suerte. Siempre es más bajo que el R²\n",
    "\n",
    "$$\\bar{R}^2 = 1 - \\frac{N-1}{N-k-1}(1-R^2)$$\n",
    "\n",
    "\n",
    "n – numero de observaciones\n",
    "\n",
    "k – numero de parametros"
   ]
  },
  {
   "cell_type": "markdown",
   "metadata": {},
   "source": [
    "[![License: CC BY 4.0](https://img.shields.io/badge/License-CC_BY_4.0-lightgrey.svg)](https://creativecommons.org/licenses/by/4.0/) <br/>\n",
    "Isaac Lera and Gabriel Moya <br/>\n",
    "Universitat de les Illes Balears <br/>\n",
    "isaac.lera@uib.edu, gabriel.moya@uib.edu"
   ]
  }
 ],
 "metadata": {
  "kernelspec": {
   "display_name": "Python 3.9.7 64-bit ('my397')",
   "language": "python",
   "name": "python3"
  },
  "language_info": {
   "codemirror_mode": {
    "name": "ipython",
    "version": 3
   },
   "file_extension": ".py",
   "mimetype": "text/x-python",
   "name": "python",
   "nbconvert_exporter": "python",
   "pygments_lexer": "ipython3",
   "version": "3.9.7"
  },
  "orig_nbformat": 4,
  "vscode": {
   "interpreter": {
    "hash": "8b38137d60f5ef6101ebd11fd805c6415d52a5c999d13278488bced8392256b3"
   }
  }
 },
 "nbformat": 4,
 "nbformat_minor": 2
}
